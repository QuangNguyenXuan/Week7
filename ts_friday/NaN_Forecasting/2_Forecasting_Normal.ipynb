{
 "cells": [
  {
   "cell_type": "code",
   "execution_count": 1,
   "metadata": {
    "colab": {
     "base_uri": "https://localhost:8080/",
     "height": 442
    },
    "id": "WhRIua4Lq65a",
    "outputId": "0e64e86f-2828-46e9-e9bb-55ebdb3e3c2f"
   },
   "outputs": [
    {
     "name": "stdout",
     "output_type": "stream",
     "text": [
      "(70000, 2)\n"
     ]
    },
    {
     "data": {
      "text/html": [
       "<div>\n",
       "<style scoped>\n",
       "    .dataframe tbody tr th:only-of-type {\n",
       "        vertical-align: middle;\n",
       "    }\n",
       "\n",
       "    .dataframe tbody tr th {\n",
       "        vertical-align: top;\n",
       "    }\n",
       "\n",
       "    .dataframe thead th {\n",
       "        text-align: right;\n",
       "    }\n",
       "</style>\n",
       "<table border=\"1\" class=\"dataframe\">\n",
       "  <thead>\n",
       "    <tr style=\"text-align: right;\">\n",
       "      <th></th>\n",
       "      <th>Formatted Date</th>\n",
       "      <th>Temperature (C)</th>\n",
       "    </tr>\n",
       "  </thead>\n",
       "  <tbody>\n",
       "    <tr>\n",
       "      <th>0</th>\n",
       "      <td>2006-01-01 00:00:00.000 +0100</td>\n",
       "      <td>0.577778</td>\n",
       "    </tr>\n",
       "    <tr>\n",
       "      <th>1</th>\n",
       "      <td>2006-01-01 01:00:00.000 +0100</td>\n",
       "      <td>1.161111</td>\n",
       "    </tr>\n",
       "    <tr>\n",
       "      <th>2</th>\n",
       "      <td>2006-01-01 02:00:00.000 +0100</td>\n",
       "      <td>1.666667</td>\n",
       "    </tr>\n",
       "    <tr>\n",
       "      <th>3</th>\n",
       "      <td>2006-01-01 03:00:00.000 +0100</td>\n",
       "      <td>1.711111</td>\n",
       "    </tr>\n",
       "    <tr>\n",
       "      <th>4</th>\n",
       "      <td>2006-01-01 04:00:00.000 +0100</td>\n",
       "      <td>1.183333</td>\n",
       "    </tr>\n",
       "    <tr>\n",
       "      <th>5</th>\n",
       "      <td>2006-01-01 05:00:00.000 +0100</td>\n",
       "      <td>1.205556</td>\n",
       "    </tr>\n",
       "    <tr>\n",
       "      <th>6</th>\n",
       "      <td>2006-01-01 06:00:00.000 +0100</td>\n",
       "      <td>2.222222</td>\n",
       "    </tr>\n",
       "    <tr>\n",
       "      <th>7</th>\n",
       "      <td>2006-01-01 07:00:00.000 +0100</td>\n",
       "      <td>2.072222</td>\n",
       "    </tr>\n",
       "    <tr>\n",
       "      <th>8</th>\n",
       "      <td>2006-01-01 08:00:00.000 +0100</td>\n",
       "      <td>2.200000</td>\n",
       "    </tr>\n",
       "    <tr>\n",
       "      <th>9</th>\n",
       "      <td>2006-01-01 09:00:00.000 +0100</td>\n",
       "      <td>2.733333</td>\n",
       "    </tr>\n",
       "    <tr>\n",
       "      <th>10</th>\n",
       "      <td>2006-01-01 10:00:00.000 +0100</td>\n",
       "      <td>2.788889</td>\n",
       "    </tr>\n",
       "    <tr>\n",
       "      <th>11</th>\n",
       "      <td>2006-01-01 11:00:00.000 +0100</td>\n",
       "      <td>3.822222</td>\n",
       "    </tr>\n",
       "    <tr>\n",
       "      <th>12</th>\n",
       "      <td>2006-01-01 12:00:00.000 +0100</td>\n",
       "      <td>4.911111</td>\n",
       "    </tr>\n",
       "    <tr>\n",
       "      <th>13</th>\n",
       "      <td>2006-01-01 13:00:00.000 +0100</td>\n",
       "      <td>6.205556</td>\n",
       "    </tr>\n",
       "    <tr>\n",
       "      <th>14</th>\n",
       "      <td>2006-01-01 14:00:00.000 +0100</td>\n",
       "      <td>7.438889</td>\n",
       "    </tr>\n",
       "  </tbody>\n",
       "</table>\n",
       "</div>"
      ],
      "text/plain": [
       "                   Formatted Date  Temperature (C)\n",
       "0   2006-01-01 00:00:00.000 +0100         0.577778\n",
       "1   2006-01-01 01:00:00.000 +0100         1.161111\n",
       "2   2006-01-01 02:00:00.000 +0100         1.666667\n",
       "3   2006-01-01 03:00:00.000 +0100         1.711111\n",
       "4   2006-01-01 04:00:00.000 +0100         1.183333\n",
       "5   2006-01-01 05:00:00.000 +0100         1.205556\n",
       "6   2006-01-01 06:00:00.000 +0100         2.222222\n",
       "7   2006-01-01 07:00:00.000 +0100         2.072222\n",
       "8   2006-01-01 08:00:00.000 +0100         2.200000\n",
       "9   2006-01-01 09:00:00.000 +0100         2.733333\n",
       "10  2006-01-01 10:00:00.000 +0100         2.788889\n",
       "11  2006-01-01 11:00:00.000 +0100         3.822222\n",
       "12  2006-01-01 12:00:00.000 +0100         4.911111\n",
       "13  2006-01-01 13:00:00.000 +0100         6.205556\n",
       "14  2006-01-01 14:00:00.000 +0100         7.438889"
      ]
     },
     "execution_count": 1,
     "metadata": {},
     "output_type": "execute_result"
    }
   ],
   "source": [
    "import pandas as pd\n",
    "import numpy as np\n",
    "\n",
    "df_train = pd.read_csv('https://www.dropbox.com/s/5cgteeozyccaf6n/weatherHistory_training.csv?dl=1')\n",
    "print(df_train.shape)\n",
    "df_train.head(15)"
   ]
  },
  {
   "cell_type": "code",
   "execution_count": null,
   "metadata": {
    "id": "ftgWdTZVq65e"
   },
   "outputs": [],
   "source": [
    "def slicing_window(df, df_start_idx, df_end_idx, input_size, label_size, label_name):\n",
    "    features = [] # Khai báo list dùng để lưu trữ các X\n",
    "    labels = []   # Khai báo list dùng để lưu trữ các y\n",
    "\n",
    "    window_size = input_size + label_size # Tính kích thước của window\n",
    "\n",
    "    # Nếu df_end_idx = chỉ mục cuối cùng bảng dữ liệu, cần phải dời xuống 1 khoảng = window size \n",
    "    if df_end_idx == None:\n",
    "        df_end_idx = len(df) - window_size \n",
    "    \n",
    "    # Duyệt qua từng mẫu dữ liệu\n",
    "    for idx in range(df_start_idx, df_end_idx):\n",
    "        feature_end_idx = idx + input_size # Tính chỉ mục kết thúc của X\n",
    "        label_start_idx = idx + window_size - label_size # Tính chỉ mục bắt đầu của y\n",
    "\n",
    "        feature = df[idx:feature_end_idx] # Lấy X\n",
    "        label = df[label_name][label_start_idx:(idx+window_size)] # Lấy y\n",
    "\n",
    "        features.append(feature) \n",
    "        labels.append(label)\n",
    "\n",
    "    # Chuyển list thành np.ndarrray\n",
    "    features = np.array(features)\n",
    "    labels = np.array(labels)\n",
    "\n",
    "    return features, labels"
   ]
  },
  {
   "cell_type": "code",
   "execution_count": null,
   "metadata": {
    "id": "ECHSYL5Mq65u"
   },
   "outputs": [],
   "source": [
    "INPUT_SIZE = 48 # Dùng `input_size` giờ trước\n",
    "LABEL_SIZE = 6  # Để dự đoán nhiệt độ trong `label_size` giờ\n",
    "BATCH_SIZE = 32\n",
    "FEATURE_FINAL = ['Temperature (C)']\n",
    "label_name = 'Temperature (C)'"
   ]
  },
  {
   "cell_type": "code",
   "execution_count": null,
   "metadata": {
    "colab": {
     "base_uri": "https://localhost:8080/"
    },
    "id": "GYQM3PkBq65v",
    "outputId": "b7ff84eb-df69-4eab-f602-2826bd2d6e72"
   },
   "outputs": [
    {
     "name": "stdout",
     "output_type": "stream",
     "text": [
      "(69946, 48, 1)\n",
      "(69946, 6)\n"
     ]
    }
   ],
   "source": [
    "X_train, y_train = slicing_window(df_train[FEATURE_FINAL], \n",
    "                                  df_start_idx=0,\n",
    "                                  df_end_idx=None,\n",
    "                                  input_size=INPUT_SIZE,\n",
    "                                  label_size=LABEL_SIZE,\n",
    "                                  label_name = label_name)\n",
    "\n",
    "print(X_train.shape)\n",
    "print(y_train.shape)"
   ]
  },
  {
   "cell_type": "code",
   "execution_count": null,
   "metadata": {
    "id": "POpw8ZfZq65v"
   },
   "outputs": [],
   "source": []
  },
  {
   "cell_type": "code",
   "execution_count": 2,
   "metadata": {
    "colab": {
     "base_uri": "https://localhost:8080/",
     "height": 363
    },
    "id": "6orx20nEq65w",
    "outputId": "2baadecc-484e-4027-9242-201c638c782e"
   },
   "outputs": [
    {
     "data": {
      "text/html": [
       "<div>\n",
       "<style scoped>\n",
       "    .dataframe tbody tr th:only-of-type {\n",
       "        vertical-align: middle;\n",
       "    }\n",
       "\n",
       "    .dataframe tbody tr th {\n",
       "        vertical-align: top;\n",
       "    }\n",
       "\n",
       "    .dataframe thead th {\n",
       "        text-align: right;\n",
       "    }\n",
       "</style>\n",
       "<table border=\"1\" class=\"dataframe\">\n",
       "  <thead>\n",
       "    <tr style=\"text-align: right;\">\n",
       "      <th></th>\n",
       "      <th>Formatted Date</th>\n",
       "      <th>Temperature (C)</th>\n",
       "    </tr>\n",
       "  </thead>\n",
       "  <tbody>\n",
       "    <tr>\n",
       "      <th>0</th>\n",
       "      <td>2013-12-25 16:00:00.000 +0100</td>\n",
       "      <td>7.777778</td>\n",
       "    </tr>\n",
       "    <tr>\n",
       "      <th>1</th>\n",
       "      <td>2013-12-25 17:00:00.000 +0100</td>\n",
       "      <td>7.194444</td>\n",
       "    </tr>\n",
       "    <tr>\n",
       "      <th>2</th>\n",
       "      <td>2013-12-25 18:00:00.000 +0100</td>\n",
       "      <td>7.127778</td>\n",
       "    </tr>\n",
       "    <tr>\n",
       "      <th>3</th>\n",
       "      <td>2013-12-25 19:00:00.000 +0100</td>\n",
       "      <td>7.111111</td>\n",
       "    </tr>\n",
       "    <tr>\n",
       "      <th>4</th>\n",
       "      <td>2013-12-25 20:00:00.000 +0100</td>\n",
       "      <td>7.066667</td>\n",
       "    </tr>\n",
       "    <tr>\n",
       "      <th>5</th>\n",
       "      <td>2013-12-25 21:00:00.000 +0100</td>\n",
       "      <td>6.600000</td>\n",
       "    </tr>\n",
       "    <tr>\n",
       "      <th>6</th>\n",
       "      <td>2013-12-25 22:00:00.000 +0100</td>\n",
       "      <td>6.438889</td>\n",
       "    </tr>\n",
       "    <tr>\n",
       "      <th>7</th>\n",
       "      <td>2013-12-25 23:00:00.000 +0100</td>\n",
       "      <td>5.972222</td>\n",
       "    </tr>\n",
       "    <tr>\n",
       "      <th>8</th>\n",
       "      <td>2013-12-26 00:00:00.000 +0100</td>\n",
       "      <td>5.416667</td>\n",
       "    </tr>\n",
       "    <tr>\n",
       "      <th>9</th>\n",
       "      <td>2013-12-26 01:00:00.000 +0100</td>\n",
       "      <td>5.333333</td>\n",
       "    </tr>\n",
       "    <tr>\n",
       "      <th>10</th>\n",
       "      <td>2013-12-26 02:00:00.000 +0100</td>\n",
       "      <td>5.261111</td>\n",
       "    </tr>\n",
       "    <tr>\n",
       "      <th>11</th>\n",
       "      <td>2013-12-26 03:00:00.000 +0100</td>\n",
       "      <td>4.727778</td>\n",
       "    </tr>\n",
       "    <tr>\n",
       "      <th>12</th>\n",
       "      <td>2013-12-26 04:00:00.000 +0100</td>\n",
       "      <td>5.638889</td>\n",
       "    </tr>\n",
       "    <tr>\n",
       "      <th>13</th>\n",
       "      <td>2013-12-26 05:00:00.000 +0100</td>\n",
       "      <td>4.794444</td>\n",
       "    </tr>\n",
       "    <tr>\n",
       "      <th>14</th>\n",
       "      <td>2013-12-26 06:00:00.000 +0100</td>\n",
       "      <td>4.905556</td>\n",
       "    </tr>\n",
       "  </tbody>\n",
       "</table>\n",
       "</div>"
      ],
      "text/plain": [
       "                   Formatted Date  Temperature (C)\n",
       "0   2013-12-25 16:00:00.000 +0100         7.777778\n",
       "1   2013-12-25 17:00:00.000 +0100         7.194444\n",
       "2   2013-12-25 18:00:00.000 +0100         7.127778\n",
       "3   2013-12-25 19:00:00.000 +0100         7.111111\n",
       "4   2013-12-25 20:00:00.000 +0100         7.066667\n",
       "5   2013-12-25 21:00:00.000 +0100         6.600000\n",
       "6   2013-12-25 22:00:00.000 +0100         6.438889\n",
       "7   2013-12-25 23:00:00.000 +0100         5.972222\n",
       "8   2013-12-26 00:00:00.000 +0100         5.416667\n",
       "9   2013-12-26 01:00:00.000 +0100         5.333333\n",
       "10  2013-12-26 02:00:00.000 +0100         5.261111\n",
       "11  2013-12-26 03:00:00.000 +0100         4.727778\n",
       "12  2013-12-26 04:00:00.000 +0100         5.638889\n",
       "13  2013-12-26 05:00:00.000 +0100         4.794444\n",
       "14  2013-12-26 06:00:00.000 +0100         4.905556"
      ]
     },
     "execution_count": 2,
     "metadata": {},
     "output_type": "execute_result"
    }
   ],
   "source": [
    "df_test = pd.read_csv('https://www.dropbox.com/s/cq8fypkq0w6728o/weatherHistory_testing.csv?dl=1')\n",
    "df_test.head(15)"
   ]
  },
  {
   "cell_type": "code",
   "execution_count": null,
   "metadata": {
    "colab": {
     "base_uri": "https://localhost:8080/"
    },
    "id": "lwCQBK1Iq65w",
    "outputId": "6a016eba-bd7a-4e6c-fd78-589582303459"
   },
   "outputs": [
    {
     "name": "stdout",
     "output_type": "stream",
     "text": [
      "(26399, 48, 1)\n",
      "(26399, 6)\n"
     ]
    }
   ],
   "source": [
    "X_test, y_test = slicing_window(df_test[FEATURE_FINAL], \n",
    "                                  df_start_idx=0,\n",
    "                                  df_end_idx=None,\n",
    "                                  input_size=INPUT_SIZE,\n",
    "                                  label_size=LABEL_SIZE,\n",
    "                                  label_name = label_name)\n",
    "\n",
    "print(X_test.shape)\n",
    "print(y_test.shape)"
   ]
  },
  {
   "cell_type": "code",
   "execution_count": null,
   "metadata": {
    "id": "pHmvvB69q65w"
   },
   "outputs": [],
   "source": []
  },
  {
   "cell_type": "code",
   "execution_count": null,
   "metadata": {
    "id": "5KlI3HW3q65x"
   },
   "outputs": [],
   "source": [
    "import tensorflow as tf\n",
    "\n",
    "# Khởi tạo tf.data.Dataset\n",
    "train_ds = tf.data.Dataset.from_tensor_slices((X_train, y_train)).batch(BATCH_SIZE)\n",
    "test_ds  = tf.data.Dataset.from_tensor_slices((X_test, y_test)).batch(BATCH_SIZE)\n",
    "\n",
    "# Cấu hình các tham số tối ưu cho việc đọc dữ liệu\n",
    "AUTOTUNE = tf.data.AUTOTUNE\n",
    "train_ds = train_ds.cache().prefetch(buffer_size=AUTOTUNE)\n",
    "test_ds  = test_ds.cache().prefetch(buffer_size=AUTOTUNE)"
   ]
  },
  {
   "cell_type": "code",
   "execution_count": null,
   "metadata": {
    "id": "al0pbJbjq65x"
   },
   "outputs": [],
   "source": []
  },
  {
   "cell_type": "markdown",
   "metadata": {
    "id": "83qZCW7iq65y"
   },
   "source": [
    "## Model and train"
   ]
  },
  {
   "cell_type": "code",
   "execution_count": null,
   "metadata": {
    "id": "dUqgF_fzq65z"
   },
   "outputs": [],
   "source": [
    "# Khai báo normalization layer\n",
    "normalize_layer = tf.keras.layers.Normalization(axis=-1)\n",
    "normalize_layer.adapt(np.vstack((X_train, X_test)))"
   ]
  },
  {
   "cell_type": "code",
   "execution_count": null,
   "metadata": {
    "colab": {
     "base_uri": "https://localhost:8080/"
    },
    "id": "epxktHztq650",
    "outputId": "45f6c42b-0e32-41b7-9739-ddbdb34d4247"
   },
   "outputs": [
    {
     "name": "stdout",
     "output_type": "stream",
     "text": [
      "Model: \"sequential\"\n",
      "_________________________________________________________________\n",
      " Layer (type)                Output Shape              Param #   \n",
      "=================================================================\n",
      " normalization (Normalizatio  (None, 48, 1)            3         \n",
      " n)                                                              \n",
      "                                                                 \n",
      " lstm (LSTM)                 (None, 32)                4352      \n",
      "                                                                 \n",
      " dense (Dense)               (None, 6)                 198       \n",
      "                                                                 \n",
      "=================================================================\n",
      "Total params: 4,553\n",
      "Trainable params: 4,550\n",
      "Non-trainable params: 3\n",
      "_________________________________________________________________\n"
     ]
    }
   ],
   "source": [
    "model = tf.keras.Sequential([tf.keras.Input(shape=(INPUT_SIZE, 1), name='input_layer'), \n",
    "                             normalize_layer,  \n",
    "                             tf.keras.layers.LSTM(32),  \n",
    "                             tf.keras.layers.Dense(LABEL_SIZE)])\n",
    "\n",
    "model.summary()"
   ]
  },
  {
   "cell_type": "code",
   "execution_count": null,
   "metadata": {
    "id": "PYP3O67Mq650"
   },
   "outputs": [],
   "source": []
  },
  {
   "cell_type": "code",
   "execution_count": null,
   "metadata": {
    "colab": {
     "base_uri": "https://localhost:8080/"
    },
    "id": "nl3873a5q650",
    "outputId": "18ac738d-d0ca-4b1e-ec2c-95eb7b54e61d"
   },
   "outputs": [
    {
     "name": "stdout",
     "output_type": "stream",
     "text": [
      "Epoch 1/20\n",
      "2186/2186 [==============================] - 25s 7ms/step - loss: 68.5772 - val_loss: 40.8127\n",
      "Epoch 2/20\n",
      "2186/2186 [==============================] - 13s 6ms/step - loss: 19.6406 - val_loss: 18.4384\n",
      "Epoch 3/20\n",
      "2186/2186 [==============================] - 13s 6ms/step - loss: 10.7134 - val_loss: 9.6566\n",
      "Epoch 4/20\n",
      "2186/2186 [==============================] - 14s 6ms/step - loss: 5.3203 - val_loss: 7.4101\n",
      "Epoch 5/20\n",
      "2186/2186 [==============================] - 14s 6ms/step - loss: 4.4588 - val_loss: 6.4479\n",
      "Epoch 6/20\n",
      "2186/2186 [==============================] - 13s 6ms/step - loss: 4.1712 - val_loss: 5.6378\n",
      "Epoch 7/20\n",
      "2186/2186 [==============================] - 13s 6ms/step - loss: 3.9403 - val_loss: 5.2739\n",
      "Epoch 8/20\n",
      "2186/2186 [==============================] - 14s 6ms/step - loss: 3.8109 - val_loss: 5.1923\n",
      "Epoch 9/20\n",
      "2186/2186 [==============================] - 13s 6ms/step - loss: 3.6972 - val_loss: 4.9503\n",
      "Epoch 10/20\n",
      "2186/2186 [==============================] - 13s 6ms/step - loss: 3.6136 - val_loss: 4.6974\n",
      "Epoch 11/20\n",
      "2186/2186 [==============================] - 13s 6ms/step - loss: 3.5627 - val_loss: 4.4677\n",
      "Epoch 12/20\n",
      "2186/2186 [==============================] - 13s 6ms/step - loss: 3.5080 - val_loss: 4.4875\n",
      "Epoch 13/20\n",
      "2186/2186 [==============================] - 13s 6ms/step - loss: 3.4615 - val_loss: 4.1125\n",
      "Epoch 14/20\n",
      "2186/2186 [==============================] - 13s 6ms/step - loss: 3.4187 - val_loss: 4.1544\n",
      "Epoch 15/20\n",
      "2186/2186 [==============================] - 13s 6ms/step - loss: 3.3806 - val_loss: 4.0768\n",
      "Epoch 16/20\n",
      "2186/2186 [==============================] - 13s 6ms/step - loss: 3.3396 - val_loss: 3.8917\n",
      "Epoch 17/20\n",
      "2186/2186 [==============================] - 13s 6ms/step - loss: 3.3138 - val_loss: 3.7920\n",
      "Epoch 18/20\n",
      "2186/2186 [==============================] - 13s 6ms/step - loss: 3.2835 - val_loss: 3.6739\n",
      "Epoch 19/20\n",
      "2186/2186 [==============================] - 13s 6ms/step - loss: 3.2582 - val_loss: 3.5740\n",
      "Epoch 20/20\n",
      "2186/2186 [==============================] - 13s 6ms/step - loss: 3.2348 - val_loss: 3.5252\n"
     ]
    }
   ],
   "source": [
    "# Khai báo một số giá trị siêu tham số\n",
    "EPOCHS = 20\n",
    "LR = 1e-3\n",
    "\n",
    "# Cấu hình một số thông tin cho mô hình\n",
    "model.compile(optimizer=tf.keras.optimizers.Adam(learning_rate=LR),\n",
    "              loss=tf.keras.losses.MeanSquaredError())\n",
    "history = model.fit(train_ds, \n",
    "                    validation_data=test_ds,\n",
    "                    epochs=EPOCHS)"
   ]
  },
  {
   "cell_type": "code",
   "execution_count": null,
   "metadata": {
    "id": "CGVazti3q651"
   },
   "outputs": [],
   "source": []
  },
  {
   "cell_type": "code",
   "execution_count": null,
   "metadata": {
    "colab": {
     "base_uri": "https://localhost:8080/",
     "height": 350
    },
    "id": "1vayA-EFq651",
    "outputId": "ab09fc9a-a54f-40c7-d64e-f98479b7e85c"
   },
   "outputs": [
    {
     "data": {
      "image/png": "[encoded data removed]",
      "text/plain": [
       "<Figure size 720x360 with 2 Axes>"
      ]
     },
     "metadata": {
      "needs_background": "light"
     },
     "output_type": "display_data"
    }
   ],
   "source": [
    "import matplotlib.pyplot as plt\n",
    "\n",
    "train_loss = history.history['loss']# Đọc thông tin loss trên tập train\n",
    "val_loss = history.history['val_loss'] # Đọc thông tin loss trên tập val\n",
    "\n",
    "plt.figure(figsize=(10, 5)) # Cài đặt kích thước khung ảnh\n",
    "\n",
    "plt.subplot(1, 2, 1) # Khởi tạo khung ảnh cho training loss\n",
    "plt.xlabel('Epochs') # Hiển thị tên trục hoành là 'Epochs'\n",
    "plt.ylabel('Loss') # Hiển thị tên trục tung là 'Loss'\n",
    "plt.title('Training loss') # Hiển thị title của khung ảnh hiện tại là 'Training Loss'\n",
    "plt.plot(train_loss, color='red') # Vẽ đường giá trị loss trên tập train qua từng epoch (đường vẽ màu đỏ)\n",
    "\n",
    "plt.subplot(1, 2, 2) # Khởi tạo khung ảnh cho val loss\n",
    "plt.xlabel('Epochs') # Hiển thị tên trục hoành là 'Epochs'\n",
    "plt.ylabel('Loss') # Hiển thị tên trục tung là 'Loss'\n",
    "plt.title('Validation loss') # Hiển thị title của khung ảnh hiện tại là 'Validation loss'\n",
    "plt.plot(val_loss, color='orange') # Vẽ đường giá trị loss trên tập val qua từng epoch (đường vẽ màu đỏ)\n",
    "\n",
    "plt.show() # Hiển thị 2 khung ảnh nhỏ"
   ]
  },
  {
   "cell_type": "code",
   "execution_count": null,
   "metadata": {
    "id": "vXwjt7ugq651"
   },
   "outputs": [],
   "source": []
  }
 ],
 "metadata": {
  "accelerator": "GPU",
  "colab": {
   "provenance": []
  },
  "gpuClass": "standard",
  "kernelspec": {
   "display_name": "Python 3 (ipykernel)",
   "language": "python",
   "name": "python3"
  },
  "language_info": {
   "codemirror_mode": {
    "name": "ipython",
    "version": 3
   },
   "file_extension": ".py",
   "mimetype": "text/x-python",
   "name": "python",
   "nbconvert_exporter": "python",
   "pygments_lexer": "ipython3",
   "version": "3.9.13"
  },
  "toc": {
   "base_numbering": 1,
   "nav_menu": {},
   "number_sections": true,
   "sideBar": true,
   "skip_h1_title": false,
   "title_cell": "Table of Contents",
   "title_sidebar": "Contents",
   "toc_cell": false,
   "toc_position": {},
   "toc_section_display": true,
   "toc_window_display": false
  }
 },
 "nbformat": 4,
 "nbformat_minor": 1
}
