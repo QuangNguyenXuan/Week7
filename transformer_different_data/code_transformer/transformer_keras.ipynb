{
 "cells": [
  {
   "cell_type": "code",
   "execution_count": 17,
   "id": "871786cb",
   "metadata": {},
   "outputs": [
    {
     "name": "stdout",
     "output_type": "stream",
     "text": [
      "(None, 4, 3)\n"
     ]
    }
   ],
   "source": [
    "import tensorflow as tf\n",
    "import numpy as np\n",
    "\n",
    "x = tf.keras.Input(shape=[4, 3])\n",
    "layer  = tf.keras.layers.MultiHeadAttention(num_heads=1, key_dim=2, use_bias=False)\n",
    "\n",
    "output_tensor = layer(x, x)\n",
    "print(output_tensor.shape)"
   ]
  },
  {
   "cell_type": "code",
   "execution_count": 12,
   "id": "84efa9cd",
   "metadata": {},
   "outputs": [
    {
     "name": "stdout",
     "output_type": "stream",
     "text": [
      "4\n"
     ]
    }
   ],
   "source": [
    "weights = layer.get_weights()\n",
    "print(len(weights))"
   ]
  },
  {
   "cell_type": "code",
   "execution_count": 13,
   "id": "de58c74a",
   "metadata": {},
   "outputs": [
    {
     "name": "stdout",
     "output_type": "stream",
     "text": [
      "(3, 1, 2)\n",
      "(3, 1, 2)\n",
      "(3, 1, 2)\n",
      "(1, 2, 3)\n"
     ]
    }
   ],
   "source": [
    "print(weights[0].shape)\n",
    "print(weights[1].shape)\n",
    "print(weights[2].shape)\n",
    "print(weights[3].shape)"
   ]
  },
  {
   "cell_type": "code",
   "execution_count": 14,
   "id": "f67d8271",
   "metadata": {},
   "outputs": [
    {
     "name": "stdout",
     "output_type": "stream",
     "text": [
      "[[[-0.12396264  0.7478199 ]]\n",
      "\n",
      " [[-0.068156   -0.21653873]]\n",
      "\n",
      " [[-0.53729546  0.7586386 ]]]\n",
      "[[[ 0.31700003 -0.14360964]]\n",
      "\n",
      " [[ 0.01657248  0.15539545]]\n",
      "\n",
      " [[ 0.794294   -0.756286  ]]]\n",
      "[[[ 0.50961876  0.5313524 ]]\n",
      "\n",
      " [[-0.09354848  0.17850602]]\n",
      "\n",
      " [[ 0.77781975 -0.711644  ]]]\n",
      "[[[ 0.12971807 -0.16721696  0.6816946 ]\n",
      "  [ 0.9444294   0.3945315   0.16186547]]]\n"
     ]
    }
   ],
   "source": [
    "print(weights[0])\n",
    "print(weights[1])\n",
    "print(weights[2])\n",
    "print(weights[3])"
   ]
  },
  {
   "cell_type": "code",
   "execution_count": 18,
   "id": "67752dda",
   "metadata": {},
   "outputs": [],
   "source": [
    "q = np.array([[[ 0.4,  0.3 ]],\n",
    "              [[-0.1, -0.1]],\n",
    "              [[ 0.2, -0.1]]])\n",
    "k = np.array([[[ 0.1,  0.2 ]],\n",
    "              [[-0.3, -0.4]],\n",
    "              [[-0.1,  0.2]]])\n",
    "v = np.array([[[-0.2,  0.1 ]],\n",
    "              [[-0.4,  0.2]],\n",
    "              [[ 0.4, -0.6]]])\n",
    "o = np.array([[[ 0.1, -0.1,  0.6 ],\n",
    "               [ 0.9,  0.3,  0.1 ]]])"
   ]
  },
  {
   "cell_type": "code",
   "execution_count": 19,
   "id": "359dcfc5",
   "metadata": {},
   "outputs": [],
   "source": [
    "layer.set_weights([q, k, v, o])"
   ]
  },
  {
   "cell_type": "code",
   "execution_count": 21,
   "id": "f7e7aa5a",
   "metadata": {},
   "outputs": [
    {
     "name": "stdout",
     "output_type": "stream",
     "text": [
      "[[[ 0.4  0.3]]\n",
      "\n",
      " [[-0.1 -0.1]]\n",
      "\n",
      " [[ 0.2 -0.1]]]\n",
      "[[[ 0.1  0.2]]\n",
      "\n",
      " [[-0.3 -0.4]]\n",
      "\n",
      " [[-0.1  0.2]]]\n",
      "[[[-0.2  0.1]]\n",
      "\n",
      " [[-0.4  0.2]]\n",
      "\n",
      " [[ 0.4 -0.6]]]\n",
      "[[[ 0.1 -0.1  0.6]\n",
      "  [ 0.9  0.3  0.1]]]\n"
     ]
    }
   ],
   "source": [
    "weights = layer.get_weights()\n",
    "print(weights[0])\n",
    "print(weights[1])\n",
    "print(weights[2])\n",
    "print(weights[3])"
   ]
  },
  {
   "cell_type": "code",
   "execution_count": null,
   "id": "3e05e5c4",
   "metadata": {},
   "outputs": [],
   "source": []
  },
  {
   "cell_type": "code",
   "execution_count": 22,
   "id": "98f2377e",
   "metadata": {},
   "outputs": [
    {
     "name": "stdout",
     "output_type": "stream",
     "text": [
      "(1, 4, 3)\n",
      "[[[1. 2. 1.]\n",
      "  [0. 4. 1.]\n",
      "  [3. 5. 3.]\n",
      "  [1. 3. 3.]]]\n"
     ]
    }
   ],
   "source": [
    "data = np.array([[1., 2., 1., 0.],\n",
    "                 [4., 1., 3., 5.],\n",
    "                 [3., 1., 3., 3.]])\n",
    "data = data.reshape((1, 4, 3))\n",
    "print(data.shape)\n",
    "print(data)"
   ]
  },
  {
   "cell_type": "code",
   "execution_count": 23,
   "id": "6a1058dc",
   "metadata": {},
   "outputs": [
    {
     "name": "stdout",
     "output_type": "stream",
     "text": [
      "tf.Tensor(\n",
      "[[-0.4142852  -0.02864021 -0.52945733]\n",
      " [-0.38586974 -0.0066171  -0.58173496]\n",
      " [-0.39637557 -0.03216458 -0.48553446]\n",
      " [-0.38704437 -0.01838657 -0.53161293]], shape=(4, 3), dtype=float32)\n"
     ]
    }
   ],
   "source": [
    "output = layer(data, data)\n",
    "print(output[0])"
   ]
  },
  {
   "cell_type": "code",
   "execution_count": null,
   "id": "0e4d60fd",
   "metadata": {},
   "outputs": [],
   "source": []
  }
 ],
 "metadata": {
  "kernelspec": {
   "display_name": "Python 3 (ipykernel)",
   "language": "python",
   "name": "python3"
  },
  "language_info": {
   "codemirror_mode": {
    "name": "ipython",
    "version": 3
   },
   "file_extension": ".py",
   "mimetype": "text/x-python",
   "name": "python",
   "nbconvert_exporter": "python",
   "pygments_lexer": "ipython3",
   "version": "3.9.13"
  }
 },
 "nbformat": 4,
 "nbformat_minor": 5
}
