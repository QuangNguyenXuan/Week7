{
 "cells": [
  {
   "cell_type": "code",
   "execution_count": 69,
   "id": "871786cb",
   "metadata": {},
   "outputs": [
    {
     "name": "stdout",
     "output_type": "stream",
     "text": [
      "(None, 4, 3)\n"
     ]
    }
   ],
   "source": [
    "import tensorflow as tf\n",
    "import numpy as np\n",
    "\n",
    "x = tf.keras.Input(shape=[4, 3])\n",
    "layer  = tf.keras.layers.MultiHeadAttention(num_heads=1, key_dim=2, use_bias=False)\n",
    "\n",
    "output_tensor = layer(x, x)\n",
    "print(output_tensor.shape)"
   ]
  },
  {
   "cell_type": "code",
   "execution_count": 70,
   "id": "84efa9cd",
   "metadata": {},
   "outputs": [
    {
     "name": "stdout",
     "output_type": "stream",
     "text": [
      "4\n"
     ]
    }
   ],
   "source": [
    "weights = layer.get_weights()\n",
    "print(len(weights))"
   ]
  },
  {
   "cell_type": "code",
   "execution_count": 71,
   "id": "de58c74a",
   "metadata": {},
   "outputs": [
    {
     "name": "stdout",
     "output_type": "stream",
     "text": [
      "(3, 1, 2)\n",
      "(3, 1, 2)\n",
      "(3, 1, 2)\n",
      "(1, 2, 3)\n"
     ]
    }
   ],
   "source": [
    "print(weights[0].shape)\n",
    "print(weights[1].shape)\n",
    "print(weights[2].shape)\n",
    "print(weights[3].shape)"
   ]
  },
  {
   "cell_type": "code",
   "execution_count": 72,
   "id": "67752dda",
   "metadata": {},
   "outputs": [],
   "source": [
    "q = np.array([[[ 0.4,  0.3 ]],\n",
    "              [[-0.1, -0.1]],\n",
    "              [[ 0.2, -0.1]]])\n",
    "k = np.array([[[ 0.1,  0.2 ]],\n",
    "              [[-0.3, -0.4]],\n",
    "              [[-0.1,  0.2]]])\n",
    "v = np.array([[[-0.2,  0.1 ]],\n",
    "              [[-0.4,  0.2]],\n",
    "              [[ 0.4, -0.6]]])\n",
    "o = np.array([[[ 0.1, -0.1,  0.6 ],\n",
    "               [ 0.9,  0.3,  0.1 ]]])"
   ]
  },
  {
   "cell_type": "code",
   "execution_count": 73,
   "id": "359dcfc5",
   "metadata": {},
   "outputs": [],
   "source": [
    "layer.set_weights([q, k, v, o])"
   ]
  },
  {
   "cell_type": "code",
   "execution_count": 74,
   "id": "f7e7aa5a",
   "metadata": {},
   "outputs": [
    {
     "name": "stdout",
     "output_type": "stream",
     "text": [
      "[[[ 0.4  0.3]]\n",
      "\n",
      " [[-0.1 -0.1]]\n",
      "\n",
      " [[ 0.2 -0.1]]]\n",
      "[[[ 0.1  0.2]]\n",
      "\n",
      " [[-0.3 -0.4]]\n",
      "\n",
      " [[-0.1  0.2]]]\n",
      "[[[-0.2  0.1]]\n",
      "\n",
      " [[-0.4  0.2]]\n",
      "\n",
      " [[ 0.4 -0.6]]]\n",
      "[[[ 0.1 -0.1  0.6]\n",
      "  [ 0.9  0.3  0.1]]]\n"
     ]
    }
   ],
   "source": [
    "weights = layer.get_weights()\n",
    "print(weights[0])\n",
    "print(weights[1])\n",
    "print(weights[2])\n",
    "print(weights[3])"
   ]
  },
  {
   "cell_type": "code",
   "execution_count": null,
   "id": "3e05e5c4",
   "metadata": {},
   "outputs": [],
   "source": []
  },
  {
   "cell_type": "code",
   "execution_count": 75,
   "id": "98f2377e",
   "metadata": {},
   "outputs": [
    {
     "name": "stdout",
     "output_type": "stream",
     "text": [
      "(1, 4, 3)\n",
      "[[[1. 3. 2.]\n",
      "  [6. 2. 1.]\n",
      "  [5. 8. 4.]\n",
      "  [7. 3. 4.]]]\n"
     ]
    }
   ],
   "source": [
    "data = np.array([1., 3., 2., 6., 2., 1., 5., 8., 4., 7., 3., 4.])\n",
    "data = data.reshape((1, 4, 3))\n",
    "print(data.shape)\n",
    "print(data)"
   ]
  },
  {
   "cell_type": "code",
   "execution_count": 76,
   "id": "a6de4210",
   "metadata": {},
   "outputs": [
    {
     "name": "stdout",
     "output_type": "stream",
     "text": [
      "(1, 4, 3)\n",
      "(1, 1, 4, 4)\n"
     ]
    }
   ],
   "source": [
    "output_tensor, weights = layer(data, data, return_attention_scores=True)\n",
    "print(output_tensor.shape)\n",
    "print(weights.shape)"
   ]
  },
  {
   "cell_type": "code",
   "execution_count": 77,
   "id": "f8e40652",
   "metadata": {},
   "outputs": [
    {
     "name": "stdout",
     "output_type": "stream",
     "text": [
      "tf.Tensor(\n",
      "[[[-0.43691295  0.03797075 -0.85948306]\n",
      "  [-0.3176294   0.07249315 -0.8230913 ]\n",
      "  [-0.28671634  0.07962245 -0.80563337]\n",
      "  [-0.21573429  0.11351576 -0.8429406 ]]], shape=(1, 4, 3), dtype=float32)\n",
      "tf.Tensor(\n",
      "[[[[2.6413780e-01 3.0642202e-01 1.8679065e-01 2.4264953e-01]\n",
      "   [3.5392467e-02 5.8209985e-01 1.6682872e-03 3.8083941e-01]\n",
      "   [1.2176767e-01 5.6085670e-01 1.6345147e-02 3.0103046e-01]\n",
      "   [2.4871059e-02 6.6630757e-01 5.4240436e-04 3.0827892e-01]]]], shape=(1, 1, 4, 4), dtype=float32)\n"
     ]
    }
   ],
   "source": [
    "print(output_tensor)\n",
    "print(weights)"
   ]
  },
  {
   "cell_type": "code",
   "execution_count": null,
   "id": "51aa29f7",
   "metadata": {},
   "outputs": [],
   "source": []
  },
  {
   "cell_type": "markdown",
   "id": "fc1e5215",
   "metadata": {},
   "source": [
    "## verify"
   ]
  },
  {
   "cell_type": "code",
   "execution_count": 1,
   "id": "941e1afb",
   "metadata": {},
   "outputs": [
    {
     "name": "stdout",
     "output_type": "stream",
     "text": [
      "[[ 0.4  0.3]\n",
      " [-0.1 -0.1]\n",
      " [ 0.2 -0.1]]\n",
      "[[ 0.1  0.2]\n",
      " [-0.3 -0.4]\n",
      " [-0.1  0.2]]\n",
      "[[-0.2  0.1]\n",
      " [-0.4  0.2]\n",
      " [ 0.4 -0.6]]\n"
     ]
    }
   ],
   "source": [
    "import tensorflow as tf\n",
    "import numpy as np\n",
    "\n",
    "W_Q = np.array([[[ 0.4,  0.3 ]],\n",
    "                [[-0.1, -0.1]],\n",
    "                [[ 0.2, -0.1]]])\n",
    "W_K = np.array([[[ 0.1,  0.2 ]],\n",
    "                [[-0.3, -0.4]],\n",
    "                [[-0.1,  0.2]]])\n",
    "W_V = np.array([[[-0.2,  0.1 ]],\n",
    "                [[-0.4,  0.2]],\n",
    "                [[ 0.4, -0.6]]])\n",
    "\n",
    "W_Q = W_Q.reshape((3, 2))\n",
    "W_K = W_K.reshape((3, 2))\n",
    "W_V = W_V.reshape((3, 2))\n",
    "\n",
    "print(W_Q)\n",
    "print(W_K)\n",
    "print(W_V)"
   ]
  },
  {
   "cell_type": "code",
   "execution_count": 2,
   "id": "05806003",
   "metadata": {},
   "outputs": [
    {
     "name": "stdout",
     "output_type": "stream",
     "text": [
      "(4, 3)\n",
      "[[1. 3. 2.]\n",
      " [6. 2. 1.]\n",
      " [5. 8. 4.]\n",
      " [7. 3. 4.]]\n"
     ]
    }
   ],
   "source": [
    "data = np.array([1., 3., 2., 6., 2., 1., 5., 8., 4., 7., 3., 4.])\n",
    "data = data.reshape((4, 3))\n",
    "print(data.shape)\n",
    "print(data)"
   ]
  },
  {
   "cell_type": "code",
   "execution_count": 3,
   "id": "046239a3",
   "metadata": {},
   "outputs": [
    {
     "name": "stdout",
     "output_type": "stream",
     "text": [
      "[[ 0.5 -0.2]\n",
      " [ 2.4  1.5]\n",
      " [ 2.   0.3]\n",
      " [ 3.3  1.4]]\n",
      "[[-1.  -0.6]\n",
      " [-0.1  0.6]\n",
      " [-2.3 -1.4]\n",
      " [-0.6  1. ]]\n",
      "[[-0.6 -0.5]\n",
      " [-1.6  0.4]\n",
      " [-2.6 -0.3]\n",
      " [-1.  -1.1]]\n"
     ]
    }
   ],
   "source": [
    "Q = np.dot(data, W_Q)\n",
    "K = np.dot(data, W_K)\n",
    "V = np.dot(data, W_V)\n",
    " \n",
    "print(Q)\n",
    "print(K)\n",
    "print(V)"
   ]
  },
  {
   "cell_type": "code",
   "execution_count": null,
   "id": "1f64bcef",
   "metadata": {},
   "outputs": [],
   "source": []
  },
  {
   "cell_type": "code",
   "execution_count": 6,
   "id": "877e6433",
   "metadata": {},
   "outputs": [
    {
     "name": "stdout",
     "output_type": "stream",
     "text": [
      "[[2.64137789e-01 3.06422025e-01 1.86790669e-01 2.42649516e-01]\n",
      " [3.53924695e-02 5.82099808e-01 1.66828771e-03 3.80839435e-01]\n",
      " [1.21767661e-01 5.60856713e-01 1.63451555e-02 3.01030471e-01]\n",
      " [2.48710601e-02 6.66307594e-01 5.42404741e-04 3.08278941e-01]]\n"
     ]
    }
   ],
   "source": [
    "def softmax(x):\n",
    "    max_x = x.max(axis=1)\n",
    "    max_x = max_x.reshape(max_x.shape[0], 1)\n",
    "    \n",
    "    e_x = np.exp(x-max_x)\n",
    "    \n",
    "    sum_e = e_x.sum(axis=1)    \n",
    "    sum_e = sum_e.reshape(sum_e.shape[0], 1)\n",
    "    \n",
    "    return e_x / sum_e\n",
    "\n",
    "alpha = softmax(np.dot(Q, K.T) / np.sqrt(2))\n",
    "print(alpha)"
   ]
  },
  {
   "cell_type": "code",
   "execution_count": 23,
   "id": "7d9ad01c",
   "metadata": {},
   "outputs": [
    {
     "data": {
      "text/plain": [
       "array([[-0.26870058, -0.12020815, -0.6151829 , -0.35355339],\n",
       "       [-2.33345238,  0.46669048, -5.38815367,  0.04242641],\n",
       "       [-1.54149278, -0.01414214, -3.54967604, -0.6363961 ],\n",
       "       [-2.92742207,  0.36062446, -6.75286976, -0.41012193]])"
      ]
     },
     "execution_count": 23,
     "metadata": {},
     "output_type": "execute_result"
    }
   ],
   "source": [
    "np.dot(Q, K.T) / np.sqrt(2)"
   ]
  },
  {
   "cell_type": "code",
   "execution_count": 20,
   "id": "44d5370f",
   "metadata": {},
   "outputs": [
    {
     "name": "stdout",
     "output_type": "stream",
     "text": [
      "[[-1.37706317 -0.33245175]\n",
      " [-1.33777216 -0.20428018]\n",
      " [-1.31395921 -0.17257821]\n",
      " [-1.39070398 -0.08518205]]\n"
     ]
    }
   ],
   "source": [
    "context_vector = np.dot(alpha, V)\n",
    "print(context_vector)"
   ]
  },
  {
   "cell_type": "code",
   "execution_count": 21,
   "id": "0d0f42e1",
   "metadata": {},
   "outputs": [
    {
     "name": "stdout",
     "output_type": "stream",
     "text": [
      "[[ 0.1 -0.1  0.6]\n",
      " [ 0.9  0.3  0.1]]\n"
     ]
    }
   ],
   "source": [
    "W_O = np.array([[[ 0.1, -0.1,  0.6 ],\n",
    "               [ 0.9,  0.3,  0.1 ]]])\n",
    "W_O = W_O.reshape((2, 3))\n",
    "print(W_O)"
   ]
  },
  {
   "cell_type": "code",
   "execution_count": 22,
   "id": "4c4c94f0",
   "metadata": {},
   "outputs": [
    {
     "name": "stdout",
     "output_type": "stream",
     "text": [
      "[[-0.43691289  0.03797079 -0.85948308]\n",
      " [-0.31762937  0.07249316 -0.82309131]\n",
      " [-0.28671631  0.07962246 -0.80563335]\n",
      " [-0.21573424  0.11351578 -0.84294059]]\n"
     ]
    }
   ],
   "source": [
    "output = np.dot(context_vector, W_O)\n",
    "print(output)"
   ]
  },
  {
   "cell_type": "code",
   "execution_count": null,
   "id": "4aa61d5d",
   "metadata": {},
   "outputs": [],
   "source": []
  },
  {
   "cell_type": "code",
   "execution_count": null,
   "id": "0efb947b",
   "metadata": {},
   "outputs": [],
   "source": [
    "# keras\n",
    "[[[-0.43691295  0.03797075 -0.85948306]\n",
    "  [-0.3176294   0.07249315 -0.8230913 ]\n",
    "  [-0.28671634  0.07962245 -0.80563337]\n",
    "  [-0.21573429  0.11351576 -0.8429406 ]]]"
   ]
  }
 ],
 "metadata": {
  "kernelspec": {
   "display_name": "Python 3 (ipykernel)",
   "language": "python",
   "name": "python3"
  },
  "language_info": {
   "codemirror_mode": {
    "name": "ipython",
    "version": 3
   },
   "file_extension": ".py",
   "mimetype": "text/x-python",
   "name": "python",
   "nbconvert_exporter": "python",
   "pygments_lexer": "ipython3",
   "version": "3.9.13"
  }
 },
 "nbformat": 4,
 "nbformat_minor": 5
}
