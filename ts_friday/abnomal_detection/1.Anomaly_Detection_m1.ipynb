{
 "cells": [
  {
   "cell_type": "code",
   "execution_count": 2,
   "metadata": {
    "id": "mQqWzSwV2G7U"
   },
   "outputs": [],
   "source": [
    "import numpy as np\n",
    "import pandas as pd\n",
    "from tensorflow import keras\n",
    "from tensorflow.keras import layers\n",
    "from matplotlib import pyplot as plt"
   ]
  },
  {
   "cell_type": "code",
   "execution_count": 3,
   "metadata": {
    "id": "PCDvt0YB2G7X"
   },
   "outputs": [
    {
     "name": "stdout",
     "output_type": "stream",
     "text": [
      "(4032, 1)\n",
      "(4032, 1)\n"
     ]
    }
   ],
   "source": [
    "small_noise_url = \"art_daily_small_noise.csv\"\n",
    "df_small_noise = pd.read_csv(small_noise_url, parse_dates=True, index_col=\"timestamp\")\n",
    "print(df_small_noise.shape)\n",
    "\n",
    "daily_jumpsup_url = \"art_daily_jumpsup.csv\"\n",
    "df_daily_jumpsup = pd.read_csv(daily_jumpsup_url, parse_dates=True, index_col=\"timestamp\")\n",
    "print(df_daily_jumpsup.shape)"
   ]
  },
  {
   "cell_type": "markdown",
   "metadata": {
    "id": "lVXJIlvI2G7Y"
   },
   "source": [
    "## Quick look at the data"
   ]
  },
  {
   "cell_type": "code",
   "execution_count": 4,
   "metadata": {
    "colab": {
     "base_uri": "https://localhost:8080/"
    },
    "id": "g9idkaof2G7Y",
    "outputId": "5b50eb01-bff4-44e2-a2b9-f70c98b3c56e"
   },
   "outputs": [
    {
     "name": "stdout",
     "output_type": "stream",
     "text": [
      "                         value\n",
      "timestamp                     \n",
      "2014-04-01 00:00:00  18.324919\n",
      "2014-04-01 00:05:00  21.970327\n",
      "2014-04-01 00:10:00  18.624806\n",
      "2014-04-01 00:15:00  21.953684\n",
      "2014-04-01 00:20:00  21.909120\n",
      "                         value\n",
      "timestamp                     \n",
      "2014-04-01 00:00:00  19.761252\n",
      "2014-04-01 00:05:00  20.500833\n",
      "2014-04-01 00:10:00  19.961641\n",
      "2014-04-01 00:15:00  21.490266\n",
      "2014-04-01 00:20:00  20.187739\n"
     ]
    }
   ],
   "source": [
    "print(df_small_noise.head())\n",
    "print(df_daily_jumpsup.head())"
   ]
  },
  {
   "cell_type": "code",
   "execution_count": 5,
   "metadata": {
    "colab": {
     "base_uri": "https://localhost:8080/",
     "height": 303
    },
    "id": "Lk78bEQW2G7a",
    "outputId": "791b2f08-558e-4c37-b565-0a744e9e0adb"
   },
   "outputs": [],
   "source": [
    "fig, ax = plt.subplots()\n",
    "df_small_noise.plot(legend=False, ax=ax)\n",
    "plt.show()"
   ]
  },
  {
   "cell_type": "code",
   "execution_count": 6,
   "metadata": {
    "colab": {
     "base_uri": "https://localhost:8080/",
     "height": 303
    },
    "id": "VALqR-zV2G7b",
    "outputId": "e896ea50-0c78-4c8c-88b4-0f44d2eda18f"
   },
   "outputs": [],
   "source": [
    "fig, ax = plt.subplots()\n",
    "df_daily_jumpsup.plot(legend=False, ax=ax)\n",
    "plt.show()"
   ]
  },
  {
   "cell_type": "markdown",
   "metadata": {
    "id": "JS3MGl6m2G7b"
   },
   "source": [
    "## Prepare training data\n",
    "\n",
    "A `value` for every 5 mins for 14 days.\n",
    "\n",
    "-   24 * 60 / 5 = **288 timesteps per day**\n",
    "-   288 * 14 = **4032 data points** in total"
   ]
  },
  {
   "cell_type": "code",
   "execution_count": 7,
   "metadata": {
    "colab": {
     "base_uri": "https://localhost:8080/"
    },
    "id": "vDdUjY2O2G7c",
    "outputId": "c46b6e59-8773-4df1-f693-91588f109d18"
   },
   "outputs": [
    {
     "name": "stdout",
     "output_type": "stream",
     "text": [
      "Number of training samples: 4032\n"
     ]
    }
   ],
   "source": [
    "# Normalize\n",
    "training_mean = df_small_noise.mean()\n",
    "training_std = df_small_noise.std()\n",
    "df_training_value = (df_small_noise - training_mean) / training_std\n",
    "print(\"Number of training samples:\", len(df_training_value))"
   ]
  },
  {
   "cell_type": "markdown",
   "metadata": {
    "id": "OXbgvygw2G7c"
   },
   "source": [
    "### Create sequences"
   ]
  },
  {
   "cell_type": "code",
   "execution_count": 8,
   "metadata": {
    "colab": {
     "base_uri": "https://localhost:8080/"
    },
    "id": "PWUp1oL22G7d",
    "outputId": "c4ea97c3-9d59-49c0-8c3a-f646d044c441"
   },
   "outputs": [
    {
     "name": "stdout",
     "output_type": "stream",
     "text": [
      "Training input shape:  (3745, 288, 1)\n"
     ]
    }
   ],
   "source": [
    "TIME_STEPS = 288\n",
    "\n",
    "# Generated training sequences for use in the model.\n",
    "def create_sequences(values, time_steps=TIME_STEPS):\n",
    "    output = []\n",
    "    for i in range(len(values) - time_steps + 1):\n",
    "        output.append(values[i : (i + time_steps)])\n",
    "    return np.stack(output)\n",
    "\n",
    "\n",
    "x_train = create_sequences(df_training_value.values)\n",
    "print(\"Training input shape: \", x_train.shape)"
   ]
  },
  {
   "cell_type": "markdown",
   "metadata": {
    "id": "TesF06-R2G7d"
   },
   "source": [
    "## Build a model\n"
   ]
  },
  {
   "cell_type": "code",
   "execution_count": 9,
   "metadata": {
    "colab": {
     "base_uri": "https://localhost:8080/"
    },
    "id": "aXhGSALb2G7e",
    "outputId": "30771bcd-32e1-44ff-e44a-2af5cac24c6f"
   },
   "outputs": [
    {
     "name": "stdout",
     "output_type": "stream",
     "text": [
      "Model: \"sequential\"\n",
      "_________________________________________________________________\n",
      " Layer (type)                Output Shape              Param #   \n",
      "=================================================================\n",
      " conv1d (Conv1D)             (None, 144, 32)           256       \n",
      "                                                                 \n",
      " conv1d_1 (Conv1D)           (None, 72, 16)            3600      \n",
      "                                                                 \n",
      " conv1d_transpose (Conv1DTra  (None, 144, 16)          1808      \n",
      " nspose)                                                         \n",
      "                                                                 \n",
      " conv1d_transpose_1 (Conv1DT  (None, 288, 32)          3616      \n",
      " ranspose)                                                       \n",
      "                                                                 \n",
      " conv1d_transpose_2 (Conv1DT  (None, 288, 1)           225       \n",
      " ranspose)                                                       \n",
      "                                                                 \n",
      "=================================================================\n",
      "Total params: 9,505\n",
      "Trainable params: 9,505\n",
      "Non-trainable params: 0\n",
      "_________________________________________________________________\n"
     ]
    }
   ],
   "source": [
    "model = keras.Sequential([layers.Input(shape=(x_train.shape[1], x_train.shape[2])),\n",
    "        layers.Conv1D(filters=32, kernel_size=7, padding=\"same\", strides=2, activation=\"relu\"),\n",
    "        layers.Conv1D(filters=16, kernel_size=7, padding=\"same\", strides=2, activation=\"relu\"),\n",
    "        layers.Conv1DTranspose(filters=16, kernel_size=7, padding=\"same\", strides=2, activation=\"relu\"),\n",
    "        layers.Conv1DTranspose(filters=32, kernel_size=7, padding=\"same\", strides=2, activation=\"relu\"),\n",
    "        layers.Conv1DTranspose(filters=1, kernel_size=7, padding=\"same\")])\n",
    "model.compile(optimizer=keras.optimizers.Adam(learning_rate=0.001), loss=\"mse\")\n",
    "model.summary()"
   ]
  },
  {
   "cell_type": "markdown",
   "metadata": {
    "id": "l_RMuVSV2G7g"
   },
   "source": [
    "## Train the model\n"
   ]
  },
  {
   "cell_type": "code",
   "execution_count": 10,
   "metadata": {
    "colab": {
     "base_uri": "https://localhost:8080/"
    },
    "id": "sZAosEdl2G7h",
    "outputId": "4d77d12e-8994-4e50-faec-2960e910ebd7"
   },
   "outputs": [
    {
     "name": "stdout",
     "output_type": "stream",
     "text": [
      "Epoch 1/50\n",
      "27/27 [==============================] - 2s 40ms/step - loss: 0.6602 - val_loss: 0.0763\n",
      "Epoch 2/50\n",
      "27/27 [==============================] - 1s 30ms/step - loss: 0.0675 - val_loss: 0.0431\n",
      "Epoch 3/50\n",
      "27/27 [==============================] - 1s 33ms/step - loss: 0.0376 - val_loss: 0.0306\n",
      "Epoch 4/50\n",
      "27/27 [==============================] - 1s 34ms/step - loss: 0.0296 - val_loss: 0.0246\n",
      "Epoch 5/50\n",
      "27/27 [==============================] - 1s 31ms/step - loss: 0.0244 - val_loss: 0.0206\n",
      "Epoch 6/50\n",
      "27/27 [==============================] - 1s 32ms/step - loss: 0.0210 - val_loss: 0.0182\n",
      "Epoch 7/50\n",
      "27/27 [==============================] - 1s 32ms/step - loss: 0.0188 - val_loss: 0.0164\n",
      "Epoch 8/50\n",
      "27/27 [==============================] - 1s 32ms/step - loss: 0.0170 - val_loss: 0.0148\n",
      "Epoch 9/50\n",
      "27/27 [==============================] - 1s 35ms/step - loss: 0.0151 - val_loss: 0.0130\n",
      "Epoch 10/50\n",
      "27/27 [==============================] - 1s 33ms/step - loss: 0.0133 - val_loss: 0.0114\n",
      "Epoch 11/50\n",
      "27/27 [==============================] - 1s 33ms/step - loss: 0.0115 - val_loss: 0.0099\n",
      "Epoch 12/50\n",
      "27/27 [==============================] - 1s 37ms/step - loss: 0.0102 - val_loss: 0.0088\n",
      "Epoch 13/50\n",
      "27/27 [==============================] - 1s 35ms/step - loss: 0.0089 - val_loss: 0.0078\n",
      "Epoch 14/50\n",
      "27/27 [==============================] - 1s 39ms/step - loss: 0.0077 - val_loss: 0.0068\n",
      "Epoch 15/50\n",
      "27/27 [==============================] - 1s 33ms/step - loss: 0.0066 - val_loss: 0.0060\n",
      "Epoch 16/50\n",
      "27/27 [==============================] - 1s 35ms/step - loss: 0.0057 - val_loss: 0.0052\n",
      "Epoch 17/50\n",
      "27/27 [==============================] - 1s 34ms/step - loss: 0.0049 - val_loss: 0.0047\n",
      "Epoch 18/50\n",
      "27/27 [==============================] - 1s 35ms/step - loss: 0.0043 - val_loss: 0.0042\n",
      "Epoch 19/50\n",
      "27/27 [==============================] - 1s 34ms/step - loss: 0.0038 - val_loss: 0.0038\n",
      "Epoch 20/50\n",
      "27/27 [==============================] - 1s 32ms/step - loss: 0.0034 - val_loss: 0.0034\n",
      "Epoch 21/50\n",
      "27/27 [==============================] - 1s 33ms/step - loss: 0.0030 - val_loss: 0.0031\n",
      "Epoch 22/50\n",
      "27/27 [==============================] - 1s 33ms/step - loss: 0.0026 - val_loss: 0.0026\n",
      "Epoch 23/50\n",
      "27/27 [==============================] - 1s 35ms/step - loss: 0.0022 - val_loss: 0.0022\n",
      "Epoch 24/50\n",
      "27/27 [==============================] - 1s 30ms/step - loss: 0.0019 - val_loss: 0.0020\n",
      "Epoch 25/50\n",
      "27/27 [==============================] - 1s 33ms/step - loss: 0.0017 - val_loss: 0.0017\n",
      "Epoch 26/50\n",
      "27/27 [==============================] - 1s 33ms/step - loss: 0.0015 - val_loss: 0.0015\n",
      "Epoch 27/50\n",
      "27/27 [==============================] - 1s 32ms/step - loss: 0.0015 - val_loss: 0.0015\n",
      "Epoch 28/50\n",
      "27/27 [==============================] - 1s 32ms/step - loss: 0.0013 - val_loss: 0.0013\n",
      "Epoch 29/50\n",
      "27/27 [==============================] - 1s 31ms/step - loss: 0.0012 - val_loss: 0.0012\n",
      "Epoch 30/50\n",
      "27/27 [==============================] - 1s 31ms/step - loss: 0.0011 - val_loss: 0.0012\n",
      "Epoch 31/50\n",
      "27/27 [==============================] - 1s 32ms/step - loss: 0.0011 - val_loss: 0.0011\n",
      "Epoch 32/50\n",
      "27/27 [==============================] - 1s 32ms/step - loss: 0.0012 - val_loss: 0.0011\n",
      "Epoch 33/50\n",
      "27/27 [==============================] - 1s 30ms/step - loss: 9.7180e-04 - val_loss: 0.0010\n",
      "Epoch 34/50\n",
      "27/27 [==============================] - 1s 30ms/step - loss: 9.1894e-04 - val_loss: 9.7695e-04\n",
      "Epoch 35/50\n",
      "27/27 [==============================] - 1s 32ms/step - loss: 9.4625e-04 - val_loss: 9.4720e-04\n",
      "Epoch 36/50\n",
      "27/27 [==============================] - 1s 34ms/step - loss: 8.8768e-04 - val_loss: 0.0012\n",
      "Epoch 37/50\n",
      "27/27 [==============================] - 1s 30ms/step - loss: 8.7230e-04 - val_loss: 8.8996e-04\n",
      "Epoch 38/50\n",
      "27/27 [==============================] - 1s 34ms/step - loss: 7.9621e-04 - val_loss: 0.0010\n",
      "Epoch 39/50\n",
      "27/27 [==============================] - 1s 34ms/step - loss: 8.8836e-04 - val_loss: 8.4213e-04\n",
      "Epoch 40/50\n",
      "27/27 [==============================] - 1s 39ms/step - loss: 7.3208e-04 - val_loss: 7.9435e-04\n",
      "Epoch 41/50\n",
      "27/27 [==============================] - 1s 38ms/step - loss: 7.4339e-04 - val_loss: 0.0011\n",
      "Epoch 42/50\n",
      "27/27 [==============================] - 1s 38ms/step - loss: 7.9326e-04 - val_loss: 7.7274e-04\n",
      "Epoch 43/50\n",
      "27/27 [==============================] - 1s 36ms/step - loss: 6.8332e-04 - val_loss: 7.5728e-04\n",
      "Epoch 44/50\n",
      "27/27 [==============================] - 1s 36ms/step - loss: 6.7818e-04 - val_loss: 7.1154e-04\n",
      "Epoch 45/50\n",
      "27/27 [==============================] - 1s 36ms/step - loss: 6.7208e-04 - val_loss: 6.9410e-04\n",
      "Epoch 46/50\n",
      "27/27 [==============================] - 1s 36ms/step - loss: 6.9274e-04 - val_loss: 7.9578e-04\n",
      "Epoch 47/50\n",
      "27/27 [==============================] - 1s 36ms/step - loss: 6.1286e-04 - val_loss: 6.6516e-04\n",
      "Epoch 48/50\n",
      "27/27 [==============================] - 1s 35ms/step - loss: 5.9259e-04 - val_loss: 6.3571e-04\n",
      "Epoch 49/50\n",
      "27/27 [==============================] - 1s 34ms/step - loss: 7.2949e-04 - val_loss: 7.0062e-04\n",
      "Epoch 50/50\n",
      "27/27 [==============================] - 1s 36ms/step - loss: 5.9383e-04 - val_loss: 6.3745e-04\n"
     ]
    }
   ],
   "source": [
    "history = model.fit(x_train,x_train,\n",
    "    epochs=50,\n",
    "    batch_size=128,\n",
    "    validation_split=0.1,\n",
    "    callbacks=[keras.callbacks.EarlyStopping(monitor=\"val_loss\", patience=5, mode=\"min\")])"
   ]
  },
  {
   "cell_type": "code",
   "execution_count": 11,
   "metadata": {
    "colab": {
     "base_uri": "https://localhost:8080/",
     "height": 265
    },
    "id": "H9S9-bUR2G7h",
    "outputId": "cd4f61ea-6a0c-4d4e-97a6-2182a004f75d"
   },
   "outputs": [],
   "source": [
    "plt.plot(history.history[\"loss\"], label=\"Training Loss\")\n",
    "plt.plot(history.history[\"val_loss\"], label=\"Validation Loss\")\n",
    "plt.legend()\n",
    "plt.show()"
   ]
  },
  {
   "cell_type": "code",
   "execution_count": null,
   "metadata": {},
   "outputs": [],
   "source": []
  },
  {
   "cell_type": "markdown",
   "metadata": {
    "id": "3N8BH7RS2G7h"
   },
   "source": [
    "## Detecting anomalies\n"
   ]
  },
  {
   "cell_type": "code",
   "execution_count": 12,
   "metadata": {
    "colab": {
     "base_uri": "https://localhost:8080/",
     "height": 315
    },
    "id": "9-EB95J72G7i",
    "outputId": "0b84ff25-f711-4cfc-8187-e2f425d7cb21"
   },
   "outputs": [
    {
     "name": "stdout",
     "output_type": "stream",
     "text": [
      "118/118 [==============================] - 1s 6ms/step\n",
      "Reconstruction error threshold:  0.023653634768429847\n"
     ]
    }
   ],
   "source": [
    "# Get train MAE loss.\n",
    "x_train_pred = model.predict(x_train)\n",
    "train_mae_loss = np.mean(np.abs(x_train_pred - x_train), axis=1)\n",
    "\n",
    "plt.hist(train_mae_loss, bins=50)\n",
    "plt.xlabel(\"Train MAE loss\")\n",
    "plt.ylabel(\"No of samples\")\n",
    "plt.show()\n",
    "\n",
    "# Get reconstruction loss threshold.\n",
    "threshold = np.max(train_mae_loss)\n",
    "print(\"Reconstruction error threshold: \", threshold)"
   ]
  },
  {
   "cell_type": "markdown",
   "metadata": {
    "id": "O4bmVqLM2G7i"
   },
   "source": [
    "### Compare recontruction."
   ]
  },
  {
   "cell_type": "code",
   "execution_count": 13,
   "metadata": {
    "colab": {
     "base_uri": "https://localhost:8080/",
     "height": 265
    },
    "id": "eywrw_s42G7i",
    "outputId": "6c59de2b-ccde-4855-f6d5-a04936811838"
   },
   "outputs": [],
   "source": [
    "# Checking how the first sequence is learnt\n",
    "plt.plot(x_train[0])\n",
    "plt.plot(x_train_pred[0])\n",
    "plt.show()"
   ]
  },
  {
   "cell_type": "code",
   "execution_count": 14,
   "metadata": {},
   "outputs": [],
   "source": [
    "# Checking how the first sequence is learnt\n",
    "plt.plot(x_train[100])\n",
    "plt.plot(x_train_pred[100])\n",
    "plt.show()"
   ]
  },
  {
   "cell_type": "markdown",
   "metadata": {
    "id": "kkLNupdX2G7i"
   },
   "source": [
    "### Prepare test data"
   ]
  },
  {
   "cell_type": "code",
   "execution_count": 15,
   "metadata": {
    "colab": {
     "base_uri": "https://localhost:8080/",
     "height": 1000
    },
    "id": "CJ9HuBYS2G7i",
    "outputId": "0c8b67a9-ead6-4abf-8453-17d84f3fece9"
   },
   "outputs": [
    {
     "name": "stdout",
     "output_type": "stream",
     "text": [
      "Test input shape:  (3745, 288, 1)\n"
     ]
    }
   ],
   "source": [
    "df_test_value = (df_daily_jumpsup - training_mean) / training_std\n",
    "fig, ax = plt.subplots()\n",
    "df_test_value.plot(legend=False, ax=ax)\n",
    "plt.show()\n",
    "\n",
    "# Create sequences from test values.\n",
    "x_test = create_sequences(df_test_value.values)\n",
    "print(\"Test input shape: \", x_test.shape)"
   ]
  },
  {
   "cell_type": "code",
   "execution_count": 16,
   "metadata": {},
   "outputs": [
    {
     "name": "stdout",
     "output_type": "stream",
     "text": [
      "118/118 [==============================] - 1s 6ms/step\n"
     ]
    }
   ],
   "source": [
    "# Get test MAE loss.\n",
    "x_test_pred = model.predict(x_test)\n",
    "test_mae_loss = np.mean(np.abs(x_test_pred - x_test), axis=1)\n",
    "test_mae_loss = test_mae_loss.reshape((-1))\n",
    "\n",
    "plt.hist(test_mae_loss, bins=50)\n",
    "plt.xlabel(\"test MAE loss\")\n",
    "plt.ylabel(\"No of samples\")\n",
    "plt.show()"
   ]
  },
  {
   "cell_type": "code",
   "execution_count": 17,
   "metadata": {},
   "outputs": [
    {
     "name": "stdout",
     "output_type": "stream",
     "text": [
      "Number of anomaly samples:  395\n",
      "Indices of anomaly samples:  (array([2701, 2702, 2703, 2704, 2705, 2706, 2707, 2708, 2709, 2710, 2711,\n",
      "       2712, 2713, 2714, 2715, 2716, 2717, 2718, 2719, 2720, 2721, 2722,\n",
      "       2723, 2724, 2725, 2726, 2727, 2728, 2729, 2730, 2731, 2732, 2733,\n",
      "       2734, 2735, 2736, 2737, 2738, 2739, 2740, 2741, 2742, 2743, 2744,\n",
      "       2745, 2746, 2747, 2748, 2749, 2750, 2751, 2752, 2753, 2754, 2755,\n",
      "       2756, 2757, 2758, 2759, 2760, 2761, 2762, 2763, 2764, 2765, 2766,\n",
      "       2767, 2768, 2769, 2770, 2771, 2772, 2773, 2774, 2775, 2776, 2777,\n",
      "       2778, 2779, 2780, 2781, 2782, 2783, 2784, 2785, 2786, 2787, 2788,\n",
      "       2789, 2790, 2791, 2792, 2793, 2794, 2795, 2796, 2797, 2798, 2799,\n",
      "       2800, 2801, 2802, 2803, 2804, 2805, 2806, 2807, 2808, 2809, 2810,\n",
      "       2811, 2812, 2813, 2814, 2815, 2816, 2817, 2818, 2819, 2820, 2821,\n",
      "       2822, 2823, 2824, 2825, 2826, 2827, 2828, 2829, 2830, 2831, 2832,\n",
      "       2833, 2834, 2835, 2836, 2837, 2838, 2839, 2840, 2841, 2842, 2843,\n",
      "       2844, 2845, 2846, 2847, 2848, 2849, 2850, 2851, 2852, 2853, 2854,\n",
      "       2855, 2856, 2857, 2858, 2859, 2860, 2861, 2862, 2863, 2864, 2865,\n",
      "       2866, 2867, 2868, 2869, 2870, 2871, 2872, 2873, 2874, 2875, 2876,\n",
      "       2877, 2878, 2879, 2880, 2881, 2882, 2883, 2884, 2885, 2886, 2887,\n",
      "       2888, 2889, 2890, 2891, 2892, 2893, 2894, 2895, 2896, 2897, 2898,\n",
      "       2899, 2900, 2901, 2902, 2903, 2904, 2905, 2906, 2907, 2908, 2909,\n",
      "       2910, 2911, 2912, 2913, 2914, 2915, 2916, 2917, 2918, 2919, 2920,\n",
      "       2921, 2922, 2923, 2924, 2925, 2926, 2927, 2928, 2929, 2930, 2931,\n",
      "       2932, 2933, 2934, 2935, 2936, 2937, 2938, 2939, 2940, 2941, 2942,\n",
      "       2943, 2944, 2945, 2946, 2947, 2948, 2949, 2950, 2951, 2952, 2953,\n",
      "       2954, 2955, 2956, 2957, 2958, 2959, 2960, 2961, 2962, 2963, 2964,\n",
      "       2965, 2966, 2967, 2968, 2969, 2970, 2971, 2972, 2973, 2974, 2975,\n",
      "       2976, 2977, 2978, 2979, 2980, 2981, 2982, 2983, 2984, 2985, 2986,\n",
      "       2987, 2988, 2989, 2990, 2991, 2992, 2993, 2994, 2995, 2996, 2997,\n",
      "       2998, 2999, 3000, 3001, 3002, 3003, 3004, 3005, 3006, 3007, 3008,\n",
      "       3009, 3010, 3011, 3012, 3013, 3014, 3015, 3016, 3017, 3018, 3019,\n",
      "       3020, 3021, 3022, 3023, 3024, 3025, 3026, 3027, 3028, 3029, 3030,\n",
      "       3031, 3032, 3033, 3034, 3035, 3036, 3037, 3038, 3039, 3040, 3041,\n",
      "       3042, 3043, 3044, 3045, 3046, 3047, 3048, 3049, 3050, 3051, 3052,\n",
      "       3053, 3054, 3055, 3056, 3057, 3058, 3059, 3060, 3061, 3062, 3063,\n",
      "       3064, 3065, 3066, 3067, 3068, 3069, 3070, 3071, 3072, 3073, 3074,\n",
      "       3075, 3076, 3077, 3078, 3079, 3080, 3081, 3082, 3083, 3084, 3085,\n",
      "       3086, 3087, 3088, 3089, 3090, 3091, 3092, 3093, 3094, 3095],\n",
      "      dtype=int64),)\n"
     ]
    }
   ],
   "source": [
    "# Detect all the samples which are anomalies.\n",
    "anomalies = test_mae_loss > threshold\n",
    "print(\"Number of anomaly samples: \", np.sum(anomalies))\n",
    "print(\"Indices of anomaly samples: \", np.where(anomalies))"
   ]
  },
  {
   "cell_type": "code",
   "execution_count": null,
   "metadata": {},
   "outputs": [],
   "source": []
  },
  {
   "cell_type": "code",
   "execution_count": null,
   "metadata": {},
   "outputs": [],
   "source": []
  },
  {
   "cell_type": "code",
   "execution_count": null,
   "metadata": {},
   "outputs": [],
   "source": []
  },
  {
   "cell_type": "code",
   "execution_count": 18,
   "metadata": {
    "id": "nji4hzUS2G7j"
   },
   "outputs": [],
   "source": [
    "# data i is an anomaly if samples [(i - timesteps + 1) to (i)] are anomalies\n",
    "anomalous_data_indices = []\n",
    "for data_idx in range(TIME_STEPS - 1, len(df_test_value) - TIME_STEPS + 1):\n",
    "    if np.all(anomalies[data_idx - TIME_STEPS + 1 : data_idx+1]):\n",
    "        anomalous_data_indices.append(data_idx)"
   ]
  },
  {
   "cell_type": "code",
   "execution_count": 19,
   "metadata": {
    "colab": {
     "base_uri": "https://localhost:8080/",
     "height": 303
    },
    "id": "81tHV6k82G7k",
    "outputId": "a965f355-66e0-4f7c-e782-47f9a98a84cc"
   },
   "outputs": [],
   "source": [
    "df_subset = df_daily_jumpsup.iloc[anomalous_data_indices]\n",
    "fig, ax = plt.subplots()\n",
    "df_daily_jumpsup.plot(legend=False, ax=ax)\n",
    "df_subset.plot(legend=False, ax=ax, color=\"r\")\n",
    "plt.show()"
   ]
  },
  {
   "cell_type": "code",
   "execution_count": 99,
   "metadata": {
    "id": "O78rOl7s8FeP"
   },
   "outputs": [
    {
     "name": "stdout",
     "output_type": "stream",
     "text": [
      "2988 0.08203310428591688\n"
     ]
    }
   ],
   "source": [
    "i = anomalous_data_indices[0]\n",
    "print(i, test_mae_loss[i])"
   ]
  },
  {
   "cell_type": "code",
   "execution_count": null,
   "metadata": {},
   "outputs": [],
   "source": []
  },
  {
   "cell_type": "code",
   "execution_count": null,
   "metadata": {},
   "outputs": [],
   "source": []
  },
  {
   "cell_type": "code",
   "execution_count": null,
   "metadata": {},
   "outputs": [],
   "source": []
  },
  {
   "cell_type": "code",
   "execution_count": null,
   "metadata": {},
   "outputs": [],
   "source": []
  },
  {
   "cell_type": "code",
   "execution_count": null,
   "metadata": {},
   "outputs": [],
   "source": []
  },
  {
   "cell_type": "code",
   "execution_count": null,
   "metadata": {},
   "outputs": [],
   "source": []
  },
  {
   "cell_type": "code",
   "execution_count": null,
   "metadata": {},
   "outputs": [],
   "source": []
  },
  {
   "cell_type": "code",
   "execution_count": null,
   "metadata": {},
   "outputs": [],
   "source": []
  },
  {
   "cell_type": "code",
   "execution_count": null,
   "metadata": {},
   "outputs": [],
   "source": []
  },
  {
   "cell_type": "code",
   "execution_count": 72,
   "metadata": {},
   "outputs": [],
   "source": [
    "th = 50\n",
    "data = np.array([22, 23, 31, 56, 66, 54, 25, 22, 31, 19])\n",
    "anomaly_data = data > th"
   ]
  },
  {
   "cell_type": "code",
   "execution_count": 73,
   "metadata": {},
   "outputs": [
    {
     "name": "stdout",
     "output_type": "stream",
     "text": [
      "[False False False  True  True  True False False False False]\n",
      "(10,)\n"
     ]
    }
   ],
   "source": [
    "print(anomaly_data)\n",
    "print(anomaly_data.shape)"
   ]
  },
  {
   "cell_type": "code",
   "execution_count": 74,
   "metadata": {},
   "outputs": [
    {
     "name": "stdout",
     "output_type": "stream",
     "text": [
      "2\n",
      "3\n",
      "4\n",
      "5\n",
      "6\n",
      "7\n"
     ]
    }
   ],
   "source": [
    "TIME_STEPS = 3\n",
    "LENGTH = 10\n",
    "p = TIME_STEPS - 1\n",
    "\n",
    "for data_idx in range(p, LENGTH - p):\n",
    "    print(data_idx)"
   ]
  },
  {
   "cell_type": "code",
   "execution_count": 75,
   "metadata": {},
   "outputs": [
    {
     "name": "stdout",
     "output_type": "stream",
     "text": [
      "2 [22 23 31]\n",
      "3 [23 31 56]\n",
      "4 [31 56 66]\n",
      "5 [56 66 54]\n",
      "6 [66 54 25]\n",
      "7 [54 25 22]\n"
     ]
    }
   ],
   "source": [
    "for data_idx in range(p, LENGTH - p):\n",
    "    print(data_idx, data[data_idx - p : data_idx+1])"
   ]
  },
  {
   "cell_type": "code",
   "execution_count": 76,
   "metadata": {},
   "outputs": [
    {
     "data": {
      "text/plain": [
       "[22, 23, 31, 56, 66, 54, 25, 22, 31, 19]"
      ]
     },
     "execution_count": 76,
     "metadata": {},
     "output_type": "execute_result"
    }
   ],
   "source": [
    "[22, 23, 31, 56, 66, 54, 25, 22, 31, 19]"
   ]
  },
  {
   "cell_type": "code",
   "execution_count": null,
   "metadata": {},
   "outputs": [],
   "source": []
  },
  {
   "cell_type": "code",
   "execution_count": 78,
   "metadata": {},
   "outputs": [
    {
     "name": "stdout",
     "output_type": "stream",
     "text": [
      "[False False False]\n",
      "[False False  True]\n",
      "[False  True  True]\n",
      "[ True  True  True]\n",
      "[ True  True False]\n",
      "[ True False False]\n",
      "[5]\n"
     ]
    }
   ],
   "source": [
    "indices = []\n",
    "for data_idx in range(p, LENGTH - p):    \n",
    "    print(anomaly_data[data_idx - p : data_idx + 1])\n",
    "    if np.all(anomaly_data[data_idx - p : data_idx + 1]):        \n",
    "        indices.append(data_idx)\n",
    "        \n",
    "print(indices)"
   ]
  },
  {
   "cell_type": "code",
   "execution_count": null,
   "metadata": {},
   "outputs": [],
   "source": [
    "np.all([False,  True,  True])"
   ]
  },
  {
   "cell_type": "code",
   "execution_count": null,
   "metadata": {},
   "outputs": [],
   "source": []
  }
 ],
 "metadata": {
  "accelerator": "GPU",
  "colab": {
   "provenance": []
  },
  "gpuClass": "standard",
  "kernelspec": {
   "display_name": "Python 3 (ipykernel)",
   "language": "python",
   "name": "python3"
  },
  "language_info": {
   "codemirror_mode": {
    "name": "ipython",
    "version": 3
   },
   "file_extension": ".py",
   "mimetype": "text/x-python",
   "name": "python",
   "nbconvert_exporter": "python",
   "pygments_lexer": "ipython3",
   "version": "3.9.13"
  }
 },
 "nbformat": 4,
 "nbformat_minor": 1
}
