{
 "cells": [
  {
   "cell_type": "code",
   "execution_count": null,
   "metadata": {
    "colab": {
     "base_uri": "https://localhost:8080/",
     "height": 442
    },
    "id": "WhRIua4Lq65a",
    "outputId": "241bca10-26fe-423f-9e23-33c4896c2f70"
   },
   "outputs": [
    {
     "name": "stdout",
     "output_type": "stream",
     "text": [
      "(70000, 2)\n"
     ]
    },
    {
     "data": {
      "text/html": [
       "\n",
       "  <div id=\"df-97f52e23-1bf3-4fb2-942f-75e1a45985ef\">\n",
       "    <div class=\"colab-df-container\">\n",
       "      <div>\n",
       "<style scoped>\n",
       "    .dataframe tbody tr th:only-of-type {\n",
       "        vertical-align: middle;\n",
       "    }\n",
       "\n",
       "    .dataframe tbody tr th {\n",
       "        vertical-align: top;\n",
       "    }\n",
       "\n",
       "    .dataframe thead th {\n",
       "        text-align: right;\n",
       "    }\n",
       "</style>\n",
       "<table border=\"1\" class=\"dataframe\">\n",
       "  <thead>\n",
       "    <tr style=\"text-align: right;\">\n",
       "      <th></th>\n",
       "      <th>Formatted Date</th>\n",
       "      <th>Temperature (C)</th>\n",
       "    </tr>\n",
       "  </thead>\n",
       "  <tbody>\n",
       "    <tr>\n",
       "      <th>0</th>\n",
       "      <td>2006-01-01 00:00:00.000 +0100</td>\n",
       "      <td>0.577778</td>\n",
       "    </tr>\n",
       "    <tr>\n",
       "      <th>1</th>\n",
       "      <td>2006-01-01 01:00:00.000 +0100</td>\n",
       "      <td>1.161111</td>\n",
       "    </tr>\n",
       "    <tr>\n",
       "      <th>2</th>\n",
       "      <td>2006-01-01 02:00:00.000 +0100</td>\n",
       "      <td>1.666667</td>\n",
       "    </tr>\n",
       "    <tr>\n",
       "      <th>3</th>\n",
       "      <td>2006-01-01 03:00:00.000 +0100</td>\n",
       "      <td>1.711111</td>\n",
       "    </tr>\n",
       "    <tr>\n",
       "      <th>4</th>\n",
       "      <td>2006-01-01 04:00:00.000 +0100</td>\n",
       "      <td>1.183333</td>\n",
       "    </tr>\n",
       "    <tr>\n",
       "      <th>...</th>\n",
       "      <td>...</td>\n",
       "      <td>...</td>\n",
       "    </tr>\n",
       "    <tr>\n",
       "      <th>69995</th>\n",
       "      <td>2013-12-25 11:00:00.000 +0100</td>\n",
       "      <td>7.133333</td>\n",
       "    </tr>\n",
       "    <tr>\n",
       "      <th>69996</th>\n",
       "      <td>2013-12-25 12:00:00.000 +0100</td>\n",
       "      <td>8.800000</td>\n",
       "    </tr>\n",
       "    <tr>\n",
       "      <th>69997</th>\n",
       "      <td>2013-12-25 13:00:00.000 +0100</td>\n",
       "      <td>9.883333</td>\n",
       "    </tr>\n",
       "    <tr>\n",
       "      <th>69998</th>\n",
       "      <td>2013-12-25 14:00:00.000 +0100</td>\n",
       "      <td>9.883333</td>\n",
       "    </tr>\n",
       "    <tr>\n",
       "      <th>69999</th>\n",
       "      <td>2013-12-25 15:00:00.000 +0100</td>\n",
       "      <td>8.838889</td>\n",
       "    </tr>\n",
       "  </tbody>\n",
       "</table>\n",
       "<p>70000 rows × 2 columns</p>\n",
       "</div>\n",
       "      <button class=\"colab-df-convert\" onclick=\"convertToInteractive('df-97f52e23-1bf3-4fb2-942f-75e1a45985ef')\"\n",
       "              title=\"Convert this dataframe to an interactive table.\"\n",
       "              style=\"display:none;\">\n",
       "        \n",
       "  <svg xmlns=\"http://www.w3.org/2000/svg\" height=\"24px\"viewBox=\"0 0 24 24\"\n",
       "       width=\"24px\">\n",
       "    <path d=\"M0 0h24v24H0V0z\" fill=\"none\"/>\n",
       "    <path d=\"M18.56 5.44l.94 2.06.94-2.06 2.06-.94-2.06-.94-.94-2.06-.94 2.06-2.06.94zm-11 1L8.5 8.5l.94-2.06 2.06-.94-2.06-.94L8.5 2.5l-.94 2.06-2.06.94zm10 10l.94 2.06.94-2.06 2.06-.94-2.06-.94-.94-2.06-.94 2.06-2.06.94z\"/><path d=\"M17.41 7.96l-1.37-1.37c-.4-.4-.92-.59-1.43-.59-.52 0-1.04.2-1.43.59L10.3 9.45l-7.72 7.72c-.78.78-.78 2.05 0 2.83L4 21.41c.39.39.9.59 1.41.59.51 0 1.02-.2 1.41-.59l7.78-7.78 2.81-2.81c.8-.78.8-2.07 0-2.86zM5.41 20L4 18.59l7.72-7.72 1.47 1.35L5.41 20z\"/>\n",
       "  </svg>\n",
       "      </button>\n",
       "      \n",
       "  <style>\n",
       "    .colab-df-container {\n",
       "      display:flex;\n",
       "      flex-wrap:wrap;\n",
       "      gap: 12px;\n",
       "    }\n",
       "\n",
       "    .colab-df-convert {\n",
       "      background-color: #E8F0FE;\n",
       "      border: none;\n",
       "      border-radius: 50%;\n",
       "      cursor: pointer;\n",
       "      display: none;\n",
       "      fill: #1967D2;\n",
       "      height: 32px;\n",
       "      padding: 0 0 0 0;\n",
       "      width: 32px;\n",
       "    }\n",
       "\n",
       "    .colab-df-convert:hover {\n",
       "      background-color: #E2EBFA;\n",
       "      box-shadow: 0px 1px 2px rgba(60, 64, 67, 0.3), 0px 1px 3px 1px rgba(60, 64, 67, 0.15);\n",
       "      fill: #174EA6;\n",
       "    }\n",
       "\n",
       "    [theme=dark] .colab-df-convert {\n",
       "      background-color: #3B4455;\n",
       "      fill: #D2E3FC;\n",
       "    }\n",
       "\n",
       "    [theme=dark] .colab-df-convert:hover {\n",
       "      background-color: #434B5C;\n",
       "      box-shadow: 0px 1px 3px 1px rgba(0, 0, 0, 0.15);\n",
       "      filter: drop-shadow(0px 1px 2px rgba(0, 0, 0, 0.3));\n",
       "      fill: #FFFFFF;\n",
       "    }\n",
       "  </style>\n",
       "\n",
       "      <script>\n",
       "        const buttonEl =\n",
       "          document.querySelector('#df-97f52e23-1bf3-4fb2-942f-75e1a45985ef button.colab-df-convert');\n",
       "        buttonEl.style.display =\n",
       "          google.colab.kernel.accessAllowed ? 'block' : 'none';\n",
       "\n",
       "        async function convertToInteractive(key) {\n",
       "          const element = document.querySelector('#df-97f52e23-1bf3-4fb2-942f-75e1a45985ef');\n",
       "          const dataTable =\n",
       "            await google.colab.kernel.invokeFunction('convertToInteractive',\n",
       "                                                     [key], {});\n",
       "          if (!dataTable) return;\n",
       "\n",
       "          const docLinkHtml = 'Like what you see? Visit the ' +\n",
       "            '<a target=\"_blank\" href=https://colab.research.google.com/notebooks/data_table.ipynb>data table notebook</a>'\n",
       "            + ' to learn more about interactive tables.';\n",
       "          element.innerHTML = '';\n",
       "          dataTable['output_type'] = 'display_data';\n",
       "          await google.colab.output.renderOutput(dataTable, element);\n",
       "          const docLink = document.createElement('div');\n",
       "          docLink.innerHTML = docLinkHtml;\n",
       "          element.appendChild(docLink);\n",
       "        }\n",
       "      </script>\n",
       "    </div>\n",
       "  </div>\n",
       "  "
      ],
      "text/plain": [
       "                      Formatted Date  Temperature (C)\n",
       "0      2006-01-01 00:00:00.000 +0100         0.577778\n",
       "1      2006-01-01 01:00:00.000 +0100         1.161111\n",
       "2      2006-01-01 02:00:00.000 +0100         1.666667\n",
       "3      2006-01-01 03:00:00.000 +0100         1.711111\n",
       "4      2006-01-01 04:00:00.000 +0100         1.183333\n",
       "...                              ...              ...\n",
       "69995  2013-12-25 11:00:00.000 +0100         7.133333\n",
       "69996  2013-12-25 12:00:00.000 +0100         8.800000\n",
       "69997  2013-12-25 13:00:00.000 +0100         9.883333\n",
       "69998  2013-12-25 14:00:00.000 +0100         9.883333\n",
       "69999  2013-12-25 15:00:00.000 +0100         8.838889\n",
       "\n",
       "[70000 rows x 2 columns]"
      ]
     },
     "execution_count": 1,
     "metadata": {},
     "output_type": "execute_result"
    }
   ],
   "source": [
    "import pandas as pd\n",
    "import numpy as np\n",
    "\n",
    "df_train = pd.read_csv('https://www.dropbox.com/s/685m83ypf8f7jhq/weatherHistory_train_filled_s1.csv?dl=1')\n",
    "print(df_train.shape)\n",
    "df_train"
   ]
  },
  {
   "cell_type": "code",
   "execution_count": null,
   "metadata": {
    "id": "ftgWdTZVq65e"
   },
   "outputs": [],
   "source": [
    "def slicing_window(df, df_start_idx, df_end_idx, input_size, label_size, label_name):\n",
    "    features = [] # Khai báo list dùng để lưu trữ các X\n",
    "    labels = []   # Khai báo list dùng để lưu trữ các y\n",
    "\n",
    "    window_size = input_size + label_size # Tính kích thước của window\n",
    "\n",
    "    # Nếu df_end_idx = chỉ mục cuối cùng bảng dữ liệu, cần phải dời xuống 1 khoảng = window size \n",
    "    if df_end_idx == None:\n",
    "        df_end_idx = len(df) - window_size \n",
    "    \n",
    "    # Duyệt qua từng mẫu dữ liệu\n",
    "    for idx in range(df_start_idx, df_end_idx):\n",
    "        feature_end_idx = idx + input_size # Tính chỉ mục kết thúc của X\n",
    "        label_start_idx = idx + window_size - label_size # Tính chỉ mục bắt đầu của y\n",
    "\n",
    "        feature = df[idx:feature_end_idx] # Lấy X\n",
    "        label = df[label_name][label_start_idx:(idx+window_size)] # Lấy y\n",
    "\n",
    "        features.append(feature) \n",
    "        labels.append(label)\n",
    "\n",
    "    # Chuyển list thành np.ndarrray\n",
    "    features = np.array(features)\n",
    "    labels = np.array(labels)\n",
    "\n",
    "    return features, labels"
   ]
  },
  {
   "cell_type": "code",
   "execution_count": null,
   "metadata": {
    "id": "ECHSYL5Mq65u"
   },
   "outputs": [],
   "source": [
    "INPUT_SIZE = 48 # Dùng `input_size` giờ trước\n",
    "LABEL_SIZE = 6  # Để dự đoán nhiệt độ trong `label_size` giờ\n",
    "BATCH_SIZE = 32\n",
    "FEATURE_FINAL = ['Temperature (C)']\n",
    "label_name = 'Temperature (C)'"
   ]
  },
  {
   "cell_type": "code",
   "execution_count": null,
   "metadata": {
    "colab": {
     "base_uri": "https://localhost:8080/"
    },
    "id": "GYQM3PkBq65v",
    "outputId": "c5fb0898-14e0-4814-a525-2edbb5a5d8a6"
   },
   "outputs": [
    {
     "name": "stdout",
     "output_type": "stream",
     "text": [
      "(69946, 48, 1)\n",
      "(69946, 6)\n"
     ]
    }
   ],
   "source": [
    "X_train, y_train = slicing_window(df_train[FEATURE_FINAL], \n",
    "                                  df_start_idx=0,\n",
    "                                  df_end_idx=None,\n",
    "                                  input_size=INPUT_SIZE,\n",
    "                                  label_size=LABEL_SIZE,\n",
    "                                  label_name = label_name)\n",
    "\n",
    "print(X_train.shape)\n",
    "print(y_train.shape)"
   ]
  },
  {
   "cell_type": "code",
   "execution_count": null,
   "metadata": {
    "id": "POpw8ZfZq65v"
   },
   "outputs": [],
   "source": []
  },
  {
   "cell_type": "code",
   "execution_count": null,
   "metadata": {
    "colab": {
     "base_uri": "https://localhost:8080/",
     "height": 363
    },
    "id": "6orx20nEq65w",
    "outputId": "d072e95a-1aa1-4d87-befa-0c86de25bfb6"
   },
   "outputs": [
    {
     "data": {
      "text/html": [
       "\n",
       "  <div id=\"df-c3b21f96-21ea-4b33-80c8-5ba475c63702\">\n",
       "    <div class=\"colab-df-container\">\n",
       "      <div>\n",
       "<style scoped>\n",
       "    .dataframe tbody tr th:only-of-type {\n",
       "        vertical-align: middle;\n",
       "    }\n",
       "\n",
       "    .dataframe tbody tr th {\n",
       "        vertical-align: top;\n",
       "    }\n",
       "\n",
       "    .dataframe thead th {\n",
       "        text-align: right;\n",
       "    }\n",
       "</style>\n",
       "<table border=\"1\" class=\"dataframe\">\n",
       "  <thead>\n",
       "    <tr style=\"text-align: right;\">\n",
       "      <th></th>\n",
       "      <th>Formatted Date</th>\n",
       "      <th>Temperature (C)</th>\n",
       "    </tr>\n",
       "  </thead>\n",
       "  <tbody>\n",
       "    <tr>\n",
       "      <th>0</th>\n",
       "      <td>2013-12-25 16:00:00.000 +0100</td>\n",
       "      <td>7.777778</td>\n",
       "    </tr>\n",
       "    <tr>\n",
       "      <th>1</th>\n",
       "      <td>2013-12-25 17:00:00.000 +0100</td>\n",
       "      <td>7.194444</td>\n",
       "    </tr>\n",
       "    <tr>\n",
       "      <th>2</th>\n",
       "      <td>2013-12-25 18:00:00.000 +0100</td>\n",
       "      <td>7.127778</td>\n",
       "    </tr>\n",
       "    <tr>\n",
       "      <th>3</th>\n",
       "      <td>2013-12-25 19:00:00.000 +0100</td>\n",
       "      <td>7.111111</td>\n",
       "    </tr>\n",
       "    <tr>\n",
       "      <th>4</th>\n",
       "      <td>2013-12-25 20:00:00.000 +0100</td>\n",
       "      <td>7.066667</td>\n",
       "    </tr>\n",
       "    <tr>\n",
       "      <th>5</th>\n",
       "      <td>2013-12-25 21:00:00.000 +0100</td>\n",
       "      <td>6.600000</td>\n",
       "    </tr>\n",
       "    <tr>\n",
       "      <th>6</th>\n",
       "      <td>2013-12-25 22:00:00.000 +0100</td>\n",
       "      <td>6.438889</td>\n",
       "    </tr>\n",
       "    <tr>\n",
       "      <th>7</th>\n",
       "      <td>2013-12-25 23:00:00.000 +0100</td>\n",
       "      <td>5.972222</td>\n",
       "    </tr>\n",
       "    <tr>\n",
       "      <th>8</th>\n",
       "      <td>2013-12-26 00:00:00.000 +0100</td>\n",
       "      <td>5.416667</td>\n",
       "    </tr>\n",
       "    <tr>\n",
       "      <th>9</th>\n",
       "      <td>2013-12-26 01:00:00.000 +0100</td>\n",
       "      <td>5.333333</td>\n",
       "    </tr>\n",
       "  </tbody>\n",
       "</table>\n",
       "</div>\n",
       "      <button class=\"colab-df-convert\" onclick=\"convertToInteractive('df-c3b21f96-21ea-4b33-80c8-5ba475c63702')\"\n",
       "              title=\"Convert this dataframe to an interactive table.\"\n",
       "              style=\"display:none;\">\n",
       "        \n",
       "  <svg xmlns=\"http://www.w3.org/2000/svg\" height=\"24px\"viewBox=\"0 0 24 24\"\n",
       "       width=\"24px\">\n",
       "    <path d=\"M0 0h24v24H0V0z\" fill=\"none\"/>\n",
       "    <path d=\"M18.56 5.44l.94 2.06.94-2.06 2.06-.94-2.06-.94-.94-2.06-.94 2.06-2.06.94zm-11 1L8.5 8.5l.94-2.06 2.06-.94-2.06-.94L8.5 2.5l-.94 2.06-2.06.94zm10 10l.94 2.06.94-2.06 2.06-.94-2.06-.94-.94-2.06-.94 2.06-2.06.94z\"/><path d=\"M17.41 7.96l-1.37-1.37c-.4-.4-.92-.59-1.43-.59-.52 0-1.04.2-1.43.59L10.3 9.45l-7.72 7.72c-.78.78-.78 2.05 0 2.83L4 21.41c.39.39.9.59 1.41.59.51 0 1.02-.2 1.41-.59l7.78-7.78 2.81-2.81c.8-.78.8-2.07 0-2.86zM5.41 20L4 18.59l7.72-7.72 1.47 1.35L5.41 20z\"/>\n",
       "  </svg>\n",
       "      </button>\n",
       "      \n",
       "  <style>\n",
       "    .colab-df-container {\n",
       "      display:flex;\n",
       "      flex-wrap:wrap;\n",
       "      gap: 12px;\n",
       "    }\n",
       "\n",
       "    .colab-df-convert {\n",
       "      background-color: #E8F0FE;\n",
       "      border: none;\n",
       "      border-radius: 50%;\n",
       "      cursor: pointer;\n",
       "      display: none;\n",
       "      fill: #1967D2;\n",
       "      height: 32px;\n",
       "      padding: 0 0 0 0;\n",
       "      width: 32px;\n",
       "    }\n",
       "\n",
       "    .colab-df-convert:hover {\n",
       "      background-color: #E2EBFA;\n",
       "      box-shadow: 0px 1px 2px rgba(60, 64, 67, 0.3), 0px 1px 3px 1px rgba(60, 64, 67, 0.15);\n",
       "      fill: #174EA6;\n",
       "    }\n",
       "\n",
       "    [theme=dark] .colab-df-convert {\n",
       "      background-color: #3B4455;\n",
       "      fill: #D2E3FC;\n",
       "    }\n",
       "\n",
       "    [theme=dark] .colab-df-convert:hover {\n",
       "      background-color: #434B5C;\n",
       "      box-shadow: 0px 1px 3px 1px rgba(0, 0, 0, 0.15);\n",
       "      filter: drop-shadow(0px 1px 2px rgba(0, 0, 0, 0.3));\n",
       "      fill: #FFFFFF;\n",
       "    }\n",
       "  </style>\n",
       "\n",
       "      <script>\n",
       "        const buttonEl =\n",
       "          document.querySelector('#df-c3b21f96-21ea-4b33-80c8-5ba475c63702 button.colab-df-convert');\n",
       "        buttonEl.style.display =\n",
       "          google.colab.kernel.accessAllowed ? 'block' : 'none';\n",
       "\n",
       "        async function convertToInteractive(key) {\n",
       "          const element = document.querySelector('#df-c3b21f96-21ea-4b33-80c8-5ba475c63702');\n",
       "          const dataTable =\n",
       "            await google.colab.kernel.invokeFunction('convertToInteractive',\n",
       "                                                     [key], {});\n",
       "          if (!dataTable) return;\n",
       "\n",
       "          const docLinkHtml = 'Like what you see? Visit the ' +\n",
       "            '<a target=\"_blank\" href=https://colab.research.google.com/notebooks/data_table.ipynb>data table notebook</a>'\n",
       "            + ' to learn more about interactive tables.';\n",
       "          element.innerHTML = '';\n",
       "          dataTable['output_type'] = 'display_data';\n",
       "          await google.colab.output.renderOutput(dataTable, element);\n",
       "          const docLink = document.createElement('div');\n",
       "          docLink.innerHTML = docLinkHtml;\n",
       "          element.appendChild(docLink);\n",
       "        }\n",
       "      </script>\n",
       "    </div>\n",
       "  </div>\n",
       "  "
      ],
      "text/plain": [
       "                  Formatted Date  Temperature (C)\n",
       "0  2013-12-25 16:00:00.000 +0100         7.777778\n",
       "1  2013-12-25 17:00:00.000 +0100         7.194444\n",
       "2  2013-12-25 18:00:00.000 +0100         7.127778\n",
       "3  2013-12-25 19:00:00.000 +0100         7.111111\n",
       "4  2013-12-25 20:00:00.000 +0100         7.066667\n",
       "5  2013-12-25 21:00:00.000 +0100         6.600000\n",
       "6  2013-12-25 22:00:00.000 +0100         6.438889\n",
       "7  2013-12-25 23:00:00.000 +0100         5.972222\n",
       "8  2013-12-26 00:00:00.000 +0100         5.416667\n",
       "9  2013-12-26 01:00:00.000 +0100         5.333333"
      ]
     },
     "execution_count": 5,
     "metadata": {},
     "output_type": "execute_result"
    }
   ],
   "source": [
    "df_test = pd.read_csv('https://www.dropbox.com/s/cq8fypkq0w6728o/weatherHistory_testing.csv?dl=1')\n",
    "df_test.head(10)"
   ]
  },
  {
   "cell_type": "code",
   "execution_count": null,
   "metadata": {
    "colab": {
     "base_uri": "https://localhost:8080/"
    },
    "id": "lwCQBK1Iq65w",
    "outputId": "27b01d88-7d83-4861-a924-9ed2b05482cf"
   },
   "outputs": [
    {
     "name": "stdout",
     "output_type": "stream",
     "text": [
      "(26399, 48, 1)\n",
      "(26399, 6)\n"
     ]
    }
   ],
   "source": [
    "X_test, y_test = slicing_window(df_test[FEATURE_FINAL], \n",
    "                                  df_start_idx=0,\n",
    "                                  df_end_idx=None,\n",
    "                                  input_size=INPUT_SIZE,\n",
    "                                  label_size=LABEL_SIZE,\n",
    "                                  label_name = label_name)\n",
    "\n",
    "print(X_test.shape)\n",
    "print(y_test.shape)"
   ]
  },
  {
   "cell_type": "code",
   "execution_count": null,
   "metadata": {
    "id": "pHmvvB69q65w"
   },
   "outputs": [],
   "source": []
  },
  {
   "cell_type": "code",
   "execution_count": null,
   "metadata": {
    "id": "5KlI3HW3q65x"
   },
   "outputs": [],
   "source": [
    "import tensorflow as tf\n",
    "\n",
    "# Khởi tạo tf.data.Dataset\n",
    "train_ds = tf.data.Dataset.from_tensor_slices((X_train, y_train)).batch(BATCH_SIZE)\n",
    "test_ds  = tf.data.Dataset.from_tensor_slices((X_test, y_test)).batch(BATCH_SIZE)\n",
    "\n",
    "# Cấu hình các tham số tối ưu cho việc đọc dữ liệu\n",
    "AUTOTUNE = tf.data.AUTOTUNE\n",
    "train_ds = train_ds.cache().prefetch(buffer_size=AUTOTUNE)\n",
    "test_ds  = test_ds.cache().prefetch(buffer_size=AUTOTUNE)"
   ]
  },
  {
   "cell_type": "code",
   "execution_count": null,
   "metadata": {
    "id": "al0pbJbjq65x"
   },
   "outputs": [],
   "source": []
  },
  {
   "cell_type": "markdown",
   "metadata": {
    "id": "83qZCW7iq65y"
   },
   "source": [
    "## Model and train"
   ]
  },
  {
   "cell_type": "code",
   "execution_count": null,
   "metadata": {
    "id": "dUqgF_fzq65z"
   },
   "outputs": [],
   "source": [
    "# Khai báo normalization layer\n",
    "normalize_layer = tf.keras.layers.Normalization(axis=-1)\n",
    "normalize_layer.adapt(np.vstack((X_train, X_test)))"
   ]
  },
  {
   "cell_type": "code",
   "execution_count": null,
   "metadata": {
    "colab": {
     "base_uri": "https://localhost:8080/"
    },
    "id": "epxktHztq650",
    "outputId": "6e95aeb6-ebc8-45f4-e90f-2437fa60ef95"
   },
   "outputs": [
    {
     "name": "stdout",
     "output_type": "stream",
     "text": [
      "Model: \"sequential\"\n",
      "_________________________________________________________________\n",
      " Layer (type)                Output Shape              Param #   \n",
      "=================================================================\n",
      " normalization (Normalizatio  (None, 48, 1)            3         \n",
      " n)                                                              \n",
      "                                                                 \n",
      " lstm (LSTM)                 (None, 32)                4352      \n",
      "                                                                 \n",
      " dense (Dense)               (None, 6)                 198       \n",
      "                                                                 \n",
      "=================================================================\n",
      "Total params: 4,553\n",
      "Trainable params: 4,550\n",
      "Non-trainable params: 3\n",
      "_________________________________________________________________\n"
     ]
    }
   ],
   "source": [
    "model = tf.keras.Sequential([tf.keras.Input(shape=(INPUT_SIZE, 1), name='input_layer'), \n",
    "                             normalize_layer,  \n",
    "                             tf.keras.layers.LSTM(32),  \n",
    "                             tf.keras.layers.Dense(LABEL_SIZE)])\n",
    "\n",
    "model.summary()"
   ]
  },
  {
   "cell_type": "code",
   "execution_count": null,
   "metadata": {
    "id": "PYP3O67Mq650"
   },
   "outputs": [],
   "source": []
  },
  {
   "cell_type": "code",
   "execution_count": null,
   "metadata": {
    "colab": {
     "base_uri": "https://localhost:8080/"
    },
    "id": "nl3873a5q650",
    "outputId": "1923de8b-f1a1-4b07-e028-394921100d78"
   },
   "outputs": [
    {
     "name": "stdout",
     "output_type": "stream",
     "text": [
      "Epoch 1/20\n",
      "2186/2186 [==============================] - 21s 6ms/step - loss: 66.7896 - val_loss: 51.9591\n",
      "Epoch 2/20\n",
      "2186/2186 [==============================] - 13s 6ms/step - loss: 27.0463 - val_loss: 32.3287\n",
      "Epoch 3/20\n",
      "2186/2186 [==============================] - 14s 6ms/step - loss: 16.2333 - val_loss: 17.9552\n",
      "Epoch 4/20\n",
      "2186/2186 [==============================] - 15s 7ms/step - loss: 10.2010 - val_loss: 11.1444\n",
      "Epoch 5/20\n",
      "2186/2186 [==============================] - 13s 6ms/step - loss: 5.8857 - val_loss: 11.2296\n",
      "Epoch 6/20\n",
      "2186/2186 [==============================] - 13s 6ms/step - loss: 4.8544 - val_loss: 9.3404\n",
      "Epoch 7/20\n",
      "2186/2186 [==============================] - 13s 6ms/step - loss: 4.5152 - val_loss: 7.7035\n",
      "Epoch 8/20\n",
      "2186/2186 [==============================] - 13s 6ms/step - loss: 4.3129 - val_loss: 6.2744\n",
      "Epoch 9/20\n",
      "2186/2186 [==============================] - 13s 6ms/step - loss: 4.2131 - val_loss: 5.9029\n",
      "Epoch 10/20\n",
      "2186/2186 [==============================] - 13s 6ms/step - loss: 4.0935 - val_loss: 5.3079\n",
      "Epoch 11/20\n",
      "2186/2186 [==============================] - 13s 6ms/step - loss: 4.0181 - val_loss: 5.1955\n",
      "Epoch 12/20\n",
      "2186/2186 [==============================] - 13s 6ms/step - loss: 3.9476 - val_loss: 4.9084\n",
      "Epoch 13/20\n",
      "2186/2186 [==============================] - 13s 6ms/step - loss: 3.8919 - val_loss: 4.8527\n",
      "Epoch 14/20\n",
      "2186/2186 [==============================] - 13s 6ms/step - loss: 3.8402 - val_loss: 4.7066\n",
      "Epoch 15/20\n",
      "2186/2186 [==============================] - 13s 6ms/step - loss: 3.7925 - val_loss: 4.5319\n",
      "Epoch 16/20\n",
      "2186/2186 [==============================] - 13s 6ms/step - loss: 3.7632 - val_loss: 4.3024\n",
      "Epoch 17/20\n",
      "2186/2186 [==============================] - 13s 6ms/step - loss: 3.7070 - val_loss: 4.3400\n",
      "Epoch 18/20\n",
      "2186/2186 [==============================] - 13s 6ms/step - loss: 3.6774 - val_loss: 3.9885\n",
      "Epoch 19/20\n",
      "2186/2186 [==============================] - 13s 6ms/step - loss: 3.6503 - val_loss: 3.9049\n",
      "Epoch 20/20\n",
      "2186/2186 [==============================] - 13s 6ms/step - loss: 3.6101 - val_loss: 3.8383\n"
     ]
    }
   ],
   "source": [
    "# Khai báo một số giá trị siêu tham số\n",
    "EPOCHS = 20\n",
    "LR = 1e-3\n",
    "\n",
    "# Cấu hình một số thông tin cho mô hình\n",
    "model.compile(optimizer=tf.keras.optimizers.Adam(learning_rate=LR),\n",
    "              loss=tf.keras.losses.MeanSquaredError())\n",
    "history = model.fit(train_ds, \n",
    "                    validation_data=test_ds,\n",
    "                    epochs=EPOCHS)"
   ]
  },
  {
   "cell_type": "code",
   "execution_count": null,
   "metadata": {
    "id": "CGVazti3q651"
   },
   "outputs": [],
   "source": []
  },
  {
   "cell_type": "code",
   "execution_count": null,
   "metadata": {
    "colab": {
     "base_uri": "https://localhost:8080/",
     "height": 350
    },
    "id": "1vayA-EFq651",
    "outputId": "572f73f9-3055-4c09-a21f-b2dfc1b8c069"
   },
   "outputs": [
    {
     "data": {
      "image/png": "[encoded data removed]",
      "text/plain": [
       "<Figure size 720x360 with 2 Axes>"
      ]
     },
     "metadata": {
      "needs_background": "light"
     },
     "output_type": "display_data"
    }
   ],
   "source": [
    "import matplotlib.pyplot as plt\n",
    "\n",
    "train_loss = history.history['loss']# Đọc thông tin loss trên tập train\n",
    "val_loss = history.history['val_loss'] # Đọc thông tin loss trên tập val\n",
    "\n",
    "plt.figure(figsize=(10, 5)) # Cài đặt kích thước khung ảnh\n",
    "\n",
    "plt.subplot(1, 2, 1) # Khởi tạo khung ảnh cho training loss\n",
    "plt.xlabel('Epochs') # Hiển thị tên trục hoành là 'Epochs'\n",
    "plt.ylabel('Loss') # Hiển thị tên trục tung là 'Loss'\n",
    "plt.title('Training loss') # Hiển thị title của khung ảnh hiện tại là 'Training Loss'\n",
    "plt.plot(train_loss, color='red') # Vẽ đường giá trị loss trên tập train qua từng epoch (đường vẽ màu đỏ)\n",
    "\n",
    "plt.subplot(1, 2, 2) # Khởi tạo khung ảnh cho val loss\n",
    "plt.xlabel('Epochs') # Hiển thị tên trục hoành là 'Epochs'\n",
    "plt.ylabel('Loss') # Hiển thị tên trục tung là 'Loss'\n",
    "plt.title('Validation loss') # Hiển thị title của khung ảnh hiện tại là 'Validation loss'\n",
    "plt.plot(val_loss, color='orange') # Vẽ đường giá trị loss trên tập val qua từng epoch (đường vẽ màu đỏ)\n",
    "\n",
    "plt.show() # Hiển thị 2 khung ảnh nhỏ"
   ]
  },
  {
   "cell_type": "code",
   "execution_count": null,
   "metadata": {
    "id": "vXwjt7ugq651"
   },
   "outputs": [],
   "source": []
  }
 ],
 "metadata": {
  "accelerator": "GPU",
  "colab": {
   "provenance": []
  },
  "gpuClass": "standard",
  "kernelspec": {
   "display_name": "Python 3 (ipykernel)",
   "language": "python",
   "name": "python3"
  },
  "language_info": {
   "codemirror_mode": {
    "name": "ipython",
    "version": 3
   },
   "file_extension": ".py",
   "mimetype": "text/x-python",
   "name": "python",
   "nbconvert_exporter": "python",
   "pygments_lexer": "ipython3",
   "version": "3.9.13"
  },
  "toc": {
   "base_numbering": 1,
   "nav_menu": {},
   "number_sections": true,
   "sideBar": true,
   "skip_h1_title": false,
   "title_cell": "Table of Contents",
   "title_sidebar": "Contents",
   "toc_cell": false,
   "toc_position": {},
   "toc_section_display": true,
   "toc_window_display": false
  }
 },
 "nbformat": 4,
 "nbformat_minor": 1
}
