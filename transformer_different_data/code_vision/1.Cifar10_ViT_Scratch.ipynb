{
 "cells": [
  {
   "cell_type": "code",
   "execution_count": 1,
   "metadata": {
    "colab": {
     "base_uri": "https://localhost:8080/"
    },
    "id": "8VeF7X3QQt64",
    "outputId": "998b47f3-482e-48a9-d5df-1bafe98187c0",
    "tags": []
   },
   "outputs": [
    {
     "name": "stdout",
     "output_type": "stream",
     "text": [
      "Requirement already satisfied: tensorflow_addons in /home/aivn2020/miniconda3/envs/utsf_env/lib/python3.10/site-packages (0.19.0)\n",
      "Requirement already satisfied: typeguard>=2.7 in /home/aivn2020/miniconda3/envs/utsf_env/lib/python3.10/site-packages (from tensorflow_addons) (2.13.3)\n",
      "Requirement already satisfied: packaging in /home/aivn2020/miniconda3/envs/utsf_env/lib/python3.10/site-packages (from tensorflow_addons) (23.0)\n"
     ]
    }
   ],
   "source": [
    "!pip install tensorflow_addons"
   ]
  },
  {
   "cell_type": "code",
   "execution_count": 1,
   "metadata": {
    "id": "OMx_wogOREqZ",
    "tags": []
   },
   "outputs": [
    {
     "name": "stderr",
     "output_type": "stream",
     "text": [
      "/home/aivn2020/miniconda3/envs/utsf_env/lib/python3.10/site-packages/tensorflow_addons/utils/ensure_tf_install.py:53: UserWarning: Tensorflow Addons supports using Python ops for all Tensorflow versions above or equal to 2.9.0 and strictly below 2.12.0 (nightly versions are not supported). \n",
      " The versions of TensorFlow you are currently using is 2.8.4 and is not supported. \n",
      "Some things might work, some things might not.\n",
      "If you were to encounter a bug, do not file an issue.\n",
      "If you want to make sure you're using a tested and supported configuration, either change the TensorFlow version or the TensorFlow Addons's version. \n",
      "You can find the compatibility matrix in TensorFlow Addon's readme:\n",
      "https://github.com/tensorflow/addons\n",
      "  warnings.warn(\n"
     ]
    }
   ],
   "source": [
    "import numpy as np\n",
    "import tensorflow as tf\n",
    "from tensorflow import keras\n",
    "from tensorflow.keras import layers\n",
    "import tensorflow_addons as tfa"
   ]
  },
  {
   "cell_type": "code",
   "execution_count": 2,
   "metadata": {
    "colab": {
     "base_uri": "https://localhost:8080/"
    },
    "id": "Bvk9AR1VQt65",
    "outputId": "fedc2607-dccb-427b-9bd2-691de670335e",
    "tags": []
   },
   "outputs": [
    {
     "name": "stdout",
     "output_type": "stream",
     "text": [
      "x_train shape: (50000, 32, 32, 3) - y_train shape: (50000, 1)\n",
      "x_test shape: (10000, 32, 32, 3) - y_test shape: (10000, 1)\n"
     ]
    }
   ],
   "source": [
    "num_classes = 100\n",
    "input_shape = (32, 32, 3)\n",
    "\n",
    "(x_train, y_train), (x_test, y_test) = keras.datasets.cifar10.load_data()\n",
    "\n",
    "print(f\"x_train shape: {x_train.shape} - y_train shape: {y_train.shape}\")\n",
    "print(f\"x_test shape: {x_test.shape} - y_test shape: {y_test.shape}\")\n"
   ]
  },
  {
   "cell_type": "markdown",
   "metadata": {
    "id": "1y06LY6DQt65"
   },
   "source": [
    "## Configure the hyperparameters"
   ]
  },
  {
   "cell_type": "code",
   "execution_count": 8,
   "metadata": {
    "id": "F_e2Rl8lQt66",
    "tags": []
   },
   "outputs": [],
   "source": [
    "learning_rate = 0.001\n",
    "weight_decay = 0.0001\n",
    "batch_size = 32\n",
    "num_epochs = 40\n",
    "image_size = 72  # We'll resize input images to this size\n",
    "patch_size = 6  # Size of the patches to be extract from the input images\n",
    "num_patches = (image_size // patch_size) ** 2\n",
    "projection_dim = 64\n",
    "num_heads = 4\n",
    "transformer_units = [\n",
    "    projection_dim * 2,\n",
    "    projection_dim,\n",
    "]  # Size of the transformer layers\n",
    "transformer_layers = 8\n",
    "mlp_head_units = [2048, 1024]  # Size of the dense layers of the final classifier\n"
   ]
  },
  {
   "cell_type": "markdown",
   "metadata": {
    "id": "hYvoMX4oQt66"
   },
   "source": [
    "## Use data augmentation"
   ]
  },
  {
   "cell_type": "code",
   "execution_count": 9,
   "metadata": {
    "id": "cOB5jYfBQt66",
    "tags": []
   },
   "outputs": [],
   "source": [
    "data_augmentation = keras.Sequential(\n",
    "    [\n",
    "        layers.Normalization(),\n",
    "        layers.Resizing(image_size, image_size),\n",
    "        layers.RandomFlip(\"horizontal\"),\n",
    "        layers.RandomRotation(factor=0.02),\n",
    "        layers.RandomZoom(\n",
    "            height_factor=0.2, width_factor=0.2\n",
    "        ),\n",
    "    ],\n",
    "    name=\"data_augmentation\",\n",
    ")\n",
    "# Compute the mean and the variance of the training data for normalization.\n",
    "data_augmentation.layers[0].adapt(x_train)\n"
   ]
  },
  {
   "cell_type": "markdown",
   "metadata": {
    "id": "eDyLQYutQt67"
   },
   "source": [
    "## Implement multilayer perceptron (MLP)"
   ]
  },
  {
   "cell_type": "code",
   "execution_count": 10,
   "metadata": {
    "id": "7jDiVzaiQt67",
    "tags": []
   },
   "outputs": [],
   "source": [
    "\n",
    "def mlp(x, hidden_units, dropout_rate):\n",
    "    for units in hidden_units:\n",
    "        x = layers.Dense(units, activation=tf.nn.gelu)(x)\n",
    "        x = layers.Dropout(dropout_rate)(x)\n",
    "    return x\n"
   ]
  },
  {
   "cell_type": "markdown",
   "metadata": {
    "id": "_4DRJ0JFQt67"
   },
   "source": [
    "## Implement patch creation as a layer"
   ]
  },
  {
   "cell_type": "code",
   "execution_count": 11,
   "metadata": {
    "id": "aaz8coxfQt68",
    "tags": []
   },
   "outputs": [],
   "source": [
    "\n",
    "class Patches(layers.Layer):\n",
    "    def __init__(self, patch_size):\n",
    "        super().__init__()\n",
    "        self.patch_size = patch_size\n",
    "\n",
    "    def call(self, images):\n",
    "        batch_size = tf.shape(images)[0]\n",
    "        patches = tf.image.extract_patches(\n",
    "            images=images,\n",
    "            sizes=[1, self.patch_size, self.patch_size, 1],\n",
    "            strides=[1, self.patch_size, self.patch_size, 1],\n",
    "            rates=[1, 1, 1, 1],\n",
    "            padding=\"VALID\",\n",
    "        )\n",
    "        patch_dims = patches.shape[-1]\n",
    "        patches = tf.reshape(patches, [batch_size, -1, patch_dims])\n",
    "        return patches\n"
   ]
  },
  {
   "cell_type": "markdown",
   "metadata": {
    "id": "QGnKV8H2Qt68"
   },
   "source": [
    "Let's display patches for a sample image"
   ]
  },
  {
   "cell_type": "code",
   "execution_count": 12,
   "metadata": {
    "colab": {
     "base_uri": "https://localhost:8080/",
     "height": 551
    },
    "id": "HEgPZ5DqQt68",
    "outputId": "85a3fd20-a04d-45a0-a6fb-0d479122af0e",
    "tags": []
   },
   "outputs": [
    {
     "name": "stdout",
     "output_type": "stream",
     "text": [
      "Image size: 72 X 72\n",
      "Patch size: 6 X 6\n",
      "Patches per image: 144\n",
      "Elements per patch: 108\n"
     ]
    },
    {
     "data": {
      "image/png": "[encoded data removed]",
      "text/plain": [
       "<Figure size 400x400 with 1 Axes>"
      ]
     },
     "metadata": {},
     "output_type": "display_data"
    },
    {
     "data": {
      "image/png": "[encoded data removed]",
      "text/plain": [
       "<Figure size 400x400 with 144 Axes>"
      ]
     },
     "metadata": {},
     "output_type": "display_data"
    }
   ],
   "source": [
    "import matplotlib.pyplot as plt\n",
    "\n",
    "plt.figure(figsize=(4, 4))\n",
    "image = x_train[np.random.choice(range(x_train.shape[0]))]\n",
    "plt.imshow(image.astype(\"uint8\"))\n",
    "plt.axis(\"off\")\n",
    "\n",
    "resized_image = tf.image.resize(\n",
    "    tf.convert_to_tensor([image]), size=(image_size, image_size)\n",
    ")\n",
    "patches = Patches(patch_size)(resized_image)\n",
    "print(f\"Image size: {image_size} X {image_size}\")\n",
    "print(f\"Patch size: {patch_size} X {patch_size}\")\n",
    "print(f\"Patches per image: {patches.shape[1]}\")\n",
    "print(f\"Elements per patch: {patches.shape[-1]}\")\n",
    "\n",
    "n = int(np.sqrt(patches.shape[1]))\n",
    "plt.figure(figsize=(4, 4))\n",
    "for i, patch in enumerate(patches[0]):\n",
    "    ax = plt.subplot(n, n, i + 1)\n",
    "    patch_img = tf.reshape(patch, (patch_size, patch_size, 3))\n",
    "    plt.imshow(patch_img.numpy().astype(\"uint8\"))\n",
    "    plt.axis(\"off\")"
   ]
  },
  {
   "cell_type": "markdown",
   "metadata": {
    "id": "WmdcObF6Qt69"
   },
   "source": [
    "## Implement the patch encoding layer"
   ]
  },
  {
   "cell_type": "code",
   "execution_count": 13,
   "metadata": {
    "id": "EUN3w_OJQt69",
    "tags": []
   },
   "outputs": [],
   "source": [
    "# linearly transform a patch\n",
    "class PatchEncoder(layers.Layer):\n",
    "    def __init__(self, num_patches, projection_dim):\n",
    "        super().__init__()\n",
    "        self.num_patches = num_patches\n",
    "        self.projection = layers.Dense(units=projection_dim)\n",
    "        self.position_embedding = layers.Embedding(\n",
    "            input_dim=num_patches, output_dim=projection_dim\n",
    "        )\n",
    "\n",
    "    def call(self, patch):\n",
    "        positions = tf.range(start=0, limit=self.num_patches, delta=1)\n",
    "        encoded = self.projection(patch) + self.position_embedding(positions)\n",
    "        return encoded\n"
   ]
  },
  {
   "cell_type": "markdown",
   "metadata": {
    "id": "KmF__Co3Qt69"
   },
   "source": [
    "## Build the ViT model"
   ]
  },
  {
   "cell_type": "code",
   "execution_count": 1,
   "metadata": {
    "id": "lbGDa1xoQt69",
    "tags": []
   },
   "outputs": [],
   "source": [
    "# Transformer blocks produce a [batch_size, num_patches, projection_dim] tensor\n",
    "\n",
    "def create_vit_classifier():\n",
    "    inputs = layers.Input(shape=input_shape)\n",
    "    # Augment data.\n",
    "    augmented = data_augmentation(inputs)\n",
    "    # Create patches.\n",
    "    patches = Patches(patch_size)(augmented)\n",
    "    # Encode patches.\n",
    "    encoded_patches = PatchEncoder(num_patches, projection_dim)(patches)\n",
    "\n",
    "    # Create multiple layers of the Transformer block.\n",
    "    for _ in range(transformer_layers):\n",
    "        # Layer normalization 1.\n",
    "        x1 = layers.LayerNormalization(epsilon=1e-6)(encoded_patches)\n",
    "        # Create a multi-head attention layer.\n",
    "        attention_output = layers.MultiHeadAttention(\n",
    "            num_heads=num_heads, key_dim=projection_dim, dropout=0.1\n",
    "        )(x1, x1)\n",
    "        # Skip connection 1.\n",
    "        x2 = layers.Add()([attention_output, encoded_patches])\n",
    "        # Layer normalization 2.\n",
    "        x3 = layers.LayerNormalization(epsilon=1e-6)(x2)\n",
    "        # MLP.\n",
    "        x3 = mlp(x3, hidden_units=transformer_units, dropout_rate=0.1)\n",
    "        # Skip connection 2.\n",
    "        encoded_patches = layers.Add()([x3, x2])\n",
    "\n",
    "    # Create a [batch_size, projection_dim] tensor.\n",
    "    representation = layers.LayerNormalization(epsilon=1e-6)(encoded_patches)\n",
    "    representation = layers.Flatten()(representation)\n",
    "    representation = layers.Dropout(0.5)(representation)\n",
    "    # Add MLP.\n",
    "    features = mlp(representation, hidden_units=mlp_head_units, dropout_rate=0.5)\n",
    "    # Classify outputs.\n",
    "    logits = layers.Dense(num_classes)(features)\n",
    "    # Create the Keras model.\n",
    "    model = keras.Model(inputs=inputs, outputs=logits)\n",
    "    return model\n"
   ]
  },
  {
   "cell_type": "markdown",
   "metadata": {
    "id": "_ybFmfSKQt6-"
   },
   "source": [
    "## Compile, train, and evaluate the mode"
   ]
  },
  {
   "cell_type": "code",
   "execution_count": 15,
   "metadata": {
    "colab": {
     "base_uri": "https://localhost:8080/"
    },
    "id": "qpPb-4OVQt6-",
    "outputId": "28fd05c5-409b-4bff-a45b-e210d3cd74c7",
    "tags": []
   },
   "outputs": [
    {
     "name": "stdout",
     "output_type": "stream",
     "text": [
      "Epoch 1/100\n",
      "1407/1407 [==============================] - 60s 38ms/step - loss: 1.9972 - accuracy: 0.3281 - top-5-accuracy: 0.8190 - val_loss: 1.5598 - val_accuracy: 0.4350 - val_top-5-accuracy: 0.9074\n",
      "Epoch 2/100\n",
      "1407/1407 [==============================] - 52s 37ms/step - loss: 1.6440 - accuracy: 0.4113 - top-5-accuracy: 0.8867 - val_loss: 1.3519 - val_accuracy: 0.5166 - val_top-5-accuracy: 0.9356\n",
      "Epoch 3/100\n",
      "1407/1407 [==============================] - 54s 38ms/step - loss: 1.4186 - accuracy: 0.4938 - top-5-accuracy: 0.9229 - val_loss: 1.2408 - val_accuracy: 0.5562 - val_top-5-accuracy: 0.9406\n",
      "Epoch 4/100\n",
      "1407/1407 [==============================] - 53s 37ms/step - loss: 1.2956 - accuracy: 0.5409 - top-5-accuracy: 0.9396 - val_loss: 1.1483 - val_accuracy: 0.5888 - val_top-5-accuracy: 0.9548\n",
      "Epoch 5/100\n",
      "1407/1407 [==============================] - 53s 37ms/step - loss: 1.2337 - accuracy: 0.5671 - top-5-accuracy: 0.9450 - val_loss: 1.0674 - val_accuracy: 0.6190 - val_top-5-accuracy: 0.9640\n",
      "Epoch 6/100\n",
      "1407/1407 [==============================] - 54s 38ms/step - loss: 1.1689 - accuracy: 0.5903 - top-5-accuracy: 0.9510 - val_loss: 0.9765 - val_accuracy: 0.6500 - val_top-5-accuracy: 0.9694\n",
      "Epoch 7/100\n",
      "1407/1407 [==============================] - 53s 37ms/step - loss: 1.1187 - accuracy: 0.6072 - top-5-accuracy: 0.9565 - val_loss: 0.9767 - val_accuracy: 0.6556 - val_top-5-accuracy: 0.9700\n",
      "Epoch 8/100\n",
      "1407/1407 [==============================] - 55s 39ms/step - loss: 1.0820 - accuracy: 0.6215 - top-5-accuracy: 0.9606 - val_loss: 0.8670 - val_accuracy: 0.6888 - val_top-5-accuracy: 0.9794\n",
      "Epoch 9/100\n",
      "1407/1407 [==============================] - 51s 37ms/step - loss: 1.0537 - accuracy: 0.6325 - top-5-accuracy: 0.9617 - val_loss: 0.9103 - val_accuracy: 0.6800 - val_top-5-accuracy: 0.9774\n",
      "Epoch 10/100\n",
      "1407/1407 [==============================] - 51s 37ms/step - loss: 1.0675 - accuracy: 0.6260 - top-5-accuracy: 0.9608 - val_loss: 0.8675 - val_accuracy: 0.7010 - val_top-5-accuracy: 0.9770\n",
      "Epoch 11/100\n",
      "1407/1407 [==============================] - 52s 37ms/step - loss: 1.0089 - accuracy: 0.6502 - top-5-accuracy: 0.9648 - val_loss: 0.8718 - val_accuracy: 0.6894 - val_top-5-accuracy: 0.9790\n",
      "Epoch 12/100\n",
      "1407/1407 [==============================] - 53s 37ms/step - loss: 0.9948 - accuracy: 0.6542 - top-5-accuracy: 0.9666 - val_loss: 0.8433 - val_accuracy: 0.6940 - val_top-5-accuracy: 0.9796\n",
      "Epoch 13/100\n",
      "1407/1407 [==============================] - 53s 38ms/step - loss: 0.9709 - accuracy: 0.6618 - top-5-accuracy: 0.9681 - val_loss: 0.8727 - val_accuracy: 0.6920 - val_top-5-accuracy: 0.9794\n",
      "Epoch 14/100\n",
      "1407/1407 [==============================] - 52s 37ms/step - loss: 0.9765 - accuracy: 0.6603 - top-5-accuracy: 0.9672 - val_loss: 0.8768 - val_accuracy: 0.6906 - val_top-5-accuracy: 0.9804\n",
      "Epoch 15/100\n",
      "1407/1407 [==============================] - 52s 37ms/step - loss: 0.9566 - accuracy: 0.6690 - top-5-accuracy: 0.9686 - val_loss: 0.8105 - val_accuracy: 0.7220 - val_top-5-accuracy: 0.9824\n",
      "Epoch 16/100\n",
      "1407/1407 [==============================] - 53s 38ms/step - loss: 0.9429 - accuracy: 0.6716 - top-5-accuracy: 0.9706 - val_loss: 0.8575 - val_accuracy: 0.6924 - val_top-5-accuracy: 0.9772\n",
      "Epoch 17/100\n",
      "1407/1407 [==============================] - 53s 38ms/step - loss: 0.9612 - accuracy: 0.6654 - top-5-accuracy: 0.9678 - val_loss: 0.8637 - val_accuracy: 0.6982 - val_top-5-accuracy: 0.9750\n",
      "Epoch 18/100\n",
      "1407/1407 [==============================] - 53s 37ms/step - loss: 0.9435 - accuracy: 0.6715 - top-5-accuracy: 0.9695 - val_loss: 0.8051 - val_accuracy: 0.7106 - val_top-5-accuracy: 0.9812\n",
      "Epoch 19/100\n",
      "1407/1407 [==============================] - 53s 37ms/step - loss: 0.9262 - accuracy: 0.6775 - top-5-accuracy: 0.9714 - val_loss: 0.8064 - val_accuracy: 0.7120 - val_top-5-accuracy: 0.9806\n",
      "Epoch 20/100\n",
      "1407/1407 [==============================] - 53s 38ms/step - loss: 0.9370 - accuracy: 0.6761 - top-5-accuracy: 0.9704 - val_loss: 0.7871 - val_accuracy: 0.7242 - val_top-5-accuracy: 0.9808\n",
      "Epoch 21/100\n",
      "1407/1407 [==============================] - 53s 38ms/step - loss: 0.9076 - accuracy: 0.6858 - top-5-accuracy: 0.9720 - val_loss: 0.7922 - val_accuracy: 0.7236 - val_top-5-accuracy: 0.9812\n",
      "Epoch 22/100\n",
      "1407/1407 [==============================] - 53s 38ms/step - loss: 0.9133 - accuracy: 0.6837 - top-5-accuracy: 0.9728 - val_loss: 0.7862 - val_accuracy: 0.7158 - val_top-5-accuracy: 0.9812\n",
      "Epoch 23/100\n",
      "1407/1407 [==============================] - 54s 39ms/step - loss: 0.8995 - accuracy: 0.6866 - top-5-accuracy: 0.9736 - val_loss: 0.7629 - val_accuracy: 0.7268 - val_top-5-accuracy: 0.9834\n",
      "Epoch 24/100\n",
      "1407/1407 [==============================] - 54s 39ms/step - loss: 0.8960 - accuracy: 0.6876 - top-5-accuracy: 0.9746 - val_loss: 0.7660 - val_accuracy: 0.7288 - val_top-5-accuracy: 0.9820\n",
      "Epoch 25/100\n",
      "1407/1407 [==============================] - 52s 37ms/step - loss: 0.9099 - accuracy: 0.6864 - top-5-accuracy: 0.9714 - val_loss: 0.7804 - val_accuracy: 0.7252 - val_top-5-accuracy: 0.9814\n",
      "Epoch 26/100\n",
      "1407/1407 [==============================] - 52s 37ms/step - loss: 0.8907 - accuracy: 0.6932 - top-5-accuracy: 0.9731 - val_loss: 0.7756 - val_accuracy: 0.7290 - val_top-5-accuracy: 0.9816\n",
      "Epoch 27/100\n",
      "1407/1407 [==============================] - 52s 37ms/step - loss: 0.9122 - accuracy: 0.6826 - top-5-accuracy: 0.9710 - val_loss: 0.7959 - val_accuracy: 0.7258 - val_top-5-accuracy: 0.9798\n",
      "Epoch 28/100\n",
      "1407/1407 [==============================] - 52s 37ms/step - loss: 0.8784 - accuracy: 0.6962 - top-5-accuracy: 0.9740 - val_loss: 0.7484 - val_accuracy: 0.7368 - val_top-5-accuracy: 0.9850\n",
      "Epoch 29/100\n",
      "1407/1407 [==============================] - 53s 38ms/step - loss: 0.8991 - accuracy: 0.6894 - top-5-accuracy: 0.9728 - val_loss: 0.7549 - val_accuracy: 0.7354 - val_top-5-accuracy: 0.9864\n",
      "Epoch 30/100\n",
      "1407/1407 [==============================] - 54s 38ms/step - loss: 0.8792 - accuracy: 0.6935 - top-5-accuracy: 0.9753 - val_loss: 0.7444 - val_accuracy: 0.7472 - val_top-5-accuracy: 0.9822\n",
      "Epoch 31/100\n",
      "1407/1407 [==============================] - 54s 38ms/step - loss: 0.8781 - accuracy: 0.6957 - top-5-accuracy: 0.9736 - val_loss: 0.7520 - val_accuracy: 0.7328 - val_top-5-accuracy: 0.9830\n",
      "Epoch 32/100\n",
      "1407/1407 [==============================] - 54s 38ms/step - loss: 0.8928 - accuracy: 0.6892 - top-5-accuracy: 0.9736 - val_loss: 0.7905 - val_accuracy: 0.7274 - val_top-5-accuracy: 0.9810\n",
      "Epoch 33/100\n",
      "1407/1407 [==============================] - 52s 37ms/step - loss: 0.8644 - accuracy: 0.6970 - top-5-accuracy: 0.9759 - val_loss: 0.7749 - val_accuracy: 0.7228 - val_top-5-accuracy: 0.9828\n",
      "Epoch 34/100\n",
      "1407/1407 [==============================] - 53s 38ms/step - loss: 0.8776 - accuracy: 0.6950 - top-5-accuracy: 0.9736 - val_loss: 0.7873 - val_accuracy: 0.7188 - val_top-5-accuracy: 0.9804\n",
      "Epoch 35/100\n",
      "1407/1407 [==============================] - 55s 39ms/step - loss: 0.8633 - accuracy: 0.6998 - top-5-accuracy: 0.9755 - val_loss: 0.7619 - val_accuracy: 0.7310 - val_top-5-accuracy: 0.9836\n",
      "Epoch 36/100\n",
      "1407/1407 [==============================] - 55s 39ms/step - loss: 0.8794 - accuracy: 0.6977 - top-5-accuracy: 0.9742 - val_loss: 0.7400 - val_accuracy: 0.7450 - val_top-5-accuracy: 0.9844\n",
      "Epoch 37/100\n",
      "1407/1407 [==============================] - 55s 39ms/step - loss: 0.8565 - accuracy: 0.7028 - top-5-accuracy: 0.9767 - val_loss: 0.7334 - val_accuracy: 0.7438 - val_top-5-accuracy: 0.9838\n",
      "Epoch 38/100\n",
      "1407/1407 [==============================] - 54s 39ms/step - loss: 0.8696 - accuracy: 0.6980 - top-5-accuracy: 0.9736 - val_loss: 0.7293 - val_accuracy: 0.7406 - val_top-5-accuracy: 0.9856\n",
      "Epoch 39/100\n",
      "1407/1407 [==============================] - 55s 39ms/step - loss: 0.8911 - accuracy: 0.6937 - top-5-accuracy: 0.9716 - val_loss: 0.7140 - val_accuracy: 0.7526 - val_top-5-accuracy: 0.9832\n",
      "Epoch 40/100\n",
      "1407/1407 [==============================] - 55s 39ms/step - loss: 0.8449 - accuracy: 0.7079 - top-5-accuracy: 0.9766 - val_loss: 0.7119 - val_accuracy: 0.7564 - val_top-5-accuracy: 0.9850\n",
      "Epoch 41/100\n",
      "1407/1407 [==============================] - 53s 38ms/step - loss: 0.8375 - accuracy: 0.7095 - top-5-accuracy: 0.9766 - val_loss: 0.7589 - val_accuracy: 0.7362 - val_top-5-accuracy: 0.9832\n",
      "Epoch 42/100\n",
      "1407/1407 [==============================] - 52s 37ms/step - loss: 0.8363 - accuracy: 0.7087 - top-5-accuracy: 0.9766 - val_loss: 0.7891 - val_accuracy: 0.7274 - val_top-5-accuracy: 0.9816\n",
      "Epoch 43/100\n",
      "1407/1407 [==============================] - 52s 37ms/step - loss: 0.8422 - accuracy: 0.7089 - top-5-accuracy: 0.9761 - val_loss: 0.7575 - val_accuracy: 0.7380 - val_top-5-accuracy: 0.9848\n",
      "Epoch 44/100\n",
      "1407/1407 [==============================] - 54s 38ms/step - loss: 0.8373 - accuracy: 0.7109 - top-5-accuracy: 0.9778 - val_loss: 0.7282 - val_accuracy: 0.7424 - val_top-5-accuracy: 0.9818\n",
      "Epoch 45/100\n",
      "1407/1407 [==============================] - 53s 38ms/step - loss: 0.8338 - accuracy: 0.7095 - top-5-accuracy: 0.9770 - val_loss: 0.7469 - val_accuracy: 0.7356 - val_top-5-accuracy: 0.9830\n",
      "Epoch 46/100\n",
      "1407/1407 [==============================] - 53s 37ms/step - loss: 0.8374 - accuracy: 0.7115 - top-5-accuracy: 0.9771 - val_loss: 0.7197 - val_accuracy: 0.7444 - val_top-5-accuracy: 0.9830\n",
      "Epoch 47/100\n",
      "1407/1407 [==============================] - 52s 37ms/step - loss: 0.8322 - accuracy: 0.7131 - top-5-accuracy: 0.9777 - val_loss: 0.7233 - val_accuracy: 0.7518 - val_top-5-accuracy: 0.9842\n",
      "Epoch 48/100\n",
      "1407/1407 [==============================] - 53s 37ms/step - loss: 0.8276 - accuracy: 0.7122 - top-5-accuracy: 0.9771 - val_loss: 0.7170 - val_accuracy: 0.7514 - val_top-5-accuracy: 0.9822\n",
      "Epoch 49/100\n",
      "1407/1407 [==============================] - 52s 37ms/step - loss: 0.8238 - accuracy: 0.7145 - top-5-accuracy: 0.9790 - val_loss: 0.7369 - val_accuracy: 0.7386 - val_top-5-accuracy: 0.9856\n",
      "Epoch 50/100\n",
      "1407/1407 [==============================] - 53s 38ms/step - loss: 0.8268 - accuracy: 0.7140 - top-5-accuracy: 0.9777 - val_loss: 0.8336 - val_accuracy: 0.7086 - val_top-5-accuracy: 0.9752\n",
      "Epoch 51/100\n",
      "1407/1407 [==============================] - 52s 37ms/step - loss: 0.8119 - accuracy: 0.7180 - top-5-accuracy: 0.9779 - val_loss: 0.7030 - val_accuracy: 0.7516 - val_top-5-accuracy: 0.9836\n",
      "Epoch 52/100\n",
      "1407/1407 [==============================] - 54s 38ms/step - loss: 0.8105 - accuracy: 0.7191 - top-5-accuracy: 0.9790 - val_loss: 0.7224 - val_accuracy: 0.7456 - val_top-5-accuracy: 0.9840\n",
      "Epoch 53/100\n",
      "1407/1407 [==============================] - 54s 38ms/step - loss: 0.8356 - accuracy: 0.7144 - top-5-accuracy: 0.9762 - val_loss: 0.6998 - val_accuracy: 0.7546 - val_top-5-accuracy: 0.9858\n",
      "Epoch 54/100\n",
      "1407/1407 [==============================] - 54s 38ms/step - loss: 0.8137 - accuracy: 0.7188 - top-5-accuracy: 0.9780 - val_loss: 0.6940 - val_accuracy: 0.7564 - val_top-5-accuracy: 0.9840\n",
      "Epoch 55/100\n",
      "1407/1407 [==============================] - 53s 38ms/step - loss: 0.7929 - accuracy: 0.7266 - top-5-accuracy: 0.9793 - val_loss: 0.7025 - val_accuracy: 0.7514 - val_top-5-accuracy: 0.9856\n",
      "Epoch 56/100\n",
      "1407/1407 [==============================] - 53s 38ms/step - loss: 0.7916 - accuracy: 0.7284 - top-5-accuracy: 0.9787 - val_loss: 0.7216 - val_accuracy: 0.7464 - val_top-5-accuracy: 0.9856\n",
      "Epoch 57/100\n",
      "1407/1407 [==============================] - 54s 38ms/step - loss: 0.7807 - accuracy: 0.7292 - top-5-accuracy: 0.9805 - val_loss: 0.6674 - val_accuracy: 0.7702 - val_top-5-accuracy: 0.9872\n",
      "Epoch 58/100\n",
      "1407/1407 [==============================] - 54s 38ms/step - loss: 0.7744 - accuracy: 0.7321 - top-5-accuracy: 0.9807 - val_loss: 0.6614 - val_accuracy: 0.7658 - val_top-5-accuracy: 0.9840\n",
      "Epoch 59/100\n",
      "1407/1407 [==============================] - 53s 37ms/step - loss: 0.7726 - accuracy: 0.7315 - top-5-accuracy: 0.9808 - val_loss: 0.6754 - val_accuracy: 0.7634 - val_top-5-accuracy: 0.9880\n",
      "Epoch 60/100\n",
      "1407/1407 [==============================] - 52s 37ms/step - loss: 0.7681 - accuracy: 0.7369 - top-5-accuracy: 0.9803 - val_loss: 0.6399 - val_accuracy: 0.7784 - val_top-5-accuracy: 0.9874\n",
      "Epoch 61/100\n",
      "1407/1407 [==============================] - 54s 38ms/step - loss: 0.7557 - accuracy: 0.7398 - top-5-accuracy: 0.9813 - val_loss: 0.6436 - val_accuracy: 0.7752 - val_top-5-accuracy: 0.9882\n",
      "Epoch 62/100\n",
      "1407/1407 [==============================] - 54s 38ms/step - loss: 0.7568 - accuracy: 0.7384 - top-5-accuracy: 0.9814 - val_loss: 0.6592 - val_accuracy: 0.7630 - val_top-5-accuracy: 0.9872\n",
      "Epoch 63/100\n",
      "1407/1407 [==============================] - 54s 38ms/step - loss: 0.7741 - accuracy: 0.7330 - top-5-accuracy: 0.9800 - val_loss: 0.6817 - val_accuracy: 0.7662 - val_top-5-accuracy: 0.9858\n",
      "Epoch 64/100\n",
      "1407/1407 [==============================] - 54s 38ms/step - loss: 0.7646 - accuracy: 0.7363 - top-5-accuracy: 0.9800 - val_loss: 0.7022 - val_accuracy: 0.7510 - val_top-5-accuracy: 0.9842\n",
      "Epoch 65/100\n",
      "1407/1407 [==============================] - 53s 37ms/step - loss: 0.7489 - accuracy: 0.7433 - top-5-accuracy: 0.9817 - val_loss: 0.6660 - val_accuracy: 0.7676 - val_top-5-accuracy: 0.9856\n",
      "Epoch 66/100\n",
      "1407/1407 [==============================] - 53s 38ms/step - loss: 0.7663 - accuracy: 0.7358 - top-5-accuracy: 0.9805 - val_loss: 0.6606 - val_accuracy: 0.7690 - val_top-5-accuracy: 0.9866\n",
      "Epoch 67/100\n",
      "1407/1407 [==============================] - 54s 38ms/step - loss: 0.7568 - accuracy: 0.7377 - top-5-accuracy: 0.9817 - val_loss: 0.6586 - val_accuracy: 0.7684 - val_top-5-accuracy: 0.9866\n",
      "Epoch 68/100\n",
      "1407/1407 [==============================] - 53s 37ms/step - loss: 0.7486 - accuracy: 0.7433 - top-5-accuracy: 0.9808 - val_loss: 0.6776 - val_accuracy: 0.7690 - val_top-5-accuracy: 0.9864\n",
      "Epoch 69/100\n",
      "1407/1407 [==============================] - 54s 38ms/step - loss: 0.7826 - accuracy: 0.7296 - top-5-accuracy: 0.9788 - val_loss: 0.6200 - val_accuracy: 0.7824 - val_top-5-accuracy: 0.9892\n",
      "Epoch 70/100\n",
      "1407/1407 [==============================] - 53s 38ms/step - loss: 0.7453 - accuracy: 0.7436 - top-5-accuracy: 0.9816 - val_loss: 0.6581 - val_accuracy: 0.7706 - val_top-5-accuracy: 0.9834\n",
      "Epoch 71/100\n",
      "1407/1407 [==============================] - 54s 38ms/step - loss: 0.7466 - accuracy: 0.7426 - top-5-accuracy: 0.9816 - val_loss: 0.6414 - val_accuracy: 0.7802 - val_top-5-accuracy: 0.9878\n",
      "Epoch 72/100\n",
      "1407/1407 [==============================] - 54s 38ms/step - loss: 0.7574 - accuracy: 0.7391 - top-5-accuracy: 0.9810 - val_loss: 0.6567 - val_accuracy: 0.7718 - val_top-5-accuracy: 0.9866\n",
      "Epoch 73/100\n",
      "1407/1407 [==============================] - 54s 38ms/step - loss: 0.7508 - accuracy: 0.7398 - top-5-accuracy: 0.9816 - val_loss: 0.6943 - val_accuracy: 0.7600 - val_top-5-accuracy: 0.9862\n",
      "Epoch 74/100\n",
      "1407/1407 [==============================] - 53s 38ms/step - loss: 0.7502 - accuracy: 0.7413 - top-5-accuracy: 0.9824 - val_loss: 0.6891 - val_accuracy: 0.7714 - val_top-5-accuracy: 0.9854\n",
      "Epoch 75/100\n",
      "1407/1407 [==============================] - 54s 38ms/step - loss: 0.7545 - accuracy: 0.7395 - top-5-accuracy: 0.9811 - val_loss: 0.6299 - val_accuracy: 0.7852 - val_top-5-accuracy: 0.9874\n",
      "Epoch 76/100\n",
      "1407/1407 [==============================] - 52s 37ms/step - loss: 0.7442 - accuracy: 0.7435 - top-5-accuracy: 0.9821 - val_loss: 0.6683 - val_accuracy: 0.7742 - val_top-5-accuracy: 0.9860\n",
      "Epoch 77/100\n",
      "1407/1407 [==============================] - 53s 38ms/step - loss: 0.7394 - accuracy: 0.7444 - top-5-accuracy: 0.9822 - val_loss: 0.6465 - val_accuracy: 0.7724 - val_top-5-accuracy: 0.9846\n",
      "Epoch 78/100\n",
      "1407/1407 [==============================] - 52s 37ms/step - loss: 0.7531 - accuracy: 0.7424 - top-5-accuracy: 0.9811 - val_loss: 0.6686 - val_accuracy: 0.7700 - val_top-5-accuracy: 0.9876\n",
      "Epoch 79/100\n",
      "1407/1407 [==============================] - 53s 38ms/step - loss: 0.7392 - accuracy: 0.7452 - top-5-accuracy: 0.9818 - val_loss: 0.6647 - val_accuracy: 0.7676 - val_top-5-accuracy: 0.9860\n",
      "Epoch 80/100\n",
      "1407/1407 [==============================] - 54s 38ms/step - loss: 0.7521 - accuracy: 0.7420 - top-5-accuracy: 0.9813 - val_loss: 0.6581 - val_accuracy: 0.7710 - val_top-5-accuracy: 0.9864\n",
      "Epoch 81/100\n",
      "1407/1407 [==============================] - 54s 38ms/step - loss: 0.7424 - accuracy: 0.7438 - top-5-accuracy: 0.9812 - val_loss: 0.6452 - val_accuracy: 0.7846 - val_top-5-accuracy: 0.9856\n",
      "Epoch 82/100\n",
      "1407/1407 [==============================] - 54s 39ms/step - loss: 0.7310 - accuracy: 0.7477 - top-5-accuracy: 0.9817 - val_loss: 0.6176 - val_accuracy: 0.7888 - val_top-5-accuracy: 0.9888\n",
      "Epoch 83/100\n",
      "1407/1407 [==============================] - 54s 38ms/step - loss: 0.7330 - accuracy: 0.7482 - top-5-accuracy: 0.9811 - val_loss: 0.6376 - val_accuracy: 0.7806 - val_top-5-accuracy: 0.9872\n",
      "Epoch 84/100\n",
      "1407/1407 [==============================] - 53s 38ms/step - loss: 0.7573 - accuracy: 0.7397 - top-5-accuracy: 0.9805 - val_loss: 0.6445 - val_accuracy: 0.7764 - val_top-5-accuracy: 0.9896\n",
      "Epoch 85/100\n",
      "1407/1407 [==============================] - 53s 38ms/step - loss: 0.7352 - accuracy: 0.7478 - top-5-accuracy: 0.9818 - val_loss: 0.6559 - val_accuracy: 0.7790 - val_top-5-accuracy: 0.9856\n",
      "Epoch 86/100\n",
      "1407/1407 [==============================] - 54s 38ms/step - loss: 0.7336 - accuracy: 0.7475 - top-5-accuracy: 0.9825 - val_loss: 0.6893 - val_accuracy: 0.7680 - val_top-5-accuracy: 0.9828\n",
      "Epoch 87/100\n",
      "1407/1407 [==============================] - 54s 38ms/step - loss: 0.7335 - accuracy: 0.7493 - top-5-accuracy: 0.9817 - val_loss: 0.6204 - val_accuracy: 0.7842 - val_top-5-accuracy: 0.9882\n",
      "Epoch 88/100\n",
      "1407/1407 [==============================] - 53s 38ms/step - loss: 0.7351 - accuracy: 0.7468 - top-5-accuracy: 0.9823 - val_loss: 0.7037 - val_accuracy: 0.7558 - val_top-5-accuracy: 0.9832\n",
      "Epoch 89/100\n",
      "1407/1407 [==============================] - 54s 39ms/step - loss: 0.7224 - accuracy: 0.7508 - top-5-accuracy: 0.9823 - val_loss: 0.6855 - val_accuracy: 0.7620 - val_top-5-accuracy: 0.9848\n",
      "Epoch 90/100\n",
      "1407/1407 [==============================] - 54s 38ms/step - loss: 0.7383 - accuracy: 0.7456 - top-5-accuracy: 0.9803 - val_loss: 0.6191 - val_accuracy: 0.7888 - val_top-5-accuracy: 0.9860\n",
      "Epoch 91/100\n",
      "1407/1407 [==============================] - 54s 38ms/step - loss: 0.7224 - accuracy: 0.7511 - top-5-accuracy: 0.9825 - val_loss: 0.6404 - val_accuracy: 0.7786 - val_top-5-accuracy: 0.9896\n",
      "Epoch 92/100\n",
      "1407/1407 [==============================] - 53s 38ms/step - loss: 0.7206 - accuracy: 0.7513 - top-5-accuracy: 0.9827 - val_loss: 0.6699 - val_accuracy: 0.7704 - val_top-5-accuracy: 0.9880\n",
      "Epoch 93/100\n",
      "1407/1407 [==============================] - 53s 38ms/step - loss: 0.7416 - accuracy: 0.7437 - top-5-accuracy: 0.9816 - val_loss: 0.6117 - val_accuracy: 0.7914 - val_top-5-accuracy: 0.9874\n",
      "Epoch 94/100\n",
      "1407/1407 [==============================] - 53s 38ms/step - loss: 0.7170 - accuracy: 0.7524 - top-5-accuracy: 0.9836 - val_loss: 0.6145 - val_accuracy: 0.7904 - val_top-5-accuracy: 0.9894\n",
      "Epoch 95/100\n",
      "1407/1407 [==============================] - 54s 39ms/step - loss: 0.7243 - accuracy: 0.7514 - top-5-accuracy: 0.9830 - val_loss: 0.6358 - val_accuracy: 0.7808 - val_top-5-accuracy: 0.9870\n",
      "Epoch 96/100\n",
      "1407/1407 [==============================] - 54s 39ms/step - loss: 0.7240 - accuracy: 0.7493 - top-5-accuracy: 0.9826 - val_loss: 0.6339 - val_accuracy: 0.7816 - val_top-5-accuracy: 0.9856\n",
      "Epoch 97/100\n",
      "1407/1407 [==============================] - 54s 38ms/step - loss: 0.7215 - accuracy: 0.7511 - top-5-accuracy: 0.9830 - val_loss: 0.7077 - val_accuracy: 0.7616 - val_top-5-accuracy: 0.9860\n",
      "Epoch 98/100\n",
      "1407/1407 [==============================] - 54s 38ms/step - loss: 0.7246 - accuracy: 0.7491 - top-5-accuracy: 0.9831 - val_loss: 0.6666 - val_accuracy: 0.7702 - val_top-5-accuracy: 0.9864\n",
      "Epoch 99/100\n",
      "1407/1407 [==============================] - 54s 39ms/step - loss: 0.7257 - accuracy: 0.7509 - top-5-accuracy: 0.9824 - val_loss: 0.6206 - val_accuracy: 0.7824 - val_top-5-accuracy: 0.9888\n",
      "Epoch 100/100\n",
      "1407/1407 [==============================] - 54s 38ms/step - loss: 0.7247 - accuracy: 0.7510 - top-5-accuracy: 0.9831 - val_loss: 0.6336 - val_accuracy: 0.7716 - val_top-5-accuracy: 0.9862\n"
     ]
    },
    {
     "ename": "NotFoundError",
     "evalue": "Unsuccessful TensorSliceReader constructor: Failed to find any matching files for /tmp/checkpoint",
     "output_type": "error",
     "traceback": [
      "\u001b[0;31m---------------------------------------------------------------------------\u001b[0m",
      "\u001b[0;31mNotFoundError\u001b[0m                             Traceback (most recent call last)",
      "Cell \u001b[0;32mIn[15], line 41\u001b[0m\n\u001b[1;32m     37\u001b[0m     \u001b[38;5;28;01mreturn\u001b[39;00m history\n\u001b[1;32m     40\u001b[0m vit_classifier \u001b[38;5;241m=\u001b[39m create_vit_classifier()\n\u001b[0;32m---> 41\u001b[0m history \u001b[38;5;241m=\u001b[39m \u001b[43mrun_experiment\u001b[49m\u001b[43m(\u001b[49m\u001b[43mvit_classifier\u001b[49m\u001b[43m)\u001b[49m\n",
      "Cell \u001b[0;32mIn[15], line 32\u001b[0m, in \u001b[0;36mrun_experiment\u001b[0;34m(model)\u001b[0m\n\u001b[1;32m     16\u001b[0m checkpoint_callback \u001b[38;5;241m=\u001b[39m keras\u001b[38;5;241m.\u001b[39mcallbacks\u001b[38;5;241m.\u001b[39mModelCheckpoint(\n\u001b[1;32m     17\u001b[0m     checkpoint_filepath,\n\u001b[1;32m     18\u001b[0m     monitor\u001b[38;5;241m=\u001b[39m\u001b[38;5;124m\"\u001b[39m\u001b[38;5;124mval_accuracy\u001b[39m\u001b[38;5;124m\"\u001b[39m,\n\u001b[1;32m     19\u001b[0m     save_best_only\u001b[38;5;241m=\u001b[39m\u001b[38;5;28;01mTrue\u001b[39;00m,\n\u001b[1;32m     20\u001b[0m     save_weights_only\u001b[38;5;241m=\u001b[39m\u001b[38;5;28;01mTrue\u001b[39;00m,\n\u001b[1;32m     21\u001b[0m )\n\u001b[1;32m     23\u001b[0m history \u001b[38;5;241m=\u001b[39m model\u001b[38;5;241m.\u001b[39mfit(\n\u001b[1;32m     24\u001b[0m     x\u001b[38;5;241m=\u001b[39mx_train,\n\u001b[1;32m     25\u001b[0m     y\u001b[38;5;241m=\u001b[39my_train,\n\u001b[0;32m   (...)\u001b[0m\n\u001b[1;32m     29\u001b[0m     \u001b[38;5;66;03m#callbacks=[checkpoint_callback],\u001b[39;00m\n\u001b[1;32m     30\u001b[0m )\n\u001b[0;32m---> 32\u001b[0m \u001b[43mmodel\u001b[49m\u001b[38;5;241;43m.\u001b[39;49m\u001b[43mload_weights\u001b[49m\u001b[43m(\u001b[49m\u001b[43mcheckpoint_filepath\u001b[49m\u001b[43m)\u001b[49m\n\u001b[1;32m     33\u001b[0m _, accuracy, top_5_accuracy \u001b[38;5;241m=\u001b[39m model\u001b[38;5;241m.\u001b[39mevaluate(x_test, y_test)\n\u001b[1;32m     34\u001b[0m \u001b[38;5;28mprint\u001b[39m(\u001b[38;5;124mf\u001b[39m\u001b[38;5;124m\"\u001b[39m\u001b[38;5;124mTest accuracy: \u001b[39m\u001b[38;5;132;01m{\u001b[39;00m\u001b[38;5;28mround\u001b[39m(accuracy\u001b[38;5;250m \u001b[39m\u001b[38;5;241m*\u001b[39m\u001b[38;5;250m \u001b[39m\u001b[38;5;241m100\u001b[39m,\u001b[38;5;250m \u001b[39m\u001b[38;5;241m2\u001b[39m)\u001b[38;5;132;01m}\u001b[39;00m\u001b[38;5;124m%\u001b[39m\u001b[38;5;124m\"\u001b[39m)\n",
      "File \u001b[0;32m~/miniconda3/envs/utsf_env/lib/python3.10/site-packages/keras/utils/traceback_utils.py:67\u001b[0m, in \u001b[0;36mfilter_traceback.<locals>.error_handler\u001b[0;34m(*args, **kwargs)\u001b[0m\n\u001b[1;32m     65\u001b[0m \u001b[38;5;28;01mexcept\u001b[39;00m \u001b[38;5;167;01mException\u001b[39;00m \u001b[38;5;28;01mas\u001b[39;00m e:  \u001b[38;5;66;03m# pylint: disable=broad-except\u001b[39;00m\n\u001b[1;32m     66\u001b[0m   filtered_tb \u001b[38;5;241m=\u001b[39m _process_traceback_frames(e\u001b[38;5;241m.\u001b[39m__traceback__)\n\u001b[0;32m---> 67\u001b[0m   \u001b[38;5;28;01mraise\u001b[39;00m e\u001b[38;5;241m.\u001b[39mwith_traceback(filtered_tb) \u001b[38;5;28;01mfrom\u001b[39;00m \u001b[38;5;28mNone\u001b[39m\n\u001b[1;32m     68\u001b[0m \u001b[38;5;28;01mfinally\u001b[39;00m:\n\u001b[1;32m     69\u001b[0m   \u001b[38;5;28;01mdel\u001b[39;00m filtered_tb\n",
      "File \u001b[0;32m~/miniconda3/envs/utsf_env/lib/python3.10/site-packages/tensorflow/python/training/py_checkpoint_reader.py:31\u001b[0m, in \u001b[0;36merror_translator\u001b[0;34m(e)\u001b[0m\n\u001b[1;32m     27\u001b[0m error_message \u001b[38;5;241m=\u001b[39m \u001b[38;5;28mstr\u001b[39m(e)\n\u001b[1;32m     28\u001b[0m \u001b[38;5;28;01mif\u001b[39;00m \u001b[38;5;124m'\u001b[39m\u001b[38;5;124mnot found in checkpoint\u001b[39m\u001b[38;5;124m'\u001b[39m \u001b[38;5;129;01min\u001b[39;00m error_message \u001b[38;5;129;01mor\u001b[39;00m (\n\u001b[1;32m     29\u001b[0m     \u001b[38;5;124m'\u001b[39m\u001b[38;5;124mFailed to find any \u001b[39m\u001b[38;5;124m'\u001b[39m\n\u001b[1;32m     30\u001b[0m     \u001b[38;5;124m'\u001b[39m\u001b[38;5;124mmatching files for\u001b[39m\u001b[38;5;124m'\u001b[39m) \u001b[38;5;129;01min\u001b[39;00m error_message:\n\u001b[0;32m---> 31\u001b[0m   \u001b[38;5;28;01mraise\u001b[39;00m errors_impl\u001b[38;5;241m.\u001b[39mNotFoundError(\u001b[38;5;28;01mNone\u001b[39;00m, \u001b[38;5;28;01mNone\u001b[39;00m, error_message)\n\u001b[1;32m     32\u001b[0m \u001b[38;5;28;01melif\u001b[39;00m \u001b[38;5;124m'\u001b[39m\u001b[38;5;124mSliced checkpoints are not supported\u001b[39m\u001b[38;5;124m'\u001b[39m \u001b[38;5;129;01min\u001b[39;00m error_message \u001b[38;5;129;01mor\u001b[39;00m (\n\u001b[1;32m     33\u001b[0m     \u001b[38;5;124m'\u001b[39m\u001b[38;5;124mData type \u001b[39m\u001b[38;5;124m'\u001b[39m\n\u001b[1;32m     34\u001b[0m     \u001b[38;5;124m'\u001b[39m\u001b[38;5;124mnot \u001b[39m\u001b[38;5;124m'\u001b[39m\n\u001b[1;32m     35\u001b[0m     \u001b[38;5;124m'\u001b[39m\u001b[38;5;124msupported\u001b[39m\u001b[38;5;124m'\u001b[39m) \u001b[38;5;129;01min\u001b[39;00m error_message:\n\u001b[1;32m     36\u001b[0m   \u001b[38;5;28;01mraise\u001b[39;00m errors_impl\u001b[38;5;241m.\u001b[39mUnimplementedError(\u001b[38;5;28;01mNone\u001b[39;00m, \u001b[38;5;28;01mNone\u001b[39;00m, error_message)\n",
      "\u001b[0;31mNotFoundError\u001b[0m: Unsuccessful TensorSliceReader constructor: Failed to find any matching files for /tmp/checkpoint"
     ]
    }
   ],
   "source": [
    "\n",
    "def run_experiment(model):\n",
    "    optimizer = tfa.optimizers.AdamW(\n",
    "        learning_rate=learning_rate, \n",
    "        weight_decay=weight_decay)\n",
    "\n",
    "    model.compile(\n",
    "        optimizer=optimizer,\n",
    "        loss=keras.losses.SparseCategoricalCrossentropy(from_logits=True),\n",
    "        metrics=[keras.metrics.SparseCategoricalAccuracy(name=\"accuracy\")])\n",
    "\n",
    "    history = model.fit(\n",
    "        x=x_train,\n",
    "        y=y_train,\n",
    "        batch_size=batch_size,\n",
    "        epochs=num_epochs,\n",
    "        validation_split=0.1)\n",
    "\n",
    "    model.load_weights(checkpoint_filepath)\n",
    "    _, accuracy = model.evaluate(x_test, y_test)\n",
    "    print(f\"Test accuracy: {round(accuracy * 100, 2)}%\")\n",
    "\n",
    "    return history\n",
    "\n",
    "\n",
    "vit_classifier = create_vit_classifier()\n",
    "history = run_experiment(vit_classifier)\n"
   ]
  },
  {
   "cell_type": "code",
   "execution_count": null,
   "metadata": {},
   "outputs": [],
   "source": []
  }
 ],
 "metadata": {
  "accelerator": "GPU",
  "colab": {
   "provenance": []
  },
  "environment": {
   "name": "tf2-gpu.2-4.m61",
   "type": "gcloud",
   "uri": "gcr.io/deeplearning-platform-release/tf2-gpu.2-4:m61"
  },
  "gpuClass": "standard",
  "kernelspec": {
   "display_name": "Python 3 (ipykernel)",
   "language": "python",
   "name": "python3"
  },
  "language_info": {
   "codemirror_mode": {
    "name": "ipython",
    "version": 3
   },
   "file_extension": ".py",
   "mimetype": "text/x-python",
   "name": "python",
   "nbconvert_exporter": "python",
   "pygments_lexer": "ipython3",
   "version": "3.9.13"
  }
 },
 "nbformat": 4,
 "nbformat_minor": 4
}
