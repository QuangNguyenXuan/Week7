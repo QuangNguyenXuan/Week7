{
 "cells": [
  {
   "cell_type": "code",
   "execution_count": null,
   "id": "2b62b3b4",
   "metadata": {
    "id": "2b62b3b4",
    "outputId": "00525375-2a85-48fb-dd0a-ecf42c480051"
   },
   "outputs": [
    {
     "name": "stdout",
     "output_type": "stream",
     "text": [
      "Requirement already satisfied: vit_keras in /home/aivn48/.local/lib/python3.8/site-packages (0.1.0)\n",
      "Requirement already satisfied: scipy in /home/aivn48/.local/lib/python3.8/site-packages (from vit_keras) (1.7.2)\n",
      "Requirement already satisfied: validators in /home/aivn48/.local/lib/python3.8/site-packages (from vit_keras) (0.20.0)\n",
      "Requirement already satisfied: numpy<1.23.0,>=1.16.5 in /home/aivn48/.local/lib/python3.8/site-packages (from scipy->vit_keras) (1.20.3)\n",
      "Requirement already satisfied: decorator>=3.4.0 in /home/aivn48/.local/lib/python3.8/site-packages (from validators->vit_keras) (5.1.1)\n"
     ]
    }
   ],
   "source": [
    "!pip install vit_keras"
   ]
  },
  {
   "cell_type": "code",
   "execution_count": null,
   "id": "146275a1",
   "metadata": {
    "id": "146275a1",
    "outputId": "75a65949-d4f7-4f1a-add4-977857709e3f"
   },
   "outputs": [
    {
     "name": "stdout",
     "output_type": "stream",
     "text": [
      "Requirement already satisfied: opencv-python in /home/aivn48/.local/lib/python3.8/site-packages (4.5.3.56)\r\n",
      "Requirement already satisfied: numpy>=1.17.3 in /home/aivn48/.local/lib/python3.8/site-packages (from opencv-python) (1.20.3)\r\n"
     ]
    }
   ],
   "source": [
    "!pip install opencv-python"
   ]
  },
  {
   "cell_type": "code",
   "execution_count": null,
   "id": "b28ea24a",
   "metadata": {
    "id": "b28ea24a",
    "outputId": "5f3aa100-823f-413b-af0e-0351c7416c48"
   },
   "outputs": [
    {
     "name": "stderr",
     "output_type": "stream",
     "text": [
      "/home/aivn48/.local/lib/python3.8/site-packages/tensorflow_addons/utils/ensure_tf_install.py:53: UserWarning: Tensorflow Addons supports using Python ops for all Tensorflow versions above or equal to 2.9.0 and strictly below 2.12.0 (nightly versions are not supported). \n",
      " The versions of TensorFlow you are currently using is 2.8.0 and is not supported. \n",
      "Some things might work, some things might not.\n",
      "If you were to encounter a bug, do not file an issue.\n",
      "If you want to make sure you're using a tested and supported configuration, either change the TensorFlow version or the TensorFlow Addons's version. \n",
      "You can find the compatibility matrix in TensorFlow Addon's readme:\n",
      "https://github.com/tensorflow/addons\n",
      "  warnings.warn(\n"
     ]
    }
   ],
   "source": [
    "import tensorflow as tf\n",
    "from tensorflow.keras.models import Sequential, Model\n",
    "from tensorflow.keras.layers import Dense, GlobalAveragePooling2D, BatchNormalization, Flatten, Dropout, Activation, Input\n",
    "from tensorflow.keras.utils import to_categorical\n",
    "from tensorflow.keras.preprocessing.image import ImageDataGenerator\n",
    "from tensorflow.keras import optimizers\n",
    "from tensorflow.keras.callbacks import ReduceLROnPlateau, EarlyStopping\n",
    "from tensorflow.keras.datasets import cifar10\n",
    "from vit_keras import vit, utils\n",
    "import tensorflow_addons as tfa\n",
    "\n",
    "from sklearn.model_selection import train_test_split\n",
    "from sklearn.metrics import accuracy_score\n",
    "\n",
    "import matplotlib.pyplot as plt\n",
    "import gc\n",
    "import numpy as np # linear algebra\n",
    "import pandas as pd"
   ]
  },
  {
   "cell_type": "code",
   "execution_count": null,
   "id": "2e489913",
   "metadata": {
    "id": "2e489913"
   },
   "outputs": [],
   "source": []
  },
  {
   "cell_type": "code",
   "execution_count": null,
   "id": "882833e8",
   "metadata": {
    "id": "882833e8"
   },
   "outputs": [],
   "source": [
    "# data\n",
    "(X_train, y_train), (X_test, y_test) = cifar10.load_data()\n",
    "\n",
    "y_train = to_categorical(y_train)\n",
    "y_test  = to_categorical(y_test)\n",
    "\n",
    "X_train = (X_train/255.).astype(\"float32\")\n",
    "X_test  = (X_test/255.).astype(\"float32\")"
   ]
  },
  {
   "cell_type": "code",
   "execution_count": null,
   "id": "27b17ea0",
   "metadata": {
    "id": "27b17ea0"
   },
   "outputs": [],
   "source": [
    "batch_size = 128\n",
    "datagen = ImageDataGenerator(rotation_range=15, width_shift_range=0.2, zoom_range=0.2, horizontal_flip=True)\n",
    "train_generator = datagen.flow(X_train, y_train, batch_size=batch_size)"
   ]
  },
  {
   "cell_type": "code",
   "execution_count": null,
   "id": "47c3f5f2",
   "metadata": {
    "id": "47c3f5f2"
   },
   "outputs": [],
   "source": []
  },
  {
   "cell_type": "code",
   "execution_count": null,
   "id": "348c1b57",
   "metadata": {
    "id": "348c1b57"
   },
   "outputs": [],
   "source": [
    "# model\n",
    "input_shape = (32, 32, 3) # Cifar10 image size\n",
    "image_size = 256 # size after resizing image\n",
    "num_classes = 10\n",
    "\n",
    "def build_model():\n",
    "    inputs = Input(shape=input_shape)\n",
    "    x = tf.keras.layers.Lambda(lambda image: tf.image.resize(image, (image_size, image_size)))(inputs)\n",
    "    base_model = vit.vit_b16(image_size=image_size, pretrained=True,\n",
    "                            include_top=False, pretrained_top=False)\n",
    "    \n",
    "    #base_model.trainable = False #Set false for transfer learning\n",
    "    x = base_model(x)\n",
    "    x = Flatten()(x)\n",
    "    x = BatchNormalization()(x)\n",
    "    x = Dense(32, activation=tfa.activations.gelu)(x)\n",
    "    x = BatchNormalization()(x)\n",
    "    outputs = Dense(num_classes, activation=\"softmax\")(x)\n",
    "\n",
    "    model_final = Model(inputs=inputs, outputs=outputs)\n",
    "    return model_final"
   ]
  },
  {
   "cell_type": "code",
   "execution_count": null,
   "id": "37dc1f4d",
   "metadata": {
    "id": "37dc1f4d"
   },
   "outputs": [],
   "source": []
  },
  {
   "cell_type": "code",
   "execution_count": null,
   "id": "1c634596",
   "metadata": {
    "id": "1c634596",
    "outputId": "96047acb-804e-44ea-dd31-3fcf1439b75f"
   },
   "outputs": [
    {
     "name": "stderr",
     "output_type": "stream",
     "text": [
      "2023-01-02 15:01:06.941081: I tensorflow/stream_executor/cuda/cuda_gpu_executor.cc:936] successful NUMA node read from SysFS had negative value (-1), but there must be at least one NUMA node, so returning NUMA node zero\n",
      "2023-01-02 15:01:06.958575: I tensorflow/stream_executor/cuda/cuda_gpu_executor.cc:936] successful NUMA node read from SysFS had negative value (-1), but there must be at least one NUMA node, so returning NUMA node zero\n",
      "2023-01-02 15:01:06.958655: I tensorflow/stream_executor/cuda/cuda_gpu_executor.cc:936] successful NUMA node read from SysFS had negative value (-1), but there must be at least one NUMA node, so returning NUMA node zero\n",
      "2023-01-02 15:01:06.959307: I tensorflow/core/platform/cpu_feature_guard.cc:151] This TensorFlow binary is optimized with oneAPI Deep Neural Network Library (oneDNN) to use the following CPU instructions in performance-critical operations:  AVX2 FMA\n",
      "To enable them in other operations, rebuild TensorFlow with the appropriate compiler flags.\n",
      "2023-01-02 15:01:06.959906: I tensorflow/stream_executor/cuda/cuda_gpu_executor.cc:936] successful NUMA node read from SysFS had negative value (-1), but there must be at least one NUMA node, so returning NUMA node zero\n",
      "2023-01-02 15:01:06.959976: I tensorflow/stream_executor/cuda/cuda_gpu_executor.cc:936] successful NUMA node read from SysFS had negative value (-1), but there must be at least one NUMA node, so returning NUMA node zero\n",
      "2023-01-02 15:01:06.960020: I tensorflow/stream_executor/cuda/cuda_gpu_executor.cc:936] successful NUMA node read from SysFS had negative value (-1), but there must be at least one NUMA node, so returning NUMA node zero\n",
      "2023-01-02 15:01:07.220390: I tensorflow/stream_executor/cuda/cuda_gpu_executor.cc:936] successful NUMA node read from SysFS had negative value (-1), but there must be at least one NUMA node, so returning NUMA node zero\n",
      "2023-01-02 15:01:07.220497: I tensorflow/stream_executor/cuda/cuda_gpu_executor.cc:936] successful NUMA node read from SysFS had negative value (-1), but there must be at least one NUMA node, so returning NUMA node zero\n",
      "2023-01-02 15:01:07.220550: I tensorflow/stream_executor/cuda/cuda_gpu_executor.cc:936] successful NUMA node read from SysFS had negative value (-1), but there must be at least one NUMA node, so returning NUMA node zero\n",
      "2023-01-02 15:01:07.220604: I tensorflow/core/common_runtime/gpu/gpu_device.cc:1525] Created device /job:localhost/replica:0/task:0/device:GPU:0 with 46110 MB memory:  -> device: 0, name: NVIDIA RTX A6000, pci bus id: 0000:01:00.0, compute capability: 8.6\n",
      "/home/aivn48/.local/lib/python3.8/site-packages/vit_keras/utils.py:81: UserWarning: Resizing position embeddings from 24, 24 to 16, 16\n",
      "  warnings.warn(\n"
     ]
    },
    {
     "name": "stdout",
     "output_type": "stream",
     "text": [
      "Model: \"model\"\n",
      "_________________________________________________________________\n",
      " Layer (type)                Output Shape              Param #   \n",
      "=================================================================\n",
      " input_1 (InputLayer)        [(None, 32, 32, 3)]       0         \n",
      "                                                                 \n",
      " lambda (Lambda)             (None, 256, 256, 3)       0         \n",
      "                                                                 \n",
      " vit-b16 (Functional)        (None, 768)               85844736  \n",
      "                                                                 \n",
      " flatten (Flatten)           (None, 768)               0         \n",
      "                                                                 \n",
      " batch_normalization (BatchN  (None, 768)              3072      \n",
      " ormalization)                                                   \n",
      "                                                                 \n",
      " dense (Dense)               (None, 32)                24608     \n",
      "                                                                 \n",
      " batch_normalization_1 (Batc  (None, 32)               128       \n",
      " hNormalization)                                                 \n",
      "                                                                 \n",
      " dense_1 (Dense)             (None, 10)                330       \n",
      "                                                                 \n",
      "=================================================================\n",
      "Total params: 85,872,874\n",
      "Trainable params: 85,871,274\n",
      "Non-trainable params: 1,600\n",
      "_________________________________________________________________\n"
     ]
    }
   ],
   "source": [
    "model = build_model()\n",
    "model.summary()"
   ]
  },
  {
   "cell_type": "code",
   "execution_count": null,
   "id": "98bcc425",
   "metadata": {
    "id": "98bcc425"
   },
   "outputs": [],
   "source": []
  },
  {
   "cell_type": "code",
   "execution_count": null,
   "id": "823409c0",
   "metadata": {
    "id": "823409c0"
   },
   "outputs": [],
   "source": []
  },
  {
   "cell_type": "code",
   "execution_count": null,
   "id": "f2d1a533",
   "metadata": {
    "id": "f2d1a533"
   },
   "outputs": [],
   "source": []
  },
  {
   "cell_type": "code",
   "execution_count": null,
   "id": "622388cf",
   "metadata": {
    "id": "622388cf",
    "outputId": "c8332b97-aa6a-468f-83fd-9f97b629c599"
   },
   "outputs": [
    {
     "name": "stdout",
     "output_type": "stream",
     "text": [
      "Epoch 1/15\n"
     ]
    },
    {
     "name": "stderr",
     "output_type": "stream",
     "text": [
      "2023-01-02 15:01:14.556529: I tensorflow/stream_executor/cuda/cuda_dnn.cc:368] Loaded cuDNN version 8302\n",
      "2023-01-02 15:01:15.289630: I tensorflow/stream_executor/cuda/cuda_blas.cc:1786] TensorFloat-32 will be used for the matrix multiplication. This will only be logged once.\n"
     ]
    },
    {
     "name": "stdout",
     "output_type": "stream",
     "text": [
      "391/391 [==============================] - 547s 1s/step - loss: 0.2398 - accuracy: 0.9279 - val_loss: 0.0803 - val_accuracy: 0.9753\n",
      "Epoch 2/15\n",
      "391/391 [==============================] - 540s 1s/step - loss: 0.0992 - accuracy: 0.9684 - val_loss: 0.0752 - val_accuracy: 0.9782\n",
      "Epoch 3/15\n",
      "391/391 [==============================] - 540s 1s/step - loss: 0.0701 - accuracy: 0.9773 - val_loss: 0.0651 - val_accuracy: 0.9814\n",
      "Epoch 4/15\n",
      "391/391 [==============================] - 540s 1s/step - loss: 0.0570 - accuracy: 0.9819 - val_loss: 0.0477 - val_accuracy: 0.9846\n",
      "Epoch 5/15\n",
      "391/391 [==============================] - 541s 1s/step - loss: 0.0506 - accuracy: 0.9832 - val_loss: 0.0475 - val_accuracy: 0.9864\n",
      "Epoch 6/15\n",
      "391/391 [==============================] - 541s 1s/step - loss: 0.0407 - accuracy: 0.9870 - val_loss: 0.0493 - val_accuracy: 0.9851\n",
      "Epoch 7/15\n",
      "391/391 [==============================] - 540s 1s/step - loss: 0.0366 - accuracy: 0.9882 - val_loss: 0.0473 - val_accuracy: 0.9858\n",
      "Epoch 8/15\n",
      "391/391 [==============================] - 541s 1s/step - loss: 0.0295 - accuracy: 0.9904 - val_loss: 0.0460 - val_accuracy: 0.9874\n",
      "Epoch 9/15\n",
      "391/391 [==============================] - 540s 1s/step - loss: 0.0227 - accuracy: 0.9926 - val_loss: 0.0517 - val_accuracy: 0.9865\n",
      "Epoch 10/15\n",
      "391/391 [==============================] - 541s 1s/step - loss: 0.0237 - accuracy: 0.9924 - val_loss: 0.0537 - val_accuracy: 0.9844\n",
      "Epoch 11/15\n",
      "391/391 [==============================] - 541s 1s/step - loss: 0.0229 - accuracy: 0.9926 - val_loss: 0.0491 - val_accuracy: 0.9876\n",
      "Epoch 12/15\n",
      "391/391 [==============================] - 541s 1s/step - loss: 0.0187 - accuracy: 0.9939 - val_loss: 0.0715 - val_accuracy: 0.9823\n",
      "Epoch 13/15\n",
      "391/391 [==============================] - 541s 1s/step - loss: 0.0197 - accuracy: 0.9937 - val_loss: 0.0493 - val_accuracy: 0.9877\n",
      "Epoch 14/15\n",
      "391/391 [==============================] - 540s 1s/step - loss: 0.0143 - accuracy: 0.9954 - val_loss: 0.0555 - val_accuracy: 0.9869\n",
      "Epoch 15/15\n",
      "391/391 [==============================] - 541s 1s/step - loss: 0.0153 - accuracy: 0.9949 - val_loss: 0.0579 - val_accuracy: 0.9856\n"
     ]
    },
    {
     "data": {
      "text/plain": [
       "<keras.callbacks.History at 0x7f8fa01eaa30>"
      ]
     },
     "execution_count": 9,
     "metadata": {},
     "output_type": "execute_result"
    }
   ],
   "source": [
    "# train\n",
    "model.compile(optimizer=optimizers.SGD(learning_rate=0.01, momentum=0.9), \n",
    "              loss=\"categorical_crossentropy\", metrics=[\"accuracy\"])\n",
    "model.fit(train_generator,\n",
    "          epochs=15,\n",
    "          validation_data=(X_test, y_test))"
   ]
  },
  {
   "cell_type": "code",
   "execution_count": null,
   "id": "e4a1d353",
   "metadata": {
    "id": "e4a1d353"
   },
   "outputs": [],
   "source": []
  }
 ],
 "metadata": {
  "colab": {
   "provenance": []
  },
  "kernelspec": {
   "display_name": "Python 3 (ipykernel)",
   "language": "python",
   "name": "python3"
  },
  "language_info": {
   "codemirror_mode": {
    "name": "ipython",
    "version": 3
   },
   "file_extension": ".py",
   "mimetype": "text/x-python",
   "name": "python",
   "nbconvert_exporter": "python",
   "pygments_lexer": "ipython3",
   "version": "3.9.13"
  },
  "toc": {
   "base_numbering": 1,
   "nav_menu": {},
   "number_sections": true,
   "sideBar": true,
   "skip_h1_title": false,
   "title_cell": "Table of Contents",
   "title_sidebar": "Contents",
   "toc_cell": false,
   "toc_position": {},
   "toc_section_display": true,
   "toc_window_display": false
  }
 },
 "nbformat": 4,
 "nbformat_minor": 5
}
