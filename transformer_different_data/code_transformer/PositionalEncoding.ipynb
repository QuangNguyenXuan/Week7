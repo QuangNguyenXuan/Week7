{
 "cells": [
  {
   "cell_type": "code",
   "execution_count": 1,
   "id": "f3e71df0",
   "metadata": {},
   "outputs": [
    {
     "name": "stdout",
     "output_type": "stream",
     "text": [
      "[[ 0.          1.          0.          1.        ]\n",
      " [ 0.84147098  0.54030231  0.09983342  0.99500417]\n",
      " [ 0.90929743 -0.41614684  0.19866933  0.98006658]]\n"
     ]
    }
   ],
   "source": [
    "import numpy as np\n",
    "import matplotlib.pyplot as plt\n",
    "\n",
    "def compute_position_encoding(seq_len, d, n):\n",
    "    result = np.zeros((seq_len, d))\n",
    "    for k in range(seq_len):\n",
    "        for i in np.arange(d//2):\n",
    "            denominator = np.power(n, 2*i/d)\n",
    "            result[k, 2*i] = np.sin(k/denominator)\n",
    "            result[k, 2*i+1] = np.cos(k/denominator)\n",
    "    return result\n",
    "\n",
    "result = compute_position_encoding(seq_len=3, d=4, n=100)\n",
    "print(result)"
   ]
  },
  {
   "cell_type": "code",
   "execution_count": null,
   "id": "37f3a7dd",
   "metadata": {},
   "outputs": [],
   "source": []
  },
  {
   "cell_type": "code",
   "execution_count": null,
   "id": "795e5278",
   "metadata": {},
   "outputs": [],
   "source": [
    "def plotSinusoid(k, d=512, n=10000):\n",
    "    x = np.arange(0, 100, 1)\n",
    "    denominator = np.power(n, 2*x/d)\n",
    "    y = np.sin(k/denominator)\n",
    "    plt.plot(x, y)\n",
    "    plt.title('k = ' + str(k))\n",
    "\n",
    "fig = plt.figure(figsize=(15, 4))    \n",
    "for i in range(4):\n",
    "    plt.subplot(141 + i)\n",
    "    plotSinusoid(i*4)"
   ]
  },
  {
   "cell_type": "code",
   "execution_count": null,
   "id": "f3eddd33",
   "metadata": {},
   "outputs": [],
   "source": []
  },
  {
   "cell_type": "code",
   "execution_count": null,
   "id": "fade47a8",
   "metadata": {},
   "outputs": [],
   "source": [
    "import matplotlib.pyplot as plot\n",
    "import numpy as np\n",
    "\n",
    "%matplotlib qt\n",
    "\n",
    "P = getPositionEncoding(seq_len=10, d=64, n=10000)\n",
    "\n",
    "plot.matshow(P) \n",
    "plot.show()"
   ]
  },
  {
   "cell_type": "code",
   "execution_count": null,
   "id": "56632b11",
   "metadata": {},
   "outputs": [],
   "source": []
  },
  {
   "cell_type": "code",
   "execution_count": null,
   "id": "a8f44557",
   "metadata": {},
   "outputs": [],
   "source": [
    "import numpy as np\n",
    "import matplotlib.pyplot as plt\n",
    "\n",
    "figure = plt.figure()\n",
    "axes = figure.add_subplot(111)\n",
    " \n",
    "# using the matshow() function\n",
    "caxes = axes.matshow(P, interpolation ='nearest')\n",
    "figure.colorbar(caxes)\n",
    " \n",
    "plt.show()"
   ]
  },
  {
   "cell_type": "code",
   "execution_count": null,
   "id": "19ae1f64",
   "metadata": {},
   "outputs": [],
   "source": []
  }
 ],
 "metadata": {
  "kernelspec": {
   "display_name": "Python 3 (ipykernel)",
   "language": "python",
   "name": "python3"
  },
  "language_info": {
   "codemirror_mode": {
    "name": "ipython",
    "version": 3
   },
   "file_extension": ".py",
   "mimetype": "text/x-python",
   "name": "python",
   "nbconvert_exporter": "python",
   "pygments_lexer": "ipython3",
   "version": "3.9.13"
  }
 },
 "nbformat": 4,
 "nbformat_minor": 5
}
