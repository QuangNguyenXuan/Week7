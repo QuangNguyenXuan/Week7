{
 "cells": [
  {
   "cell_type": "code",
   "execution_count": null,
   "metadata": {
    "id": "sc1OLbOWhPCO"
   },
   "outputs": [],
   "source": [
    "import os\n",
    "import tensorflow as tf\n",
    "\n",
    "import IPython.display as display\n",
    "\n",
    "import matplotlib.pyplot as plt\n",
    "import matplotlib as mpl\n",
    "mpl.rcParams['figure.figsize'] = (12, 12)\n",
    "mpl.rcParams['axes.grid'] = False\n",
    "\n",
    "import numpy as np\n",
    "import PIL.Image\n",
    "import time\n",
    "import functools"
   ]
  },
  {
   "cell_type": "code",
   "execution_count": null,
   "metadata": {
    "id": "4F_AZ5HsW_EN"
   },
   "outputs": [],
   "source": []
  },
  {
   "cell_type": "code",
   "execution_count": null,
   "metadata": {
    "colab": {
     "base_uri": "https://localhost:8080/"
    },
    "executionInfo": {
     "elapsed": 7955,
     "status": "ok",
     "timestamp": 1617718183608,
     "user": {
      "displayName": "Quang Vinh",
      "photoUrl": "",
      "userId": "10640784768073460440"
     },
     "user_tz": -420
    },
    "id": "VARw51YwW_Gg",
    "outputId": "6080c59f-fdbb-47b7-ac1b-ff39f9976216"
   },
   "outputs": [
    {
     "name": "stdout",
     "output_type": "stream",
     "text": [
      "Downloading data from https://storage.googleapis.com/tensorflow/keras-applications/vgg19/vgg19_weights_tf_dim_ordering_tf_kernels_notop.h5\n",
      "80142336/80134624 [==============================] - 1s 0us/step\n",
      "Model: \"vgg19\"\n",
      "_________________________________________________________________\n",
      "Layer (type)                 Output Shape              Param #   \n",
      "=================================================================\n",
      "input_1 (InputLayer)         [(None, 400, 400, 3)]     0         \n",
      "_________________________________________________________________\n",
      "block1_conv1 (Conv2D)        (None, 400, 400, 64)      1792      \n",
      "_________________________________________________________________\n",
      "block1_conv2 (Conv2D)        (None, 400, 400, 64)      36928     \n",
      "_________________________________________________________________\n",
      "block1_pool (MaxPooling2D)   (None, 200, 200, 64)      0         \n",
      "_________________________________________________________________\n",
      "block2_conv1 (Conv2D)        (None, 200, 200, 128)     73856     \n",
      "_________________________________________________________________\n",
      "block2_conv2 (Conv2D)        (None, 200, 200, 128)     147584    \n",
      "_________________________________________________________________\n",
      "block2_pool (MaxPooling2D)   (None, 100, 100, 128)     0         \n",
      "_________________________________________________________________\n",
      "block3_conv1 (Conv2D)        (None, 100, 100, 256)     295168    \n",
      "_________________________________________________________________\n",
      "block3_conv2 (Conv2D)        (None, 100, 100, 256)     590080    \n",
      "_________________________________________________________________\n",
      "block3_conv3 (Conv2D)        (None, 100, 100, 256)     590080    \n",
      "_________________________________________________________________\n",
      "block3_conv4 (Conv2D)        (None, 100, 100, 256)     590080    \n",
      "_________________________________________________________________\n",
      "block3_pool (MaxPooling2D)   (None, 50, 50, 256)       0         \n",
      "_________________________________________________________________\n",
      "block4_conv1 (Conv2D)        (None, 50, 50, 512)       1180160   \n",
      "_________________________________________________________________\n",
      "block4_conv2 (Conv2D)        (None, 50, 50, 512)       2359808   \n",
      "_________________________________________________________________\n",
      "block4_conv3 (Conv2D)        (None, 50, 50, 512)       2359808   \n",
      "_________________________________________________________________\n",
      "block4_conv4 (Conv2D)        (None, 50, 50, 512)       2359808   \n",
      "_________________________________________________________________\n",
      "block4_pool (MaxPooling2D)   (None, 25, 25, 512)       0         \n",
      "_________________________________________________________________\n",
      "block5_conv1 (Conv2D)        (None, 25, 25, 512)       2359808   \n",
      "_________________________________________________________________\n",
      "block5_conv2 (Conv2D)        (None, 25, 25, 512)       2359808   \n",
      "_________________________________________________________________\n",
      "block5_conv3 (Conv2D)        (None, 25, 25, 512)       2359808   \n",
      "_________________________________________________________________\n",
      "block5_conv4 (Conv2D)        (None, 25, 25, 512)       2359808   \n",
      "_________________________________________________________________\n",
      "block5_pool (MaxPooling2D)   (None, 12, 12, 512)       0         \n",
      "=================================================================\n",
      "Total params: 20,024,384\n",
      "Trainable params: 20,024,384\n",
      "Non-trainable params: 0\n",
      "_________________________________________________________________\n"
     ]
    }
   ],
   "source": [
    "vgg = tf.keras.applications.VGG19(include_top=False, input_shape=(400, 400, 3), weights='imagenet')\n",
    "vgg.summary()"
   ]
  },
  {
   "cell_type": "code",
   "execution_count": null,
   "metadata": {
    "id": "kqRv_C96hH4Y"
   },
   "outputs": [],
   "source": []
  },
  {
   "cell_type": "code",
   "execution_count": null,
   "metadata": {
    "colab": {
     "base_uri": "https://localhost:8080/"
    },
    "executionInfo": {
     "elapsed": 952,
     "status": "ok",
     "timestamp": 1617718371750,
     "user": {
      "displayName": "Quang Vinh",
      "photoUrl": "",
      "userId": "10640784768073460440"
     },
     "user_tz": -420
    },
    "id": "dVAOEjAkhH6Y",
    "outputId": "e28c690c-2be6-4c50-8b38-61237a1e4df2"
   },
   "outputs": [
    {
     "name": "stdout",
     "output_type": "stream",
     "text": [
      "<tensorflow.python.keras.layers.convolutional.Conv2D object at 0x7fa4d01f2f90>\n"
     ]
    }
   ],
   "source": [
    "layer = vgg.get_layer('block5_conv1')\n",
    "print(layer)"
   ]
  },
  {
   "cell_type": "code",
   "execution_count": null,
   "metadata": {
    "colab": {
     "base_uri": "https://localhost:8080/"
    },
    "executionInfo": {
     "elapsed": 1282,
     "status": "ok",
     "timestamp": 1617718414630,
     "user": {
      "displayName": "Quang Vinh",
      "photoUrl": "",
      "userId": "10640784768073460440"
     },
     "user_tz": -420
    },
    "id": "yUnrh_L2W_In",
    "outputId": "2c6aab15-9239-4b99-b399-7bedb589f996"
   },
   "outputs": [
    {
     "name": "stdout",
     "output_type": "stream",
     "text": [
      "(None, 25, 25, 512)\n"
     ]
    }
   ],
   "source": [
    "output = vgg.get_layer('block5_conv1').output\n",
    "print(output.shape)"
   ]
  },
  {
   "cell_type": "code",
   "execution_count": null,
   "metadata": {
    "id": "9GEXxz-Qh5qG"
   },
   "outputs": [],
   "source": []
  },
  {
   "cell_type": "code",
   "execution_count": null,
   "metadata": {
    "id": "C5oAR3BXh5sA"
   },
   "outputs": [],
   "source": []
  },
  {
   "cell_type": "code",
   "execution_count": null,
   "metadata": {
    "colab": {
     "base_uri": "https://localhost:8080/"
    },
    "executionInfo": {
     "elapsed": 932,
     "status": "ok",
     "timestamp": 1617718473032,
     "user": {
      "displayName": "Quang Vinh",
      "photoUrl": "",
      "userId": "10640784768073460440"
     },
     "user_tz": -420
    },
    "id": "oFpNHx4rXmb2",
    "outputId": "0edadba8-9b46-4943-b85e-995d62602571"
   },
   "outputs": [
    {
     "name": "stdout",
     "output_type": "stream",
     "text": [
      "(None, 25, 25, 512)\n"
     ]
    }
   ],
   "source": [
    "output = vgg.get_layer('block5_conv2').output\n",
    "print(output.shape)"
   ]
  },
  {
   "cell_type": "code",
   "execution_count": null,
   "metadata": {
    "id": "UTxni6CxiN2D"
   },
   "outputs": [],
   "source": []
  },
  {
   "cell_type": "code",
   "execution_count": null,
   "metadata": {
    "id": "EM46vKVkiN4R"
   },
   "outputs": [],
   "source": []
  },
  {
   "cell_type": "code",
   "execution_count": null,
   "metadata": {
    "colab": {
     "base_uri": "https://localhost:8080/"
    },
    "executionInfo": {
     "elapsed": 1531,
     "status": "ok",
     "timestamp": 1617699242187,
     "user": {
      "displayName": "Quang Vinh",
      "photoUrl": "",
      "userId": "10640784768073460440"
     },
     "user_tz": -420
    },
    "id": "HzuyHBb1XmeK",
    "outputId": "34ebea0b-b7d6-4129-8f94-f56b26f0690a"
   },
   "outputs": [
    {
     "name": "stdout",
     "output_type": "stream",
     "text": [
      "[<KerasTensor: shape=(None, 25, 25, 512) dtype=float32 (created by layer 'block5_conv1')>, <KerasTensor: shape=(None, 25, 25, 512) dtype=float32 (created by layer 'block5_conv2')>]\n"
     ]
    }
   ],
   "source": [
    "outputs = [vgg.get_layer('block5_conv1').output, vgg.get_layer('block5_conv2').output]\n",
    "print(outputs)"
   ]
  },
  {
   "cell_type": "code",
   "execution_count": null,
   "metadata": {
    "id": "VasDQOJViQJt"
   },
   "outputs": [],
   "source": []
  },
  {
   "cell_type": "code",
   "execution_count": null,
   "metadata": {
    "id": "hjRxFHPWiQOi"
   },
   "outputs": [],
   "source": []
  },
  {
   "cell_type": "code",
   "execution_count": null,
   "metadata": {
    "id": "Hbh2OtbMYmD_"
   },
   "outputs": [],
   "source": []
  },
  {
   "cell_type": "code",
   "execution_count": null,
   "metadata": {
    "id": "TzntzporZZAC"
   },
   "outputs": [],
   "source": [
    "content_layers = ['block5_conv1']"
   ]
  },
  {
   "cell_type": "code",
   "execution_count": null,
   "metadata": {
    "id": "nfec6MuMAbPx"
   },
   "outputs": [],
   "source": [
    "def get_vgg_layers(layer_names):\n",
    "    vgg = tf.keras.applications.VGG19(include_top=False, weights='imagenet')\n",
    "    vgg.trainable = False\n",
    "\n",
    "    outputs = [vgg.get_layer(name).output for name in layer_names]\n",
    "    model = tf.keras.Model([vgg.input], [outputs])\n",
    "\n",
    "    return model"
   ]
  },
  {
   "cell_type": "code",
   "execution_count": null,
   "metadata": {
    "id": "Vxj_JyPXjjb0"
   },
   "outputs": [],
   "source": []
  },
  {
   "cell_type": "code",
   "execution_count": null,
   "metadata": {
    "id": "LkyvPpBHSfVi"
   },
   "outputs": [],
   "source": [
    "# create the model:\n",
    "content_layers = ['block5_conv2']\n",
    "\n",
    "content_extractor = get_vgg_layers(content_layers)"
   ]
  },
  {
   "cell_type": "code",
   "execution_count": null,
   "metadata": {
    "colab": {
     "base_uri": "https://localhost:8080/"
    },
    "executionInfo": {
     "elapsed": 1520,
     "status": "ok",
     "timestamp": 1617719103649,
     "user": {
      "displayName": "Quang Vinh",
      "photoUrl": "",
      "userId": "10640784768073460440"
     },
     "user_tz": -420
    },
    "id": "m2e47UvKjyuh",
    "outputId": "302cec34-b977-45ef-c6e4-09a0d10a5e71"
   },
   "outputs": [
    {
     "name": "stdout",
     "output_type": "stream",
     "text": [
      "<class 'list'>\n",
      "(1, 25, 25, 512)\n"
     ]
    }
   ],
   "source": [
    "data = tf.random.normal((1, 400, 400, 3))\n",
    "content_outputs = content_extractor(data)\n",
    "print(type(content_outputs))\n",
    "print(content_outputs[0].shape)"
   ]
  },
  {
   "cell_type": "code",
   "execution_count": null,
   "metadata": {
    "id": "uLHE5Vw3jj5F"
   },
   "outputs": [],
   "source": []
  },
  {
   "cell_type": "code",
   "execution_count": null,
   "metadata": {
    "id": "-hx3Gq_vrFoa"
   },
   "outputs": [],
   "source": [
    "\n",
    "# Look at the statistics of each layer's output\n",
    "for name, output in zip(content_layers, content_outputs):\n",
    "    print(name)\n",
    "    print(\"  shape: \", output.numpy().shape)\n",
    "    print(\"  min: \", output.numpy().min())\n",
    "    print(\"  max: \", output.numpy().max())\n",
    "    print(\"  mean: \", output.numpy().mean())\n",
    "    print()"
   ]
  },
  {
   "cell_type": "code",
   "execution_count": null,
   "metadata": {},
   "outputs": [],
   "source": []
  }
 ],
 "metadata": {
  "accelerator": "GPU",
  "colab": {
   "collapsed_sections": [],
   "name": "18.2.Style_transfer_model.ipynb",
   "provenance": [
    {
     "file_id": "1eu64e8pYzCr835p3IGSXu6KFklczZvDc",
     "timestamp": 1617698587260
    },
    {
     "file_id": "1eA6Q7dryWZT4DGQwMFmvaCW_QYo8Ltf4",
     "timestamp": 1617671154757
    },
    {
     "file_id": "1uKC97eANKgKil5ch12Ejh1fmyCLs1sbH",
     "timestamp": 1617669385752
    },
    {
     "file_id": "https://github.com/tensorflow/docs/blob/master/site/en/tutorials/generative/style_transfer.ipynb",
     "timestamp": 1617617366568
    }
   ]
  },
  "kernelspec": {
   "display_name": "Python 3 (ipykernel)",
   "language": "python",
   "name": "python3"
  },
  "language_info": {
   "codemirror_mode": {
    "name": "ipython",
    "version": 3
   },
   "file_extension": ".py",
   "mimetype": "text/x-python",
   "name": "python",
   "nbconvert_exporter": "python",
   "pygments_lexer": "ipython3",
   "version": "3.9.13"
  }
 },
 "nbformat": 4,
 "nbformat_minor": 1
}
