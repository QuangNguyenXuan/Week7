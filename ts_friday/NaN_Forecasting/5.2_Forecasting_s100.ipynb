{
 "cells": [
  {
   "cell_type": "code",
   "execution_count": 1,
   "metadata": {
    "colab": {
     "base_uri": "https://localhost:8080/",
     "height": 442
    },
    "id": "WhRIua4Lq65a",
    "outputId": "3596afc5-8db1-47fb-9663-f4106f021a1d"
   },
   "outputs": [
    {
     "name": "stdout",
     "output_type": "stream",
     "text": [
      "(70000, 2)\n"
     ]
    },
    {
     "data": {
      "text/html": [
       "<div>\n",
       "<style scoped>\n",
       "    .dataframe tbody tr th:only-of-type {\n",
       "        vertical-align: middle;\n",
       "    }\n",
       "\n",
       "    .dataframe tbody tr th {\n",
       "        vertical-align: top;\n",
       "    }\n",
       "\n",
       "    .dataframe thead th {\n",
       "        text-align: right;\n",
       "    }\n",
       "</style>\n",
       "<table border=\"1\" class=\"dataframe\">\n",
       "  <thead>\n",
       "    <tr style=\"text-align: right;\">\n",
       "      <th></th>\n",
       "      <th>Formatted Date</th>\n",
       "      <th>Temperature (C)</th>\n",
       "    </tr>\n",
       "  </thead>\n",
       "  <tbody>\n",
       "    <tr>\n",
       "      <th>0</th>\n",
       "      <td>2006-01-01 00:00:00.000 +0100</td>\n",
       "      <td>0.577778</td>\n",
       "    </tr>\n",
       "    <tr>\n",
       "      <th>1</th>\n",
       "      <td>2006-01-01 01:00:00.000 +0100</td>\n",
       "      <td>1.161111</td>\n",
       "    </tr>\n",
       "    <tr>\n",
       "      <th>2</th>\n",
       "      <td>2006-01-01 02:00:00.000 +0100</td>\n",
       "      <td>1.666667</td>\n",
       "    </tr>\n",
       "    <tr>\n",
       "      <th>3</th>\n",
       "      <td>2006-01-01 03:00:00.000 +0100</td>\n",
       "      <td>1.711111</td>\n",
       "    </tr>\n",
       "    <tr>\n",
       "      <th>4</th>\n",
       "      <td>2006-01-01 04:00:00.000 +0100</td>\n",
       "      <td>1.183333</td>\n",
       "    </tr>\n",
       "    <tr>\n",
       "      <th>5</th>\n",
       "      <td>2006-01-01 05:00:00.000 +0100</td>\n",
       "      <td>1.205556</td>\n",
       "    </tr>\n",
       "    <tr>\n",
       "      <th>6</th>\n",
       "      <td>2006-01-01 06:00:00.000 +0100</td>\n",
       "      <td>2.222222</td>\n",
       "    </tr>\n",
       "    <tr>\n",
       "      <th>7</th>\n",
       "      <td>2006-01-01 07:00:00.000 +0100</td>\n",
       "      <td>2.072222</td>\n",
       "    </tr>\n",
       "    <tr>\n",
       "      <th>8</th>\n",
       "      <td>2006-01-01 08:00:00.000 +0100</td>\n",
       "      <td>2.200000</td>\n",
       "    </tr>\n",
       "    <tr>\n",
       "      <th>9</th>\n",
       "      <td>2006-01-01 09:00:00.000 +0100</td>\n",
       "      <td>2.044559</td>\n",
       "    </tr>\n",
       "    <tr>\n",
       "      <th>10</th>\n",
       "      <td>2006-01-01 10:00:00.000 +0100</td>\n",
       "      <td>2.788889</td>\n",
       "    </tr>\n",
       "    <tr>\n",
       "      <th>11</th>\n",
       "      <td>2006-01-01 11:00:00.000 +0100</td>\n",
       "      <td>3.926437</td>\n",
       "    </tr>\n",
       "    <tr>\n",
       "      <th>12</th>\n",
       "      <td>2006-01-01 12:00:00.000 +0100</td>\n",
       "      <td>4.911111</td>\n",
       "    </tr>\n",
       "    <tr>\n",
       "      <th>13</th>\n",
       "      <td>2006-01-01 13:00:00.000 +0100</td>\n",
       "      <td>6.205555</td>\n",
       "    </tr>\n",
       "    <tr>\n",
       "      <th>14</th>\n",
       "      <td>2006-01-01 14:00:00.000 +0100</td>\n",
       "      <td>5.950381</td>\n",
       "    </tr>\n",
       "  </tbody>\n",
       "</table>\n",
       "</div>"
      ],
      "text/plain": [
       "                   Formatted Date  Temperature (C)\n",
       "0   2006-01-01 00:00:00.000 +0100         0.577778\n",
       "1   2006-01-01 01:00:00.000 +0100         1.161111\n",
       "2   2006-01-01 02:00:00.000 +0100         1.666667\n",
       "3   2006-01-01 03:00:00.000 +0100         1.711111\n",
       "4   2006-01-01 04:00:00.000 +0100         1.183333\n",
       "5   2006-01-01 05:00:00.000 +0100         1.205556\n",
       "6   2006-01-01 06:00:00.000 +0100         2.222222\n",
       "7   2006-01-01 07:00:00.000 +0100         2.072222\n",
       "8   2006-01-01 08:00:00.000 +0100         2.200000\n",
       "9   2006-01-01 09:00:00.000 +0100         2.044559\n",
       "10  2006-01-01 10:00:00.000 +0100         2.788889\n",
       "11  2006-01-01 11:00:00.000 +0100         3.926437\n",
       "12  2006-01-01 12:00:00.000 +0100         4.911111\n",
       "13  2006-01-01 13:00:00.000 +0100         6.205555\n",
       "14  2006-01-01 14:00:00.000 +0100         5.950381"
      ]
     },
     "execution_count": 1,
     "metadata": {},
     "output_type": "execute_result"
    }
   ],
   "source": [
    "import pandas as pd\n",
    "import numpy as np\n",
    "\n",
    "df_train = pd.read_csv('https://www.dropbox.com/s/5ep5ebjf4sd7yn0/weatherHistory_train_filledz_s100.csv?dl=1')\n",
    "print(df_train.shape)\n",
    "df_train.head(15)"
   ]
  },
  {
   "cell_type": "code",
   "execution_count": 2,
   "metadata": {
    "id": "ftgWdTZVq65e"
   },
   "outputs": [],
   "source": [
    "def slicing_window(df, df_start_idx, df_end_idx, input_size, label_size, label_name):\n",
    "    features = [] # Khai báo list dùng để lưu trữ các X\n",
    "    labels = []   # Khai báo list dùng để lưu trữ các y\n",
    "\n",
    "    window_size = input_size + label_size # Tính kích thước của window\n",
    "\n",
    "    # Nếu df_end_idx = chỉ mục cuối cùng bảng dữ liệu, cần phải dời xuống 1 khoảng = window size \n",
    "    if df_end_idx == None:\n",
    "        df_end_idx = len(df) - window_size \n",
    "    \n",
    "    # Duyệt qua từng mẫu dữ liệu\n",
    "    for idx in range(df_start_idx, df_end_idx):\n",
    "        feature_end_idx = idx + input_size # Tính chỉ mục kết thúc của X\n",
    "        label_start_idx = idx + window_size - label_size # Tính chỉ mục bắt đầu của y\n",
    "\n",
    "        feature = df[idx:feature_end_idx] # Lấy X\n",
    "        label = df[label_name][label_start_idx:(idx+window_size)] # Lấy y\n",
    "\n",
    "        features.append(feature) \n",
    "        labels.append(label)\n",
    "\n",
    "    # Chuyển list thành np.ndarrray\n",
    "    features = np.array(features)\n",
    "    labels = np.array(labels)\n",
    "\n",
    "    return features, labels"
   ]
  },
  {
   "cell_type": "code",
   "execution_count": 3,
   "metadata": {
    "id": "ECHSYL5Mq65u"
   },
   "outputs": [],
   "source": [
    "INPUT_SIZE = 48 # Dùng `input_size` giờ trước\n",
    "LABEL_SIZE = 6  # Để dự đoán nhiệt độ trong `label_size` giờ\n",
    "BATCH_SIZE = 32\n",
    "FEATURE_FINAL = ['Temperature (C)']\n",
    "label_name = 'Temperature (C)'"
   ]
  },
  {
   "cell_type": "code",
   "execution_count": 4,
   "metadata": {
    "colab": {
     "base_uri": "https://localhost:8080/"
    },
    "id": "GYQM3PkBq65v",
    "outputId": "86950433-7ec7-4dad-e8be-3a65e5fbcadb"
   },
   "outputs": [
    {
     "name": "stdout",
     "output_type": "stream",
     "text": [
      "(69946, 48, 1)\n",
      "(69946, 6)\n"
     ]
    }
   ],
   "source": [
    "X_train, y_train = slicing_window(df_train[FEATURE_FINAL], \n",
    "                                  df_start_idx=0,\n",
    "                                  df_end_idx=None,\n",
    "                                  input_size=INPUT_SIZE,\n",
    "                                  label_size=LABEL_SIZE,\n",
    "                                  label_name = label_name)\n",
    "\n",
    "print(X_train.shape)\n",
    "print(y_train.shape)"
   ]
  },
  {
   "cell_type": "code",
   "execution_count": 4,
   "metadata": {
    "id": "POpw8ZfZq65v"
   },
   "outputs": [],
   "source": []
  },
  {
   "cell_type": "code",
   "execution_count": 5,
   "metadata": {
    "colab": {
     "base_uri": "https://localhost:8080/",
     "height": 363
    },
    "id": "6orx20nEq65w",
    "outputId": "f903ed64-27e2-4594-c28e-06476b83a844"
   },
   "outputs": [
    {
     "data": {
      "text/html": [
       "\n",
       "  <div id=\"df-5a5641ac-6c9f-4c3d-9df0-a8bb50c541dc\">\n",
       "    <div class=\"colab-df-container\">\n",
       "      <div>\n",
       "<style scoped>\n",
       "    .dataframe tbody tr th:only-of-type {\n",
       "        vertical-align: middle;\n",
       "    }\n",
       "\n",
       "    .dataframe tbody tr th {\n",
       "        vertical-align: top;\n",
       "    }\n",
       "\n",
       "    .dataframe thead th {\n",
       "        text-align: right;\n",
       "    }\n",
       "</style>\n",
       "<table border=\"1\" class=\"dataframe\">\n",
       "  <thead>\n",
       "    <tr style=\"text-align: right;\">\n",
       "      <th></th>\n",
       "      <th>Formatted Date</th>\n",
       "      <th>Temperature (C)</th>\n",
       "    </tr>\n",
       "  </thead>\n",
       "  <tbody>\n",
       "    <tr>\n",
       "      <th>0</th>\n",
       "      <td>2013-12-25 16:00:00.000 +0100</td>\n",
       "      <td>7.777778</td>\n",
       "    </tr>\n",
       "    <tr>\n",
       "      <th>1</th>\n",
       "      <td>2013-12-25 17:00:00.000 +0100</td>\n",
       "      <td>7.194444</td>\n",
       "    </tr>\n",
       "    <tr>\n",
       "      <th>2</th>\n",
       "      <td>2013-12-25 18:00:00.000 +0100</td>\n",
       "      <td>7.127778</td>\n",
       "    </tr>\n",
       "    <tr>\n",
       "      <th>3</th>\n",
       "      <td>2013-12-25 19:00:00.000 +0100</td>\n",
       "      <td>7.111111</td>\n",
       "    </tr>\n",
       "    <tr>\n",
       "      <th>4</th>\n",
       "      <td>2013-12-25 20:00:00.000 +0100</td>\n",
       "      <td>7.066667</td>\n",
       "    </tr>\n",
       "    <tr>\n",
       "      <th>5</th>\n",
       "      <td>2013-12-25 21:00:00.000 +0100</td>\n",
       "      <td>6.600000</td>\n",
       "    </tr>\n",
       "    <tr>\n",
       "      <th>6</th>\n",
       "      <td>2013-12-25 22:00:00.000 +0100</td>\n",
       "      <td>6.438889</td>\n",
       "    </tr>\n",
       "    <tr>\n",
       "      <th>7</th>\n",
       "      <td>2013-12-25 23:00:00.000 +0100</td>\n",
       "      <td>5.972222</td>\n",
       "    </tr>\n",
       "    <tr>\n",
       "      <th>8</th>\n",
       "      <td>2013-12-26 00:00:00.000 +0100</td>\n",
       "      <td>5.416667</td>\n",
       "    </tr>\n",
       "    <tr>\n",
       "      <th>9</th>\n",
       "      <td>2013-12-26 01:00:00.000 +0100</td>\n",
       "      <td>5.333333</td>\n",
       "    </tr>\n",
       "  </tbody>\n",
       "</table>\n",
       "</div>\n",
       "      <button class=\"colab-df-convert\" onclick=\"convertToInteractive('df-5a5641ac-6c9f-4c3d-9df0-a8bb50c541dc')\"\n",
       "              title=\"Convert this dataframe to an interactive table.\"\n",
       "              style=\"display:none;\">\n",
       "        \n",
       "  <svg xmlns=\"http://www.w3.org/2000/svg\" height=\"24px\"viewBox=\"0 0 24 24\"\n",
       "       width=\"24px\">\n",
       "    <path d=\"M0 0h24v24H0V0z\" fill=\"none\"/>\n",
       "    <path d=\"M18.56 5.44l.94 2.06.94-2.06 2.06-.94-2.06-.94-.94-2.06-.94 2.06-2.06.94zm-11 1L8.5 8.5l.94-2.06 2.06-.94-2.06-.94L8.5 2.5l-.94 2.06-2.06.94zm10 10l.94 2.06.94-2.06 2.06-.94-2.06-.94-.94-2.06-.94 2.06-2.06.94z\"/><path d=\"M17.41 7.96l-1.37-1.37c-.4-.4-.92-.59-1.43-.59-.52 0-1.04.2-1.43.59L10.3 9.45l-7.72 7.72c-.78.78-.78 2.05 0 2.83L4 21.41c.39.39.9.59 1.41.59.51 0 1.02-.2 1.41-.59l7.78-7.78 2.81-2.81c.8-.78.8-2.07 0-2.86zM5.41 20L4 18.59l7.72-7.72 1.47 1.35L5.41 20z\"/>\n",
       "  </svg>\n",
       "      </button>\n",
       "      \n",
       "  <style>\n",
       "    .colab-df-container {\n",
       "      display:flex;\n",
       "      flex-wrap:wrap;\n",
       "      gap: 12px;\n",
       "    }\n",
       "\n",
       "    .colab-df-convert {\n",
       "      background-color: #E8F0FE;\n",
       "      border: none;\n",
       "      border-radius: 50%;\n",
       "      cursor: pointer;\n",
       "      display: none;\n",
       "      fill: #1967D2;\n",
       "      height: 32px;\n",
       "      padding: 0 0 0 0;\n",
       "      width: 32px;\n",
       "    }\n",
       "\n",
       "    .colab-df-convert:hover {\n",
       "      background-color: #E2EBFA;\n",
       "      box-shadow: 0px 1px 2px rgba(60, 64, 67, 0.3), 0px 1px 3px 1px rgba(60, 64, 67, 0.15);\n",
       "      fill: #174EA6;\n",
       "    }\n",
       "\n",
       "    [theme=dark] .colab-df-convert {\n",
       "      background-color: #3B4455;\n",
       "      fill: #D2E3FC;\n",
       "    }\n",
       "\n",
       "    [theme=dark] .colab-df-convert:hover {\n",
       "      background-color: #434B5C;\n",
       "      box-shadow: 0px 1px 3px 1px rgba(0, 0, 0, 0.15);\n",
       "      filter: drop-shadow(0px 1px 2px rgba(0, 0, 0, 0.3));\n",
       "      fill: #FFFFFF;\n",
       "    }\n",
       "  </style>\n",
       "\n",
       "      <script>\n",
       "        const buttonEl =\n",
       "          document.querySelector('#df-5a5641ac-6c9f-4c3d-9df0-a8bb50c541dc button.colab-df-convert');\n",
       "        buttonEl.style.display =\n",
       "          google.colab.kernel.accessAllowed ? 'block' : 'none';\n",
       "\n",
       "        async function convertToInteractive(key) {\n",
       "          const element = document.querySelector('#df-5a5641ac-6c9f-4c3d-9df0-a8bb50c541dc');\n",
       "          const dataTable =\n",
       "            await google.colab.kernel.invokeFunction('convertToInteractive',\n",
       "                                                     [key], {});\n",
       "          if (!dataTable) return;\n",
       "\n",
       "          const docLinkHtml = 'Like what you see? Visit the ' +\n",
       "            '<a target=\"_blank\" href=https://colab.research.google.com/notebooks/data_table.ipynb>data table notebook</a>'\n",
       "            + ' to learn more about interactive tables.';\n",
       "          element.innerHTML = '';\n",
       "          dataTable['output_type'] = 'display_data';\n",
       "          await google.colab.output.renderOutput(dataTable, element);\n",
       "          const docLink = document.createElement('div');\n",
       "          docLink.innerHTML = docLinkHtml;\n",
       "          element.appendChild(docLink);\n",
       "        }\n",
       "      </script>\n",
       "    </div>\n",
       "  </div>\n",
       "  "
      ],
      "text/plain": [
       "                  Formatted Date  Temperature (C)\n",
       "0  2013-12-25 16:00:00.000 +0100         7.777778\n",
       "1  2013-12-25 17:00:00.000 +0100         7.194444\n",
       "2  2013-12-25 18:00:00.000 +0100         7.127778\n",
       "3  2013-12-25 19:00:00.000 +0100         7.111111\n",
       "4  2013-12-25 20:00:00.000 +0100         7.066667\n",
       "5  2013-12-25 21:00:00.000 +0100         6.600000\n",
       "6  2013-12-25 22:00:00.000 +0100         6.438889\n",
       "7  2013-12-25 23:00:00.000 +0100         5.972222\n",
       "8  2013-12-26 00:00:00.000 +0100         5.416667\n",
       "9  2013-12-26 01:00:00.000 +0100         5.333333"
      ]
     },
     "execution_count": 5,
     "metadata": {},
     "output_type": "execute_result"
    }
   ],
   "source": [
    "df_test = pd.read_csv('https://www.dropbox.com/s/cq8fypkq0w6728o/weatherHistory_testing.csv?dl=1')\n",
    "df_test.head(10)"
   ]
  },
  {
   "cell_type": "code",
   "execution_count": 6,
   "metadata": {
    "colab": {
     "base_uri": "https://localhost:8080/"
    },
    "id": "lwCQBK1Iq65w",
    "outputId": "97826bf4-1de8-49f6-f127-98fa3ef5e597"
   },
   "outputs": [
    {
     "name": "stdout",
     "output_type": "stream",
     "text": [
      "(26399, 48, 1)\n",
      "(26399, 6)\n"
     ]
    }
   ],
   "source": [
    "X_test, y_test = slicing_window(df_test[FEATURE_FINAL], \n",
    "                                  df_start_idx=0,\n",
    "                                  df_end_idx=None,\n",
    "                                  input_size=INPUT_SIZE,\n",
    "                                  label_size=LABEL_SIZE,\n",
    "                                  label_name = label_name)\n",
    "\n",
    "print(X_test.shape)\n",
    "print(y_test.shape)"
   ]
  },
  {
   "cell_type": "code",
   "execution_count": 6,
   "metadata": {
    "id": "pHmvvB69q65w"
   },
   "outputs": [],
   "source": []
  },
  {
   "cell_type": "code",
   "execution_count": 7,
   "metadata": {
    "id": "5KlI3HW3q65x"
   },
   "outputs": [],
   "source": [
    "import tensorflow as tf\n",
    "\n",
    "# Khởi tạo tf.data.Dataset\n",
    "train_ds = tf.data.Dataset.from_tensor_slices((X_train, y_train)).batch(BATCH_SIZE)\n",
    "test_ds  = tf.data.Dataset.from_tensor_slices((X_test, y_test)).batch(BATCH_SIZE)\n",
    "\n",
    "# Cấu hình các tham số tối ưu cho việc đọc dữ liệu\n",
    "AUTOTUNE = tf.data.AUTOTUNE\n",
    "train_ds = train_ds.cache().prefetch(buffer_size=AUTOTUNE)\n",
    "test_ds  = test_ds.cache().prefetch(buffer_size=AUTOTUNE)"
   ]
  },
  {
   "cell_type": "code",
   "execution_count": 7,
   "metadata": {
    "id": "al0pbJbjq65x"
   },
   "outputs": [],
   "source": []
  },
  {
   "cell_type": "markdown",
   "metadata": {
    "id": "83qZCW7iq65y"
   },
   "source": [
    "## Model and train"
   ]
  },
  {
   "cell_type": "code",
   "execution_count": 8,
   "metadata": {
    "id": "dUqgF_fzq65z"
   },
   "outputs": [],
   "source": [
    "# Khai báo normalization layer\n",
    "normalize_layer = tf.keras.layers.Normalization(axis=-1)\n",
    "normalize_layer.adapt(np.vstack((X_train, X_test)))"
   ]
  },
  {
   "cell_type": "code",
   "execution_count": 9,
   "metadata": {
    "colab": {
     "base_uri": "https://localhost:8080/"
    },
    "id": "epxktHztq650",
    "outputId": "ae76066e-9b55-42b7-af33-c2f7038eb84a"
   },
   "outputs": [
    {
     "name": "stdout",
     "output_type": "stream",
     "text": [
      "Model: \"sequential\"\n",
      "_________________________________________________________________\n",
      " Layer (type)                Output Shape              Param #   \n",
      "=================================================================\n",
      " normalization (Normalizatio  (None, 48, 1)            3         \n",
      " n)                                                              \n",
      "                                                                 \n",
      " lstm (LSTM)                 (None, 32)                4352      \n",
      "                                                                 \n",
      " dense (Dense)               (None, 6)                 198       \n",
      "                                                                 \n",
      "=================================================================\n",
      "Total params: 4,553\n",
      "Trainable params: 4,550\n",
      "Non-trainable params: 3\n",
      "_________________________________________________________________\n"
     ]
    }
   ],
   "source": [
    "model = tf.keras.Sequential([tf.keras.Input(shape=(INPUT_SIZE, 1), name='input_layer'), \n",
    "                             normalize_layer,  \n",
    "                             tf.keras.layers.LSTM(32),  \n",
    "                             tf.keras.layers.Dense(LABEL_SIZE)])\n",
    "\n",
    "model.summary()"
   ]
  },
  {
   "cell_type": "code",
   "execution_count": 9,
   "metadata": {
    "id": "PYP3O67Mq650"
   },
   "outputs": [],
   "source": []
  },
  {
   "cell_type": "code",
   "execution_count": 10,
   "metadata": {
    "colab": {
     "base_uri": "https://localhost:8080/"
    },
    "id": "nl3873a5q650",
    "outputId": "49c1ba34-68c5-499e-e908-958bd414ee94"
   },
   "outputs": [
    {
     "name": "stdout",
     "output_type": "stream",
     "text": [
      "Epoch 1/20\n",
      "2186/2186 [==============================] - 21s 6ms/step - loss: 67.4349 - val_loss: 43.3326\n",
      "Epoch 2/20\n",
      "2186/2186 [==============================] - 13s 6ms/step - loss: 34.2926 - val_loss: 33.4005\n",
      "Epoch 3/20\n",
      "2186/2186 [==============================] - 13s 6ms/step - loss: 16.3828 - val_loss: 16.2486\n",
      "Epoch 4/20\n",
      "2186/2186 [==============================] - 14s 7ms/step - loss: 11.6404 - val_loss: 14.6055\n",
      "Epoch 5/20\n",
      "2186/2186 [==============================] - 13s 6ms/step - loss: 7.0254 - val_loss: 8.6487\n",
      "Epoch 6/20\n",
      "2186/2186 [==============================] - 14s 6ms/step - loss: 5.2234 - val_loss: 11.6094\n",
      "Epoch 7/20\n",
      "2186/2186 [==============================] - 16s 7ms/step - loss: 4.6053 - val_loss: 6.9157\n",
      "Epoch 8/20\n",
      "2186/2186 [==============================] - 13s 6ms/step - loss: 4.4247 - val_loss: 7.1317\n",
      "Epoch 9/20\n",
      "2186/2186 [==============================] - 14s 6ms/step - loss: 4.4073 - val_loss: 6.2504\n",
      "Epoch 10/20\n",
      "2186/2186 [==============================] - 13s 6ms/step - loss: 4.1517 - val_loss: 5.1346\n",
      "Epoch 11/20\n",
      "2186/2186 [==============================] - 13s 6ms/step - loss: 4.1040 - val_loss: 5.0780\n",
      "Epoch 12/20\n",
      "2186/2186 [==============================] - 13s 6ms/step - loss: 4.1096 - val_loss: 4.8684\n",
      "Epoch 13/20\n",
      "2186/2186 [==============================] - 13s 6ms/step - loss: 4.1176 - val_loss: 4.1469\n",
      "Epoch 14/20\n",
      "2186/2186 [==============================] - 13s 6ms/step - loss: 3.8255 - val_loss: 4.0505\n",
      "Epoch 15/20\n",
      "2186/2186 [==============================] - 13s 6ms/step - loss: 3.8363 - val_loss: 4.3722\n",
      "Epoch 16/20\n",
      "2186/2186 [==============================] - 13s 6ms/step - loss: 3.8392 - val_loss: 4.4672\n",
      "Epoch 17/20\n",
      "2186/2186 [==============================] - 13s 6ms/step - loss: 3.8997 - val_loss: 4.1311\n",
      "Epoch 18/20\n",
      "2186/2186 [==============================] - 14s 6ms/step - loss: 3.8534 - val_loss: 5.1991\n",
      "Epoch 19/20\n",
      "2186/2186 [==============================] - 14s 6ms/step - loss: 3.8576 - val_loss: 6.4074\n",
      "Epoch 20/20\n",
      "2186/2186 [==============================] - 13s 6ms/step - loss: 3.7926 - val_loss: 4.7187\n"
     ]
    }
   ],
   "source": [
    "# Khai báo một số giá trị siêu tham số\n",
    "EPOCHS = 20\n",
    "LR = 1e-3\n",
    "\n",
    "# Cấu hình một số thông tin cho mô hình\n",
    "model.compile(optimizer=tf.keras.optimizers.Adam(learning_rate=LR),\n",
    "              loss=tf.keras.losses.MeanSquaredError())\n",
    "history = model.fit(train_ds, \n",
    "                    validation_data=test_ds,\n",
    "                    epochs=EPOCHS)"
   ]
  },
  {
   "cell_type": "code",
   "execution_count": 10,
   "metadata": {
    "id": "CGVazti3q651"
   },
   "outputs": [],
   "source": []
  },
  {
   "cell_type": "code",
   "execution_count": 11,
   "metadata": {
    "colab": {
     "base_uri": "https://localhost:8080/",
     "height": 350
    },
    "id": "1vayA-EFq651",
    "outputId": "0cd0fbee-7006-46f1-fca5-5cfd6c4dc7e6"
   },
   "outputs": [
    {
     "data": {
      "image/png": "[encoded data removed]",
      "text/plain": [
       "<Figure size 720x360 with 2 Axes>"
      ]
     },
     "metadata": {
      "needs_background": "light"
     },
     "output_type": "display_data"
    }
   ],
   "source": [
    "import matplotlib.pyplot as plt\n",
    "\n",
    "train_loss = history.history['loss']# Đọc thông tin loss trên tập train\n",
    "val_loss = history.history['val_loss'] # Đọc thông tin loss trên tập val\n",
    "\n",
    "plt.figure(figsize=(10, 5)) # Cài đặt kích thước khung ảnh\n",
    "\n",
    "plt.subplot(1, 2, 1) # Khởi tạo khung ảnh cho training loss\n",
    "plt.xlabel('Epochs') # Hiển thị tên trục hoành là 'Epochs'\n",
    "plt.ylabel('Loss') # Hiển thị tên trục tung là 'Loss'\n",
    "plt.title('Training loss') # Hiển thị title của khung ảnh hiện tại là 'Training Loss'\n",
    "plt.plot(train_loss, color='red') # Vẽ đường giá trị loss trên tập train qua từng epoch (đường vẽ màu đỏ)\n",
    "\n",
    "plt.subplot(1, 2, 2) # Khởi tạo khung ảnh cho val loss\n",
    "plt.xlabel('Epochs') # Hiển thị tên trục hoành là 'Epochs'\n",
    "plt.ylabel('Loss') # Hiển thị tên trục tung là 'Loss'\n",
    "plt.title('Validation loss') # Hiển thị title của khung ảnh hiện tại là 'Validation loss'\n",
    "plt.plot(val_loss, color='orange') # Vẽ đường giá trị loss trên tập val qua từng epoch (đường vẽ màu đỏ)\n",
    "\n",
    "plt.show() # Hiển thị 2 khung ảnh nhỏ"
   ]
  },
  {
   "cell_type": "code",
   "execution_count": null,
   "metadata": {
    "id": "vXwjt7ugq651"
   },
   "outputs": [],
   "source": []
  }
 ],
 "metadata": {
  "accelerator": "GPU",
  "colab": {
   "provenance": []
  },
  "gpuClass": "standard",
  "kernelspec": {
   "display_name": "Python 3 (ipykernel)",
   "language": "python",
   "name": "python3"
  },
  "language_info": {
   "codemirror_mode": {
    "name": "ipython",
    "version": 3
   },
   "file_extension": ".py",
   "mimetype": "text/x-python",
   "name": "python",
   "nbconvert_exporter": "python",
   "pygments_lexer": "ipython3",
   "version": "3.9.13"
  },
  "toc": {
   "base_numbering": 1,
   "nav_menu": {},
   "number_sections": true,
   "sideBar": true,
   "skip_h1_title": false,
   "title_cell": "Table of Contents",
   "title_sidebar": "Contents",
   "toc_cell": false,
   "toc_position": {},
   "toc_section_display": true,
   "toc_window_display": false
  }
 },
 "nbformat": 4,
 "nbformat_minor": 1
}
