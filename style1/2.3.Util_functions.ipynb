{
 "cells": [
  {
   "cell_type": "code",
   "execution_count": null,
   "metadata": {},
   "outputs": [],
   "source": [
    "import tensorflow as tf\n",
    "\n",
    "url = 'https://storage.googleapis.com/download.tensorflow.org/example_images/YellowLabradorLooking_new.jpg'\n",
    "file_name = 'YellowLabradorLooking_new.jpg'\n",
    "path = tf.keras.utils.get_file(file_name, url)"
   ]
  },
  {
   "cell_type": "code",
   "execution_count": null,
   "metadata": {},
   "outputs": [],
   "source": [
    "print(path)"
   ]
  },
  {
   "cell_type": "code",
   "execution_count": null,
   "metadata": {},
   "outputs": [],
   "source": [
    "img = tf.io.read_file(path)\n",
    "img = tf.image.decode_image(img, channels=3)\n",
    "print(img.shape)\n",
    "print(type(img))"
   ]
  },
  {
   "cell_type": "code",
   "execution_count": null,
   "metadata": {},
   "outputs": [],
   "source": []
  },
  {
   "cell_type": "code",
   "execution_count": null,
   "metadata": {},
   "outputs": [],
   "source": [
    "print(tf.math.reduce_min(img))\n",
    "print(tf.math.reduce_max(img))"
   ]
  },
  {
   "cell_type": "code",
   "execution_count": null,
   "metadata": {},
   "outputs": [],
   "source": []
  },
  {
   "cell_type": "code",
   "execution_count": null,
   "metadata": {},
   "outputs": [],
   "source": [
    "img = tf.image.convert_image_dtype(img, tf.float32)\n",
    "print(tf.math.reduce_min(img))\n",
    "print(tf.math.reduce_max(img))"
   ]
  },
  {
   "cell_type": "code",
   "execution_count": null,
   "metadata": {},
   "outputs": [],
   "source": []
  },
  {
   "cell_type": "code",
   "execution_count": null,
   "metadata": {},
   "outputs": [],
   "source": []
  },
  {
   "cell_type": "code",
   "execution_count": null,
   "metadata": {},
   "outputs": [],
   "source": [
    "# clip_by_value"
   ]
  },
  {
   "cell_type": "code",
   "execution_count": null,
   "metadata": {},
   "outputs": [],
   "source": [
    "data = tf.random.normal((100, 100, 3))\n",
    "print(tf.math.reduce_min(data))\n",
    "print(tf.math.reduce_max(data))"
   ]
  },
  {
   "cell_type": "code",
   "execution_count": null,
   "metadata": {},
   "outputs": [],
   "source": []
  },
  {
   "cell_type": "code",
   "execution_count": null,
   "metadata": {},
   "outputs": [],
   "source": [
    "data = tf.clip_by_value(data, clip_value_min=0.0, clip_value_max=1.0)\n",
    "print(tf.math.reduce_min(data))\n",
    "print(tf.math.reduce_max(data))"
   ]
  },
  {
   "cell_type": "code",
   "execution_count": null,
   "metadata": {},
   "outputs": [],
   "source": []
  },
  {
   "cell_type": "code",
   "execution_count": null,
   "metadata": {},
   "outputs": [],
   "source": []
  },
  {
   "cell_type": "code",
   "execution_count": null,
   "metadata": {},
   "outputs": [],
   "source": [
    "# tf.add_n"
   ]
  },
  {
   "cell_type": "code",
   "execution_count": null,
   "metadata": {},
   "outputs": [],
   "source": [
    "result = tf.add_n([1, 2, 3])\n",
    "print(result)"
   ]
  },
  {
   "cell_type": "code",
   "execution_count": null,
   "metadata": {},
   "outputs": [],
   "source": []
  },
  {
   "cell_type": "code",
   "execution_count": null,
   "metadata": {},
   "outputs": [],
   "source": []
  },
  {
   "cell_type": "code",
   "execution_count": null,
   "metadata": {},
   "outputs": [],
   "source": [
    "# load image"
   ]
  },
  {
   "cell_type": "code",
   "execution_count": null,
   "metadata": {},
   "outputs": [],
   "source": [
    "import PIL.Image\n",
    "import tensorflow as tf\n",
    "import matplotlib.pyplot as plt\n",
    "import IPython.display as display\n",
    "import numpy as np"
   ]
  },
  {
   "cell_type": "code",
   "execution_count": null,
   "metadata": {},
   "outputs": [],
   "source": [
    "def load_img(path_to_img):\n",
    "    img = tf.io.read_file(path_to_img)\n",
    "    img = tf.image.decode_image(img, channels=3)\n",
    "    img = tf.image.convert_image_dtype(img, tf.float32)  \n",
    "    img = tf.image.resize(img, (422, 512))\n",
    "    img = img[tf.newaxis, :]\n",
    "\n",
    "    return img"
   ]
  },
  {
   "cell_type": "code",
   "execution_count": null,
   "metadata": {},
   "outputs": [],
   "source": [
    "def imshow(image, title=None):\n",
    "    if len(image.shape) > 3:\n",
    "        image = tf.squeeze(image, axis=0)\n",
    "\n",
    "    plt.imshow(image)\n",
    "    if title:\n",
    "        plt.title(title)"
   ]
  },
  {
   "cell_type": "code",
   "execution_count": null,
   "metadata": {},
   "outputs": [],
   "source": []
  },
  {
   "cell_type": "code",
   "execution_count": null,
   "metadata": {},
   "outputs": [],
   "source": [
    "url = 'https://storage.googleapis.com/download.tensorflow.org/example_images/YellowLabradorLooking_new.jpg'\n",
    "file_name = 'YellowLabradorLooking_new.jpg'\n",
    "path = tf.keras.utils.get_file(file_name, url)\n",
    "\n",
    "image = load_img(path)\n",
    "imshow(image, 'Content Image')"
   ]
  },
  {
   "cell_type": "code",
   "execution_count": null,
   "metadata": {},
   "outputs": [],
   "source": []
  },
  {
   "cell_type": "code",
   "execution_count": null,
   "metadata": {},
   "outputs": [],
   "source": []
  },
  {
   "cell_type": "code",
   "execution_count": null,
   "metadata": {},
   "outputs": [],
   "source": [
    "def tensor_to_image(tensor):\n",
    "    tensor = tensor*255\n",
    "    tensor = np.array(tensor, dtype=np.uint8)\n",
    "    if np.ndim(tensor)>3:\n",
    "        assert tensor.shape[0] == 1\n",
    "        tensor = tensor[0]\n",
    "    return PIL.Image.fromarray(tensor)"
   ]
  },
  {
   "cell_type": "code",
   "execution_count": null,
   "metadata": {},
   "outputs": [],
   "source": [
    "image = tf.random.uniform( (400, 400, 3), minval=0.0, maxval=1.5)\n",
    "print(image.shape)\n",
    "print(tf.math.reduce_min(image))\n",
    "print(tf.math.reduce_max(image))"
   ]
  },
  {
   "cell_type": "code",
   "execution_count": null,
   "metadata": {},
   "outputs": [],
   "source": []
  },
  {
   "cell_type": "code",
   "execution_count": null,
   "metadata": {},
   "outputs": [],
   "source": [
    "def clip_0_1(image):\n",
    "    return tf.clip_by_value(image, clip_value_min=0.0, clip_value_max=1.0)\n",
    "\n",
    "image = clip_0_1(image)\n",
    "print(tf.math.reduce_min(image))\n",
    "print(tf.math.reduce_max(image))"
   ]
  },
  {
   "cell_type": "code",
   "execution_count": null,
   "metadata": {},
   "outputs": [],
   "source": [
    "display.display(tensor_to_image(image))\n",
    "\n",
    "# (1, 400, 400, 3)"
   ]
  },
  {
   "cell_type": "code",
   "execution_count": null,
   "metadata": {},
   "outputs": [],
   "source": []
  },
  {
   "cell_type": "code",
   "execution_count": null,
   "metadata": {},
   "outputs": [],
   "source": []
  },
  {
   "cell_type": "code",
   "execution_count": null,
   "metadata": {},
   "outputs": [],
   "source": [
    "for _ in range(100):\n",
    "    image = tf.random.uniform( (400,400,3), minval=0.0, maxval=1.5)\n",
    "    image = clip_0_1(image)    \n",
    "    \n",
    "    display.clear_output(wait=True)\n",
    "    display.display(tensor_to_image(image))"
   ]
  },
  {
   "cell_type": "code",
   "execution_count": null,
   "metadata": {},
   "outputs": [],
   "source": []
  },
  {
   "cell_type": "code",
   "execution_count": null,
   "metadata": {},
   "outputs": [],
   "source": []
  },
  {
   "cell_type": "markdown",
   "metadata": {},
   "source": [
    "# Einsum"
   ]
  },
  {
   "cell_type": "code",
   "execution_count": 61,
   "metadata": {},
   "outputs": [
    {
     "name": "stdout",
     "output_type": "stream",
     "text": [
      "tf.Tensor([3 2 4 1], shape=(4,), dtype=int64)\n",
      "tf.Tensor([2 1 0 3], shape=(4,), dtype=int64)\n"
     ]
    }
   ],
   "source": [
    "# vector\n",
    "import tensorflow as tf\n",
    "\n",
    "u = tf.convert_to_tensor([3, 2, 4, 1], dtype=tf.int64)\n",
    "v = tf.convert_to_tensor([2, 1, 0, 3], dtype=tf.int64)\n",
    "\n",
    "print(u)\n",
    "print(v)"
   ]
  },
  {
   "cell_type": "code",
   "execution_count": 63,
   "metadata": {},
   "outputs": [
    {
     "name": "stdout",
     "output_type": "stream",
     "text": [
      "tf.Tensor(\n",
      "[[0 2 1]\n",
      " [3 1 4]], shape=(2, 3), dtype=int64)\n",
      "tf.Tensor(\n",
      "[[2 5]\n",
      " [0 1]\n",
      " [3 4]], shape=(3, 2), dtype=int64)\n"
     ]
    }
   ],
   "source": [
    "# matrix\n",
    "A = tf.convert_to_tensor([[0, 2, 1],\n",
    "                          [3, 1, 4]], dtype=tf.int64)\n",
    "B = tf.convert_to_tensor([[2, 5],\n",
    "                          [0, 1],\n",
    "                          [3, 4]], dtype=tf.int64)\n",
    "\n",
    "print(A)\n",
    "print(B)"
   ]
  },
  {
   "cell_type": "code",
   "execution_count": 64,
   "metadata": {},
   "outputs": [
    {
     "name": "stdout",
     "output_type": "stream",
     "text": [
      "tf.Tensor(\n",
      "[[ 3  6]\n",
      " [18 32]], shape=(2, 2), dtype=int64)\n"
     ]
    }
   ],
   "source": [
    "# Matrix multiplication\n",
    "C = tf.einsum('ij,jk->ik', A, B)\n",
    "print(C)"
   ]
  },
  {
   "cell_type": "code",
   "execution_count": null,
   "metadata": {},
   "outputs": [],
   "source": []
  },
  {
   "cell_type": "code",
   "execution_count": 65,
   "metadata": {},
   "outputs": [
    {
     "name": "stdout",
     "output_type": "stream",
     "text": [
      "tf.Tensor(11, shape=(), dtype=int32)\n"
     ]
    }
   ],
   "source": [
    "import tensorflow as tf\n",
    "\n",
    "u = tf.convert_to_tensor([3, 2, 4, 1])\n",
    "v = tf.convert_to_tensor([2, 1, 0, 3])\n",
    "\n",
    "# dot product\n",
    "r = tf.einsum('i,i->', u, v)\n",
    "print(r)"
   ]
  },
  {
   "cell_type": "code",
   "execution_count": null,
   "metadata": {},
   "outputs": [],
   "source": []
  },
  {
   "cell_type": "code",
   "execution_count": 67,
   "metadata": {},
   "outputs": [
    {
     "name": "stdout",
     "output_type": "stream",
     "text": [
      "tf.Tensor(\n",
      "[[ 6  3  0  9]\n",
      " [ 4  2  0  6]\n",
      " [ 8  4  0 12]\n",
      " [ 2  1  0  3]], shape=(4, 4), dtype=int32)\n"
     ]
    }
   ],
   "source": [
    "import tensorflow as tf\n",
    "\n",
    "u = tf.convert_to_tensor([3, 2, 4, 1])\n",
    "v = tf.convert_to_tensor([2, 1, 0, 3])\n",
    "\n",
    "# outer product\n",
    "r = tf.einsum('i,j->ij', u, v)\n",
    "print(r)"
   ]
  },
  {
   "cell_type": "code",
   "execution_count": null,
   "metadata": {},
   "outputs": [],
   "source": []
  },
  {
   "cell_type": "code",
   "execution_count": 68,
   "metadata": {},
   "outputs": [
    {
     "name": "stdout",
     "output_type": "stream",
     "text": [
      "tf.Tensor(\n",
      "[[0 3]\n",
      " [2 1]\n",
      " [1 4]], shape=(3, 2), dtype=int32)\n"
     ]
    }
   ],
   "source": [
    "import tensorflow as tf\n",
    "\n",
    "# matrix\n",
    "A = tf.convert_to_tensor([[0, 2, 1],\n",
    "                          [3, 1, 4]]))\n",
    "\n",
    "# transpose\n",
    "r = tf.einsum('ij->ji', A)\n",
    "print(r)"
   ]
  },
  {
   "cell_type": "code",
   "execution_count": 71,
   "metadata": {},
   "outputs": [
    {
     "name": "stdout",
     "output_type": "stream",
     "text": [
      "tf.Tensor([5 1 3], shape=(3,), dtype=int32)\n"
     ]
    }
   ],
   "source": [
    "import tensorflow as tf\n",
    "\n",
    "# matrix\n",
    "A = tf.convert_to_tensor([[5, 2, 1],\n",
    "                          [3, 1, 6],\n",
    "                          [2, 4, 3]])\n",
    "\n",
    "# diagonal\n",
    "r = tf.einsum('ii->i', A)\n",
    "print(r)"
   ]
  },
  {
   "cell_type": "code",
   "execution_count": 73,
   "metadata": {},
   "outputs": [
    {
     "name": "stdout",
     "output_type": "stream",
     "text": [
      "tf.Tensor(9, shape=(), dtype=int32)\n"
     ]
    }
   ],
   "source": [
    "import tensorflow as tf\n",
    "\n",
    "# matrix\n",
    "A = tf.convert_to_tensor([[5, 2, 1],\n",
    "                          [3, 1, 6],\n",
    "                          [2, 4, 3]])\n",
    "\n",
    "# trace\n",
    "r = tf.einsum('ii->', A)\n",
    "print(r)"
   ]
  },
  {
   "cell_type": "code",
   "execution_count": 82,
   "metadata": {},
   "outputs": [
    {
     "name": "stdout",
     "output_type": "stream",
     "text": [
      "tf.Tensor(\n",
      "[[3 0 1]\n",
      " [4 2 3]], shape=(2, 3), dtype=int64)\n",
      "tf.Tensor(\n",
      "[[1 0 2]\n",
      " [3 2 1]], shape=(2, 3), dtype=int64)\n",
      "\n",
      "tf.Tensor(\n",
      "[[1 0]\n",
      " [2 2]\n",
      " [1 3]], shape=(3, 2), dtype=int64)\n",
      "tf.Tensor(\n",
      "[[3 1]\n",
      " [0 2]\n",
      " [1 3]], shape=(3, 2), dtype=int64)\n"
     ]
    }
   ],
   "source": [
    "import tensorflow as tf\n",
    "\n",
    "# matrices\n",
    "A = tf.convert_to_tensor([[[3, 0, 1],\n",
    "                           [4, 2, 3]],\n",
    "                          [[1, 0, 2],\n",
    "                           [3, 2, 1]]], dtype=tf.int64)\n",
    "B = tf.convert_to_tensor([[[1, 0],\n",
    "                           [2, 2],\n",
    "                           [1, 3]],\n",
    "                          [[3, 1],\n",
    "                           [0, 2],\n",
    "                           [1, 3]]], dtype=tf.int64)\n",
    "\n",
    "print(A[0])\n",
    "print(A[1])\n",
    "print()\n",
    "print(B[0])\n",
    "print(B[1])"
   ]
  },
  {
   "cell_type": "code",
   "execution_count": 83,
   "metadata": {},
   "outputs": [
    {
     "name": "stdout",
     "output_type": "stream",
     "text": [
      "tf.Tensor(\n",
      "[[ 4  3]\n",
      " [11 13]], shape=(2, 2), dtype=int64)\n",
      "tf.Tensor(\n",
      "[[ 5  7]\n",
      " [10 10]], shape=(2, 2), dtype=int64)\n"
     ]
    }
   ],
   "source": [
    "C = tf.einsum('bij,bjk->bik', A, B)\n",
    "print(C[0])\n",
    "print(C[1])"
   ]
  },
  {
   "cell_type": "code",
   "execution_count": 84,
   "metadata": {},
   "outputs": [
    {
     "name": "stdout",
     "output_type": "stream",
     "text": [
      "tf.Tensor(\n",
      "[[ 3  0  2]\n",
      " [12  4  3]], shape=(2, 3), dtype=int32)\n"
     ]
    }
   ],
   "source": [
    "import tensorflow as tf\n",
    "\n",
    "# matrices\n",
    "A = tf.convert_to_tensor([[3, 0, 1],\n",
    "                          [4, 2, 3]])\n",
    "B = tf.convert_to_tensor([[1, 0, 2],\n",
    "                           [3, 2, 1]])\n",
    "\n",
    "# element-wise multiplication\n",
    "C = tf.einsum('ij,ij->ij', A, B)\n",
    "print(C)"
   ]
  },
  {
   "cell_type": "code",
   "execution_count": null,
   "metadata": {},
   "outputs": [],
   "source": []
  },
  {
   "cell_type": "code",
   "execution_count": 2,
   "metadata": {},
   "outputs": [
    {
     "name": "stdout",
     "output_type": "stream",
     "text": [
      "tf.Tensor(\n",
      "[[10 15]\n",
      " [15 29]], shape=(2, 2), dtype=int32)\n"
     ]
    }
   ],
   "source": [
    "import tensorflow as tf\n",
    "\n",
    "# matrices\n",
    "A = tf.convert_to_tensor([[3, 0, 1],\n",
    "                          [4, 2, 3]])\n",
    "\n",
    "# element-wise multiplication\n",
    "C = tf.einsum('ij,kj->ik', A, A)\n",
    "print(C)"
   ]
  },
  {
   "cell_type": "code",
   "execution_count": null,
   "metadata": {},
   "outputs": [],
   "source": []
  },
  {
   "cell_type": "code",
   "execution_count": null,
   "metadata": {},
   "outputs": [],
   "source": []
  },
  {
   "cell_type": "code",
   "execution_count": 56,
   "metadata": {},
   "outputs": [
    {
     "name": "stdout",
     "output_type": "stream",
     "text": [
      "tf.Tensor([3 2 4 1], shape=(4,), dtype=int64)\n",
      "tf.Tensor([2 1 0 3], shape=(4,), dtype=int64)\n"
     ]
    }
   ],
   "source": [
    "# vector\n",
    "\n",
    "import tensorflow as tf\n",
    "\n",
    "u = tf.convert_to_tensor([3, 2, 4, 1], dtype=tf.int64)\n",
    "v = tf.convert_to_tensor([2, 1, 0, 3], dtype=tf.int64)\n",
    "\n",
    "print(u)\n",
    "print(v)"
   ]
  },
  {
   "cell_type": "code",
   "execution_count": 57,
   "metadata": {},
   "outputs": [
    {
     "name": "stdout",
     "output_type": "stream",
     "text": [
      "tf.Tensor([6 2 0 3], shape=(4,), dtype=int64)\n"
     ]
    }
   ],
   "source": [
    "e = tf.einsum('i,i->i', u, v)\n",
    "print(e)"
   ]
  },
  {
   "cell_type": "code",
   "execution_count": 58,
   "metadata": {},
   "outputs": [
    {
     "name": "stdout",
     "output_type": "stream",
     "text": [
      "tf.Tensor([18 12 24  6], shape=(4,), dtype=int64)\n"
     ]
    }
   ],
   "source": [
    "e = tf.einsum('i,j->i', u, v)\n",
    "print(e)"
   ]
  },
  {
   "cell_type": "code",
   "execution_count": 59,
   "metadata": {},
   "outputs": [
    {
     "name": "stdout",
     "output_type": "stream",
     "text": [
      "tf.Tensor([20 10  0 30], shape=(4,), dtype=int64)\n"
     ]
    }
   ],
   "source": [
    "e = tf.einsum('i,j->j', u, v)\n",
    "print(e)"
   ]
  },
  {
   "cell_type": "code",
   "execution_count": 60,
   "metadata": {},
   "outputs": [
    {
     "name": "stdout",
     "output_type": "stream",
     "text": [
      "tf.Tensor(11, shape=(), dtype=int64)\n"
     ]
    }
   ],
   "source": [
    "e = tf.einsum('i,i->', u, v)\n",
    "print(e)"
   ]
  },
  {
   "cell_type": "code",
   "execution_count": null,
   "metadata": {},
   "outputs": [],
   "source": []
  },
  {
   "cell_type": "code",
   "execution_count": null,
   "metadata": {},
   "outputs": [],
   "source": []
  },
  {
   "cell_type": "code",
   "execution_count": null,
   "metadata": {},
   "outputs": [],
   "source": []
  },
  {
   "cell_type": "code",
   "execution_count": null,
   "metadata": {},
   "outputs": [],
   "source": []
  },
  {
   "cell_type": "code",
   "execution_count": 26,
   "metadata": {},
   "outputs": [
    {
     "name": "stdout",
     "output_type": "stream",
     "text": [
      "tf.Tensor(\n",
      "[[0 2 7]\n",
      " [7 1 4]], shape=(2, 3), dtype=int64)\n",
      "tf.Tensor(\n",
      "[[5 7]\n",
      " [4 1]\n",
      " [5 6]], shape=(3, 2), dtype=int64)\n"
     ]
    }
   ],
   "source": [
    "# matrix\n",
    "\n",
    "A = tf.random.uniform(shape=[2, 3], minval=0, maxval=8, dtype=tf.int64)\n",
    "B = tf.random.uniform(shape=[3, 2], minval=0, maxval=8, dtype=tf.int64)\n",
    "print(A)\n",
    "print(B)"
   ]
  },
  {
   "cell_type": "code",
   "execution_count": null,
   "metadata": {},
   "outputs": [],
   "source": []
  },
  {
   "cell_type": "code",
   "execution_count": null,
   "metadata": {},
   "outputs": [],
   "source": []
  },
  {
   "cell_type": "code",
   "execution_count": null,
   "metadata": {},
   "outputs": [],
   "source": []
  },
  {
   "cell_type": "code",
   "execution_count": 38,
   "metadata": {},
   "outputs": [
    {
     "name": "stdout",
     "output_type": "stream",
     "text": [
      "tf.Tensor(\n",
      "[[0 2 1]\n",
      " [3 1 4]], shape=(2, 3), dtype=int64)\n",
      "tf.Tensor(\n",
      "[[3 1]\n",
      " [0 2]\n",
      " [1 4]], shape=(3, 2), dtype=int64)\n"
     ]
    }
   ],
   "source": [
    "A = tf.convert_to_tensor([[0, 2, 1],\n",
    "                          [3, 1, 4]], dtype=tf.int64)\n",
    "B = tf.convert_to_tensor([[3, 1],\n",
    "                          [0, 2],\n",
    "                          [1, 4]], dtype=tf.int64)\n",
    "\n",
    "print(A)\n",
    "print(B)"
   ]
  },
  {
   "cell_type": "code",
   "execution_count": 39,
   "metadata": {},
   "outputs": [
    {
     "name": "stdout",
     "output_type": "stream",
     "text": [
      "tf.Tensor(\n",
      "[[ 1  8]\n",
      " [13 21]], shape=(2, 2), dtype=int64)\n"
     ]
    }
   ],
   "source": [
    "r = tf.linalg.matmul(A, B)\n",
    "print(r)"
   ]
  },
  {
   "cell_type": "code",
   "execution_count": 40,
   "metadata": {},
   "outputs": [
    {
     "name": "stdout",
     "output_type": "stream",
     "text": [
      "tf.Tensor([ 1 21], shape=(2,), dtype=int64)\n"
     ]
    }
   ],
   "source": [
    "e = tf.einsum('ij,ji->i', A, B)\n",
    "print(e)"
   ]
  },
  {
   "cell_type": "code",
   "execution_count": 41,
   "metadata": {},
   "outputs": [
    {
     "name": "stdout",
     "output_type": "stream",
     "text": [
      "tf.Tensor([ 3  2 17], shape=(3,), dtype=int64)\n"
     ]
    }
   ],
   "source": [
    "e = tf.einsum('ij,ji->j', A, B)\n",
    "print(e)"
   ]
  },
  {
   "cell_type": "code",
   "execution_count": 42,
   "metadata": {},
   "outputs": [
    {
     "name": "stdout",
     "output_type": "stream",
     "text": [
      "tf.Tensor(\n",
      "[[ 0  0  1]\n",
      " [ 3  2 16]], shape=(2, 3), dtype=int64)\n"
     ]
    }
   ],
   "source": [
    "e = tf.einsum('ij,ji->ij', A, B)\n",
    "print(e)"
   ]
  },
  {
   "cell_type": "code",
   "execution_count": 43,
   "metadata": {},
   "outputs": [
    {
     "name": "stdout",
     "output_type": "stream",
     "text": [
      "tf.Tensor(\n",
      "[[ 1  8]\n",
      " [13 21]], shape=(2, 2), dtype=int64)\n"
     ]
    }
   ],
   "source": [
    "e = tf.einsum('ik,kj->ij', A, B)\n",
    "print(e)"
   ]
  },
  {
   "cell_type": "code",
   "execution_count": null,
   "metadata": {},
   "outputs": [],
   "source": []
  },
  {
   "cell_type": "code",
   "execution_count": 3,
   "metadata": {},
   "outputs": [
    {
     "name": "stdout",
     "output_type": "stream",
     "text": [
      "tf.Tensor(\n",
      "[[2 1 2]\n",
      " [3 1 4]], shape=(2, 3), dtype=int64)\n",
      "tf.Tensor(\n",
      "[[2]\n",
      " [3]\n",
      " [0]], shape=(3, 1), dtype=int64)\n"
     ]
    }
   ],
   "source": [
    "m0 = tf.random.uniform(shape=[2, 3], minval=0, maxval=5, dtype=tf.int64)\n",
    "m1 = tf.random.uniform(shape=[3, 1], minval=0, maxval=5, dtype=tf.int64)\n",
    "#e = tf.einsum('ij,jk->ik', m0, m1)\n",
    "\n",
    "# output[i,k] = sum_j m0[i,j] * m1[j, k]\n",
    "print(m0)\n",
    "print(m1)\n",
    "#print(e)"
   ]
  },
  {
   "cell_type": "code",
   "execution_count": 7,
   "metadata": {},
   "outputs": [
    {
     "name": "stdout",
     "output_type": "stream",
     "text": [
      "tf.Tensor(\n",
      "[[13]\n",
      " [10]], shape=(2, 1), dtype=int64)\n"
     ]
    }
   ],
   "source": [
    "e = tf.einsum('ij,jk->ik', m0, m1)\n",
    "print(e)"
   ]
  },
  {
   "cell_type": "code",
   "execution_count": null,
   "metadata": {},
   "outputs": [],
   "source": []
  },
  {
   "cell_type": "code",
   "execution_count": null,
   "metadata": {},
   "outputs": [],
   "source": []
  },
  {
   "cell_type": "code",
   "execution_count": null,
   "metadata": {},
   "outputs": [],
   "source": []
  },
  {
   "cell_type": "code",
   "execution_count": 9,
   "metadata": {},
   "outputs": [
    {
     "name": "stdout",
     "output_type": "stream",
     "text": [
      "(1, 26, 32, 512)\n"
     ]
    }
   ],
   "source": [
    "data = tf.random.uniform(shape=[1, 26, 32, 512], minval=0, maxval=5, dtype=tf.int64)\n",
    "print(data.shape)"
   ]
  },
  {
   "cell_type": "code",
   "execution_count": 10,
   "metadata": {},
   "outputs": [
    {
     "name": "stdout",
     "output_type": "stream",
     "text": [
      "tf.Tensor([[[2 0]]], shape=(1, 1, 2), dtype=int64)\n",
      "tf.Tensor([[[2 0]]], shape=(1, 1, 2), dtype=int64)\n",
      "tf.Tensor([[[1 0]]], shape=(1, 1, 2), dtype=int64)\n",
      "tf.Tensor(\n",
      "[[[4 4 2]\n",
      "  [4 4 2]\n",
      "  [2 2 1]]], shape=(1, 3, 3), dtype=int64)\n"
     ]
    }
   ],
   "source": [
    "data = tf.random.uniform(shape=[1, 1, 2, 3], minval=0, maxval=5, dtype=tf.int64)\n",
    "e = tf.einsum('bijc,bijd->bcd', data, data)\n",
    "\n",
    "print(data[:,:,:,0])\n",
    "print(data[:,:,:,1])\n",
    "print(data[:,:,:,2])\n",
    "print(e)"
   ]
  },
  {
   "cell_type": "code",
   "execution_count": null,
   "metadata": {},
   "outputs": [],
   "source": []
  },
  {
   "cell_type": "markdown",
   "metadata": {},
   "source": [
    "## gram matrix"
   ]
  },
  {
   "cell_type": "code",
   "execution_count": 17,
   "metadata": {},
   "outputs": [
    {
     "name": "stdout",
     "output_type": "stream",
     "text": [
      "[[4 0 3 1]\n",
      " [3 0 1 2]\n",
      " [4 5 0 3]]\n"
     ]
    }
   ],
   "source": [
    "import numpy as np\n",
    "\n",
    "data = np.array([[4, 0, 3, 1],\n",
    "                 [3, 0, 1, 2],\n",
    "                 [4, 5, 0, 3]])\n",
    "print(data)"
   ]
  },
  {
   "cell_type": "code",
   "execution_count": 18,
   "metadata": {},
   "outputs": [
    {
     "name": "stdout",
     "output_type": "stream",
     "text": [
      "[[26 17 19]\n",
      " [17 14 18]\n",
      " [19 18 50]]\n"
     ]
    }
   ],
   "source": [
    "gram = data @ data.T\n",
    "print(gram)"
   ]
  },
  {
   "cell_type": "code",
   "execution_count": 19,
   "metadata": {},
   "outputs": [
    {
     "data": {
      "text/plain": [
       "array([[4, 3, 4],\n",
       "       [0, 0, 5],\n",
       "       [3, 1, 0],\n",
       "       [1, 2, 3]])"
      ]
     },
     "execution_count": 19,
     "metadata": {},
     "output_type": "execute_result"
    }
   ],
   "source": [
    "data.T"
   ]
  },
  {
   "cell_type": "code",
   "execution_count": null,
   "metadata": {},
   "outputs": [],
   "source": []
  }
 ],
 "metadata": {
  "kernelspec": {
   "display_name": "Python 3 (ipykernel)",
   "language": "python",
   "name": "python3"
  },
  "language_info": {
   "codemirror_mode": {
    "name": "ipython",
    "version": 3
   },
   "file_extension": ".py",
   "mimetype": "text/x-python",
   "name": "python",
   "nbconvert_exporter": "python",
   "pygments_lexer": "ipython3",
   "version": "3.9.13"
  }
 },
 "nbformat": 4,
 "nbformat_minor": 2
}
